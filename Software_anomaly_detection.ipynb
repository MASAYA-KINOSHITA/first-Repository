{
  "nbformat": 4,
  "nbformat_minor": 0,
  "metadata": {
    "colab": {
      "name": "Software anomaly detection.ipynb",
      "provenance": [],
      "collapsed_sections": [],
      "mount_file_id": "1ijAiRTubeOWX3eSGmxoArc0r0ixz-9pD",
      "authorship_tag": "ABX9TyMo/mUuJnpuuBd3R6TrxaT5",
      "include_colab_link": true
    },
    "kernelspec": {
      "name": "python3",
      "display_name": "Python 3"
    },
    "language_info": {
      "name": "python"
    }
  },
  "cells": [
    {
      "cell_type": "markdown",
      "metadata": {
        "id": "view-in-github",
        "colab_type": "text"
      },
      "source": [
        "<a href=\"https://colab.research.google.com/github/MASAYA-KINOSHITA/first-Repository/blob/main/Software_anomaly_detection.ipynb\" target=\"_parent\"><img src=\"https://colab.research.google.com/assets/colab-badge.svg\" alt=\"Open In Colab\"/></a>"
      ]
    },
    {
      "cell_type": "code",
      "metadata": {
        "id": "7gm01W8cH8EA"
      },
      "source": [
        "#from モジュール名 import クラス名（もしくは関数名や変数名）\n",
        "import pandas as pd\n",
        "from pandas import DataFrame\n",
        "import numpy as np"
      ],
      "execution_count": null,
      "outputs": []
    },
    {
      "cell_type": "code",
      "metadata": {
        "id": "9gvc7iMBH8EC"
      },
      "source": [
        "# data_train csvファイルの読み込み\n",
        "train_df = pd.read_csv('/content/drive/MyDrive/Nishika ソフトウェアの異常検知/train.zip (Unzipped Files)/train.csv',usecols=['Anomaly','Successful wait for connection : (incld/dx (MXBean(com.bea:Name=source08,Type=JDBCDataSourceRuntime).WaitingForConnectionSuccessTotal))',\n",
        " 'Transaction roll back activity : (incld/dx (MXBean(com.bea:Name=JTARuntime,Type=JTARuntime).TransactionRolledBackTotalCount))',\n",
        " 'GC activity : (incld/dx (MXBean(java.lang:name=PS Scavenge,type=GarbageCollector).CollectionCount))',\n",
        " 'GC time : (incld/dx (MXBean(java.lang:name=PS Scavenge,type=GarbageCollector).CollectionTime))',\n",
        " 'Rel. swap usage : ((MXBean(java.lang:type=OperatingSystem).FreeSwapSpaceSize / MXBean(java.lang:type=OperatingSystem).TotalSwapSpaceSize))',\n",
        " 'Stuck threads : (MXBean(com.bea:Name=ThreadPoolRuntime,Type=ThreadPoolRuntime).StuckThreadCount)',\n",
        " 'Stuck threads : (MXBean(com.bea:ApplicationRuntime=sys01,Name=default,Type=WorkManagerRuntime).StuckThreadCount)',\n",
        " 'Process CPU : (MXBean(java.lang:type=OperatingSystem).ProcessCpuLoad)',\n",
        " 'Rel. heap committed : ((MXBean(java.lang:type=Memory).HeapMemoryUsage.committed / MXBean(java.lang:type=Memory).HeapMemoryUsage.max))',\n",
        " 'System CPU : (MXBean(java.lang:type=OperatingSystem).SystemCpuLoad)',\n",
        " 'Memory space usage : ((MXBean(java.lang:name=PS Eden Space,type=MemoryPool).Usage.committed / MXBean(java.lang:name=PS Eden Space,type=MemoryPool).Usage.max))',\n",
        " 'Process CPU : (\\\\Process(java)\\\\CPU)',\n",
        " 'Rel. heap usage : ((MXBean(java.lang:type=Memory).HeapMemoryUsage.used / MXBean(java.lang:type=Memory).HeapMemoryUsage.max))',\n",
        " 'Rel. open file descriptors : ((MXBean(java.lang:type=OperatingSystem).OpenFileDescriptorCount / MXBean(java.lang:type=OperatingSystem).MaxFileDescriptorCount))',\n",
        " 'Memory space usage : ((MXBean(java.lang:name=PS Old Gen,type=MemoryPool).Usage.committed / MXBean(java.lang:name=PS Old Gen,type=MemoryPool).Usage.max))',\n",
        " 'Memory space usage : ((MXBean(java.lang:name=PS Eden Space,type=MemoryPool).Usage.used / MXBean(java.lang:name=PS Eden Space,type=MemoryPool).Usage.max))',\n",
        " 'Prepared statement cache hit rate : ((MXBean(com.bea:Name=source04,Type=JDBCDataSourceRuntime).PrepStmtCacheHitCount / MXBean(com.bea:Name=source04,Type=JDBCDataSourceRuntime).PrepStmtCacheMissCount))',\n",
        " 'Memory space usage : ((MXBean(java.lang:name=Code Cache,type=MemoryPool).Usage.committed / MXBean(java.lang:name=Code Cache,type=MemoryPool).Usage.max))',\n",
        " 'Prepared statement cache hit rate : ((MXBean(com.bea:Name=source02,Type=JDBCDataSourceRuntime).PrepStmtCacheHitCount / MXBean(com.bea:Name=source02,Type=JDBCDataSourceRuntime).PrepStmtCacheMissCount))',\n",
        " 'Memory space usage : ((MXBean(java.lang:name=PS Perm Gen,type=MemoryPool).Usage.used / MXBean(java.lang:name=PS Perm Gen,type=MemoryPool).Usage.max))',\n",
        " 'Memory space usage : ((MXBean(java.lang:name=PS Old Gen,type=MemoryPool).Usage.used / MXBean(java.lang:name=PS Old Gen,type=MemoryPool).Usage.max))',\n",
        " 'Daemon thread count : (MXBean(java.lang:type=Threading).DaemonThreadCount)',\n",
        " 'host',\n",
        " 'Total thread count : (MXBean(java.lang:type=Threading).ThreadCount)',\n",
        " 'Rel. nonHeap usage : ((MXBean(java.lang:type=Memory).NonHeapMemoryUsage.used / MXBean(java.lang:type=Memory).NonHeapMemoryUsage.max))',\n",
        " 'Rel. physical mem usage : ((MXBean(java.lang:type=OperatingSystem).FreePhysicalMemorySize / MXBean(java.lang:type=OperatingSystem).TotalPhysicalMemorySize))',\n",
        " 'GC time : (incld/dx (MXBean(java.lang:name=PS MarkSweep,type=GarbageCollector).CollectionTime))'])"
      ],
      "execution_count": null,
      "outputs": []
    },
    {
      "cell_type": "code",
      "metadata": {
        "id": "1r4AoRPX_eh-"
      },
      "source": [
        "# data_test csvファイルの読み込み\n",
        "test_df = pd.read_csv('/content/drive/MyDrive/Nishika ソフトウェアの異常検知/test.zip (Unzipped Files)/test.csv',usecols=['Successful wait for connection : (incld/dx (MXBean(com.bea:Name=source08,Type=JDBCDataSourceRuntime).WaitingForConnectionSuccessTotal))',\n",
        " 'Transaction roll back activity : (incld/dx (MXBean(com.bea:Name=JTARuntime,Type=JTARuntime).TransactionRolledBackTotalCount))',\n",
        " 'GC activity : (incld/dx (MXBean(java.lang:name=PS Scavenge,type=GarbageCollector).CollectionCount))',\n",
        " 'GC time : (incld/dx (MXBean(java.lang:name=PS Scavenge,type=GarbageCollector).CollectionTime))',\n",
        " 'Rel. swap usage : ((MXBean(java.lang:type=OperatingSystem).FreeSwapSpaceSize / MXBean(java.lang:type=OperatingSystem).TotalSwapSpaceSize))',\n",
        " 'Stuck threads : (MXBean(com.bea:Name=ThreadPoolRuntime,Type=ThreadPoolRuntime).StuckThreadCount)',\n",
        " 'Stuck threads : (MXBean(com.bea:ApplicationRuntime=sys01,Name=default,Type=WorkManagerRuntime).StuckThreadCount)',\n",
        " 'Process CPU : (MXBean(java.lang:type=OperatingSystem).ProcessCpuLoad)',\n",
        " 'Rel. heap committed : ((MXBean(java.lang:type=Memory).HeapMemoryUsage.committed / MXBean(java.lang:type=Memory).HeapMemoryUsage.max))',\n",
        " 'System CPU : (MXBean(java.lang:type=OperatingSystem).SystemCpuLoad)',\n",
        " 'Memory space usage : ((MXBean(java.lang:name=PS Eden Space,type=MemoryPool).Usage.committed / MXBean(java.lang:name=PS Eden Space,type=MemoryPool).Usage.max))',\n",
        " 'Process CPU : (\\\\Process(java)\\\\CPU)',\n",
        " 'Rel. heap usage : ((MXBean(java.lang:type=Memory).HeapMemoryUsage.used / MXBean(java.lang:type=Memory).HeapMemoryUsage.max))',\n",
        " 'Rel. open file descriptors : ((MXBean(java.lang:type=OperatingSystem).OpenFileDescriptorCount / MXBean(java.lang:type=OperatingSystem).MaxFileDescriptorCount))',\n",
        " 'Memory space usage : ((MXBean(java.lang:name=PS Old Gen,type=MemoryPool).Usage.committed / MXBean(java.lang:name=PS Old Gen,type=MemoryPool).Usage.max))',\n",
        " 'Memory space usage : ((MXBean(java.lang:name=PS Eden Space,type=MemoryPool).Usage.used / MXBean(java.lang:name=PS Eden Space,type=MemoryPool).Usage.max))',\n",
        " 'Prepared statement cache hit rate : ((MXBean(com.bea:Name=source04,Type=JDBCDataSourceRuntime).PrepStmtCacheHitCount / MXBean(com.bea:Name=source04,Type=JDBCDataSourceRuntime).PrepStmtCacheMissCount))',\n",
        " 'Memory space usage : ((MXBean(java.lang:name=Code Cache,type=MemoryPool).Usage.committed / MXBean(java.lang:name=Code Cache,type=MemoryPool).Usage.max))',\n",
        " 'Prepared statement cache hit rate : ((MXBean(com.bea:Name=source02,Type=JDBCDataSourceRuntime).PrepStmtCacheHitCount / MXBean(com.bea:Name=source02,Type=JDBCDataSourceRuntime).PrepStmtCacheMissCount))',\n",
        " 'Memory space usage : ((MXBean(java.lang:name=PS Perm Gen,type=MemoryPool).Usage.used / MXBean(java.lang:name=PS Perm Gen,type=MemoryPool).Usage.max))',\n",
        " 'Memory space usage : ((MXBean(java.lang:name=PS Old Gen,type=MemoryPool).Usage.used / MXBean(java.lang:name=PS Old Gen,type=MemoryPool).Usage.max))',\n",
        " 'Daemon thread count : (MXBean(java.lang:type=Threading).DaemonThreadCount)',\n",
        " 'host',\n",
        " 'Total thread count : (MXBean(java.lang:type=Threading).ThreadCount)',\n",
        " 'Rel. nonHeap usage : ((MXBean(java.lang:type=Memory).NonHeapMemoryUsage.used / MXBean(java.lang:type=Memory).NonHeapMemoryUsage.max))',\n",
        " 'Rel. physical mem usage : ((MXBean(java.lang:type=OperatingSystem).FreePhysicalMemorySize / MXBean(java.lang:type=OperatingSystem).TotalPhysicalMemorySize))',\n",
        " 'GC time : (incld/dx (MXBean(java.lang:name=PS MarkSweep,type=GarbageCollector).CollectionTime))'])"
      ],
      "execution_count": null,
      "outputs": []
    },
    {
      "cell_type": "code",
      "source": [
        "#異常フラグのみのリストを作成\n",
        "train_y=train_df[\"Anomaly\"]"
      ],
      "metadata": {
        "id": "xtOUcUKvKriw"
      },
      "execution_count": null,
      "outputs": []
    },
    {
      "cell_type": "code",
      "source": [
        "#異常フラグ、カテゴリを除いたリストを作成\n",
        "train_x=train_df.drop([\"Anomaly\",\"host\"],axis=1)\n",
        "test_x=test_df.drop([\"host\"],axis=1)"
      ],
      "metadata": {
        "id": "WElPNUcdLC6n"
      },
      "execution_count": null,
      "outputs": []
    },
    {
      "cell_type": "code",
      "source": [
        "train_x = pd.DataFrame(train_x)\n",
        "test_x = pd.DataFrame(test_x)"
      ],
      "metadata": {
        "id": "2B6FfsQKMfzO"
      },
      "execution_count": null,
      "outputs": []
    },
    {
      "cell_type": "code",
      "source": [
        "train_y = pd.Series(train_y)"
      ],
      "metadata": {
        "id": "ywzOmu1WNM8g"
      },
      "execution_count": null,
      "outputs": []
    },
    {
      "cell_type": "code",
      "source": [
        "# ラベルエンコーディング（OrdinalEncoder）\n",
        "from sklearn import preprocessing\n",
        "from sklearn.preprocessing import OrdinalEncoder\n",
        "\n",
        "\n",
        "oe = preprocessing.OrdinalEncoder()\n",
        "train_encoded = oe.fit_transform(train_df[['host']].values)\n",
        "train_decoded = oe.inverse_transform(train_encoded)\n",
        "test_encoded = oe.fit_transform(test_df[['host']].values)\n",
        "test_decoded = oe.inverse_transform(test_encoded)\n",
        "\n",
        "print('エンコード結果: ', [train_encoded,test_encoded])\n",
        "print('元に戻す: ', [train_decoded,test_decoded])"
      ],
      "metadata": {
        "colab": {
          "base_uri": "https://localhost:8080/"
        },
        "id": "kSQuUxH8nIqh",
        "outputId": "8384e93a-0251-4b2e-8b98-4cb434047874"
      },
      "execution_count": null,
      "outputs": [
        {
          "output_type": "stream",
          "name": "stdout",
          "text": [
            "エンコード結果:  [array([[0.],\n",
            "       [0.],\n",
            "       [0.],\n",
            "       ...,\n",
            "       [9.],\n",
            "       [9.],\n",
            "       [9.]]), array([[0.],\n",
            "       [0.],\n",
            "       [0.],\n",
            "       ...,\n",
            "       [9.],\n",
            "       [9.],\n",
            "       [9.]])]\n",
            "元に戻す:  [array([['lphost06'],\n",
            "       ['lphost06'],\n",
            "       ['lphost06'],\n",
            "       ...,\n",
            "       ['lphost18'],\n",
            "       ['lphost18'],\n",
            "       ['lphost18']], dtype=object), array([['lphost06'],\n",
            "       ['lphost06'],\n",
            "       ['lphost06'],\n",
            "       ...,\n",
            "       ['lphost18'],\n",
            "       ['lphost18'],\n",
            "       ['lphost18']], dtype=object)]\n"
          ]
        }
      ]
    },
    {
      "cell_type": "code",
      "source": [
        "train_encoded_df = pd.DataFrame(train_encoded)\n",
        "train_encoded_df.columns=['host']\n",
        "test_encoded_df = pd.DataFrame(test_encoded)\n",
        "test_encoded_df.columns=['host']"
      ],
      "metadata": {
        "id": "VDqT4fXWpcsG"
      },
      "execution_count": null,
      "outputs": []
    },
    {
      "cell_type": "code",
      "source": [
        "#エンコードしたカテゴリデータとカテゴリを除いた訓練データを結合\n",
        "train_x=pd.concat([train_x, train_encoded_df],axis=1)\n",
        "test_x=pd.concat([test_x, test_encoded_df],axis=1)"
      ],
      "metadata": {
        "id": "SaRpCGi0qz2m"
      },
      "execution_count": null,
      "outputs": []
    },
    {
      "cell_type": "code",
      "source": [
        "# 学習データを学習データとバリデーションデータに分ける\n",
        "from sklearn.model_selection import KFold\n",
        "\n",
        "kf = KFold(n_splits=4, shuffle=True, random_state=71)\n",
        "tr_idx, va_idx = list(kf.split(train_x))[0]\n",
        "tr_x, va_x = train_x.iloc[tr_idx], train_x.iloc[va_idx]\n",
        "tr_y, va_y = train_y.iloc[tr_idx], train_y.iloc[va_idx]"
      ],
      "metadata": {
        "id": "rYJiSjHg-WDg"
      },
      "execution_count": null,
      "outputs": []
    },
    {
      "cell_type": "code",
      "source": [
        "# xgboostの実装\n",
        "# -----------------------------------\n",
        "import xgboost as xgb\n",
        "from sklearn.metrics import log_loss\n",
        "\n",
        "# 特徴量と目的変数をxgboostのデータ構造に変換する\n",
        "dtrain = xgb.DMatrix(train_x, label=train_y)\n",
        "dvalid = xgb.DMatrix(va_x,label=va_y)\n",
        "dtest = xgb.DMatrix(test_x)"
      ],
      "metadata": {
        "id": "skHLXFJZsacp"
      },
      "execution_count": null,
      "outputs": []
    },
    {
      "cell_type": "code",
      "source": [
        "# ハイパーパラメータの設定\n",
        "params = {'objective': 'binary:logistic', 'silent': 1, 'random_state': 71}\n",
        "num_round = 50"
      ],
      "metadata": {
        "id": "4A_LiNM_-f-o"
      },
      "execution_count": null,
      "outputs": []
    },
    {
      "cell_type": "code",
      "source": [
        "# 学習の実行\n",
        "# バリデーションデータもモデルに渡し、学習の進行とともにスコアがどう変わるかモニタリングする\n",
        "# watchlistには学習データおよびバリデーションデータをセットする\n",
        "watchlist = [(dtrain, 'train'), (dvalid, 'eval')]\n",
        "model = xgb.train(params, dtrain, num_round, evals=watchlist)"
      ],
      "metadata": {
        "colab": {
          "base_uri": "https://localhost:8080/"
        },
        "id": "MtEOQnpGseNa",
        "outputId": "2991d3c3-7694-41a7-de99-c6c0a60f9a37"
      },
      "execution_count": null,
      "outputs": [
        {
          "output_type": "stream",
          "name": "stdout",
          "text": [
            "[0]\ttrain-error:0.001429\teval-error:0.001475\n",
            "[1]\ttrain-error:0.001145\teval-error:0.001223\n",
            "[2]\ttrain-error:0.001159\teval-error:0.00123\n",
            "[3]\ttrain-error:0.001141\teval-error:0.001214\n",
            "[4]\ttrain-error:0.00104\teval-error:0.001121\n",
            "[5]\ttrain-error:0.001091\teval-error:0.001176\n",
            "[6]\ttrain-error:0.000792\teval-error:0.000847\n",
            "[7]\ttrain-error:0.000868\teval-error:0.000924\n",
            "[8]\ttrain-error:0.000659\teval-error:0.000716\n",
            "[9]\ttrain-error:0.000577\teval-error:0.000603\n",
            "[10]\ttrain-error:0.000468\teval-error:0.000496\n",
            "[11]\ttrain-error:0.000197\teval-error:0.000213\n",
            "[12]\ttrain-error:0.000189\teval-error:0.000202\n",
            "[13]\ttrain-error:0.000181\teval-error:0.000193\n",
            "[14]\ttrain-error:0.000166\teval-error:0.000188\n",
            "[15]\ttrain-error:0.000132\teval-error:0.000159\n",
            "[16]\ttrain-error:9.2e-05\teval-error:0.000109\n",
            "[17]\ttrain-error:7.6e-05\teval-error:8.8e-05\n",
            "[18]\ttrain-error:6.9e-05\teval-error:8.4e-05\n",
            "[19]\ttrain-error:5.3e-05\teval-error:5.9e-05\n",
            "[20]\ttrain-error:5.3e-05\teval-error:5.7e-05\n",
            "[21]\ttrain-error:5.1e-05\teval-error:5.4e-05\n",
            "[22]\ttrain-error:3.6e-05\teval-error:4.1e-05\n",
            "[23]\ttrain-error:3.5e-05\teval-error:3.9e-05\n",
            "[24]\ttrain-error:2.7e-05\teval-error:2.9e-05\n",
            "[25]\ttrain-error:2.7e-05\teval-error:2.9e-05\n",
            "[26]\ttrain-error:2e-05\teval-error:2.3e-05\n",
            "[27]\ttrain-error:2.1e-05\teval-error:2.3e-05\n",
            "[28]\ttrain-error:1.9e-05\teval-error:2.3e-05\n",
            "[29]\ttrain-error:1.2e-05\teval-error:2.3e-05\n",
            "[30]\ttrain-error:1.2e-05\teval-error:2.3e-05\n",
            "[31]\ttrain-error:1.2e-05\teval-error:2.3e-05\n",
            "[32]\ttrain-error:1.1e-05\teval-error:2.3e-05\n",
            "[33]\ttrain-error:9e-06\teval-error:1.6e-05\n",
            "[34]\ttrain-error:1.1e-05\teval-error:2e-05\n",
            "[35]\ttrain-error:7e-06\teval-error:1.1e-05\n",
            "[36]\ttrain-error:6e-06\teval-error:1.1e-05\n",
            "[37]\ttrain-error:6e-06\teval-error:9e-06\n",
            "[38]\ttrain-error:5e-06\teval-error:9e-06\n",
            "[39]\ttrain-error:4e-06\teval-error:7e-06\n",
            "[40]\ttrain-error:3e-06\teval-error:7e-06\n",
            "[41]\ttrain-error:3e-06\teval-error:7e-06\n",
            "[42]\ttrain-error:3e-06\teval-error:7e-06\n",
            "[43]\ttrain-error:3e-06\teval-error:7e-06\n",
            "[44]\ttrain-error:3e-06\teval-error:7e-06\n",
            "[45]\ttrain-error:3e-06\teval-error:7e-06\n",
            "[46]\ttrain-error:3e-06\teval-error:7e-06\n",
            "[47]\ttrain-error:3e-06\teval-error:7e-06\n",
            "[48]\ttrain-error:3e-06\teval-error:7e-06\n",
            "[49]\ttrain-error:3e-06\teval-error:7e-06\n"
          ]
        }
      ]
    },
    {
      "cell_type": "code",
      "source": [
        "# バリデーションデータでのスコアの確認\n",
        "va_pred = model.predict(dvalid)\n",
        "score = log_loss(va_y, va_pred)\n",
        "print(f'logloss: {score:.4f}')"
      ],
      "metadata": {
        "colab": {
          "base_uri": "https://localhost:8080/"
        },
        "id": "n0uL4qhWsmHX",
        "outputId": "96e7c629-35ce-4c92-8246-1c44a95cfd25"
      },
      "execution_count": null,
      "outputs": [
        {
          "output_type": "stream",
          "name": "stdout",
          "text": [
            "logloss: 0.0000\n"
          ]
        }
      ]
    },
    {
      "cell_type": "code",
      "source": [
        "# 構築したモデルの保存\n",
        "import pickle\n",
        "file = '/content/drive/MyDrive/Nishika ソフトウェアの異常検知/モデル/xgboost_trained_model2.pkl'\n",
        "pickle.dump(model, open(file, 'wb'))\n",
        "\n",
        "# 学習済みモデルを削除\n",
        "del model"
      ],
      "metadata": {
        "id": "hWB8MXOaDnmy"
      },
      "execution_count": null,
      "outputs": []
    },
    {
      "cell_type": "code",
      "metadata": {
        "id": "dgmXbDYuLxsw"
      },
      "source": [
        "#from モジュール名 import クラス名（もしくは関数名や変数名）\n",
        "import pandas as pd\n",
        "from pandas import DataFrame\n",
        "import numpy as np\n",
        "import matplotlib.pyplot as plt\n",
        "import seaborn as sns\n",
        "\n",
        "#matplotlibをinlineで表示するためのおまじない (plt.show()しなくていい)\n",
        "%matplotlib inline"
      ],
      "execution_count": null,
      "outputs": []
    },
    {
      "cell_type": "code",
      "source": [
        "# 構築したモデルの読み込み\n",
        "import pickle\n",
        "filename = '/content/drive/MyDrive/Nishika ソフトウェアの異常検知/xgboost_trained_model1.pkl'\n",
        "loaded_model = pickle.load(open(filename, 'rb'))"
      ],
      "metadata": {
        "id": "Z_PYPmY3HEh5"
      },
      "execution_count": null,
      "outputs": []
    },
    {
      "cell_type": "code",
      "source": [
        "# submission csvファイルの読み込み\n",
        "submission_df = pd.read_csv('/content/drive/MyDrive/Nishika ソフトウェアの異常検知/data.zip (Unzipped Files)/sample_submission.csv')"
      ],
      "metadata": {
        "id": "qcF2M4OyDzuA"
      },
      "execution_count": null,
      "outputs": []
    },
    {
      "cell_type": "code",
      "source": [
        "id_df=submission_df.iloc[:,0]\n",
        "id_df.head()"
      ],
      "metadata": {
        "colab": {
          "base_uri": "https://localhost:8080/"
        },
        "id": "rsQhrsT6OWi_",
        "outputId": "3159a570-c3d3-42a1-84f4-74bb5c98090c"
      },
      "execution_count": null,
      "outputs": [
        {
          "output_type": "execute_result",
          "data": {
            "text/plain": [
              "0    0\n",
              "1    1\n",
              "2    2\n",
              "3    3\n",
              "4    4\n",
              "Name: id, dtype: int64"
            ]
          },
          "metadata": {},
          "execution_count": 25
        }
      ]
    },
    {
      "cell_type": "code",
      "source": [
        "pred=loaded_model.predict(dtest)"
      ],
      "metadata": {
        "id": "eSCcGuM7JLHy"
      },
      "execution_count": null,
      "outputs": []
    },
    {
      "cell_type": "code",
      "source": [
        "pred_df = pd.DataFrame(pred)\n",
        "pred_df.head()"
      ],
      "metadata": {
        "colab": {
          "base_uri": "https://localhost:8080/",
          "height": 206
        },
        "id": "HLK86jPqQ1nO",
        "outputId": "9545ab50-3e14-4f40-c1e1-7d99ea1944d9"
      },
      "execution_count": null,
      "outputs": [
        {
          "output_type": "execute_result",
          "data": {
            "text/html": [
              "\n",
              "  <div id=\"df-88ab3a87-3424-4755-915e-0dd91942e929\">\n",
              "    <div class=\"colab-df-container\">\n",
              "      <div>\n",
              "<style scoped>\n",
              "    .dataframe tbody tr th:only-of-type {\n",
              "        vertical-align: middle;\n",
              "    }\n",
              "\n",
              "    .dataframe tbody tr th {\n",
              "        vertical-align: top;\n",
              "    }\n",
              "\n",
              "    .dataframe thead th {\n",
              "        text-align: right;\n",
              "    }\n",
              "</style>\n",
              "<table border=\"1\" class=\"dataframe\">\n",
              "  <thead>\n",
              "    <tr style=\"text-align: right;\">\n",
              "      <th></th>\n",
              "      <th>0</th>\n",
              "    </tr>\n",
              "  </thead>\n",
              "  <tbody>\n",
              "    <tr>\n",
              "      <th>0</th>\n",
              "      <td>9.432552e-07</td>\n",
              "    </tr>\n",
              "    <tr>\n",
              "      <th>1</th>\n",
              "      <td>9.432552e-07</td>\n",
              "    </tr>\n",
              "    <tr>\n",
              "      <th>2</th>\n",
              "      <td>9.432552e-07</td>\n",
              "    </tr>\n",
              "    <tr>\n",
              "      <th>3</th>\n",
              "      <td>9.432552e-07</td>\n",
              "    </tr>\n",
              "    <tr>\n",
              "      <th>4</th>\n",
              "      <td>9.432552e-07</td>\n",
              "    </tr>\n",
              "  </tbody>\n",
              "</table>\n",
              "</div>\n",
              "      <button class=\"colab-df-convert\" onclick=\"convertToInteractive('df-88ab3a87-3424-4755-915e-0dd91942e929')\"\n",
              "              title=\"Convert this dataframe to an interactive table.\"\n",
              "              style=\"display:none;\">\n",
              "        \n",
              "  <svg xmlns=\"http://www.w3.org/2000/svg\" height=\"24px\"viewBox=\"0 0 24 24\"\n",
              "       width=\"24px\">\n",
              "    <path d=\"M0 0h24v24H0V0z\" fill=\"none\"/>\n",
              "    <path d=\"M18.56 5.44l.94 2.06.94-2.06 2.06-.94-2.06-.94-.94-2.06-.94 2.06-2.06.94zm-11 1L8.5 8.5l.94-2.06 2.06-.94-2.06-.94L8.5 2.5l-.94 2.06-2.06.94zm10 10l.94 2.06.94-2.06 2.06-.94-2.06-.94-.94-2.06-.94 2.06-2.06.94z\"/><path d=\"M17.41 7.96l-1.37-1.37c-.4-.4-.92-.59-1.43-.59-.52 0-1.04.2-1.43.59L10.3 9.45l-7.72 7.72c-.78.78-.78 2.05 0 2.83L4 21.41c.39.39.9.59 1.41.59.51 0 1.02-.2 1.41-.59l7.78-7.78 2.81-2.81c.8-.78.8-2.07 0-2.86zM5.41 20L4 18.59l7.72-7.72 1.47 1.35L5.41 20z\"/>\n",
              "  </svg>\n",
              "      </button>\n",
              "      \n",
              "  <style>\n",
              "    .colab-df-container {\n",
              "      display:flex;\n",
              "      flex-wrap:wrap;\n",
              "      gap: 12px;\n",
              "    }\n",
              "\n",
              "    .colab-df-convert {\n",
              "      background-color: #E8F0FE;\n",
              "      border: none;\n",
              "      border-radius: 50%;\n",
              "      cursor: pointer;\n",
              "      display: none;\n",
              "      fill: #1967D2;\n",
              "      height: 32px;\n",
              "      padding: 0 0 0 0;\n",
              "      width: 32px;\n",
              "    }\n",
              "\n",
              "    .colab-df-convert:hover {\n",
              "      background-color: #E2EBFA;\n",
              "      box-shadow: 0px 1px 2px rgba(60, 64, 67, 0.3), 0px 1px 3px 1px rgba(60, 64, 67, 0.15);\n",
              "      fill: #174EA6;\n",
              "    }\n",
              "\n",
              "    [theme=dark] .colab-df-convert {\n",
              "      background-color: #3B4455;\n",
              "      fill: #D2E3FC;\n",
              "    }\n",
              "\n",
              "    [theme=dark] .colab-df-convert:hover {\n",
              "      background-color: #434B5C;\n",
              "      box-shadow: 0px 1px 3px 1px rgba(0, 0, 0, 0.15);\n",
              "      filter: drop-shadow(0px 1px 2px rgba(0, 0, 0, 0.3));\n",
              "      fill: #FFFFFF;\n",
              "    }\n",
              "  </style>\n",
              "\n",
              "      <script>\n",
              "        const buttonEl =\n",
              "          document.querySelector('#df-88ab3a87-3424-4755-915e-0dd91942e929 button.colab-df-convert');\n",
              "        buttonEl.style.display =\n",
              "          google.colab.kernel.accessAllowed ? 'block' : 'none';\n",
              "\n",
              "        async function convertToInteractive(key) {\n",
              "          const element = document.querySelector('#df-88ab3a87-3424-4755-915e-0dd91942e929');\n",
              "          const dataTable =\n",
              "            await google.colab.kernel.invokeFunction('convertToInteractive',\n",
              "                                                     [key], {});\n",
              "          if (!dataTable) return;\n",
              "\n",
              "          const docLinkHtml = 'Like what you see? Visit the ' +\n",
              "            '<a target=\"_blank\" href=https://colab.research.google.com/notebooks/data_table.ipynb>data table notebook</a>'\n",
              "            + ' to learn more about interactive tables.';\n",
              "          element.innerHTML = '';\n",
              "          dataTable['output_type'] = 'display_data';\n",
              "          await google.colab.output.renderOutput(dataTable, element);\n",
              "          const docLink = document.createElement('div');\n",
              "          docLink.innerHTML = docLinkHtml;\n",
              "          element.appendChild(docLink);\n",
              "        }\n",
              "      </script>\n",
              "    </div>\n",
              "  </div>\n",
              "  "
            ],
            "text/plain": [
              "              0\n",
              "0  9.432552e-07\n",
              "1  9.432552e-07\n",
              "2  9.432552e-07\n",
              "3  9.432552e-07\n",
              "4  9.432552e-07"
            ]
          },
          "metadata": {},
          "execution_count": 21
        }
      ]
    },
    {
      "cell_type": "code",
      "source": [
        "output_df=pd.concat([id_df, pred_df],axis=1)\n",
        "output_df.columns=['id','Anomaly']\n",
        "output_df.head()"
      ],
      "metadata": {
        "colab": {
          "base_uri": "https://localhost:8080/",
          "height": 206
        },
        "id": "7j91XkMqRILo",
        "outputId": "7d61c918-5e76-44de-dfdd-97b5ad08dffa"
      },
      "execution_count": null,
      "outputs": [
        {
          "output_type": "execute_result",
          "data": {
            "text/html": [
              "\n",
              "  <div id=\"df-2cf0bb3b-ce80-4159-ae8e-81b91ccb3f0c\">\n",
              "    <div class=\"colab-df-container\">\n",
              "      <div>\n",
              "<style scoped>\n",
              "    .dataframe tbody tr th:only-of-type {\n",
              "        vertical-align: middle;\n",
              "    }\n",
              "\n",
              "    .dataframe tbody tr th {\n",
              "        vertical-align: top;\n",
              "    }\n",
              "\n",
              "    .dataframe thead th {\n",
              "        text-align: right;\n",
              "    }\n",
              "</style>\n",
              "<table border=\"1\" class=\"dataframe\">\n",
              "  <thead>\n",
              "    <tr style=\"text-align: right;\">\n",
              "      <th></th>\n",
              "      <th>id</th>\n",
              "      <th>Anomaly</th>\n",
              "    </tr>\n",
              "  </thead>\n",
              "  <tbody>\n",
              "    <tr>\n",
              "      <th>0</th>\n",
              "      <td>0</td>\n",
              "      <td>9.432552e-07</td>\n",
              "    </tr>\n",
              "    <tr>\n",
              "      <th>1</th>\n",
              "      <td>1</td>\n",
              "      <td>9.432552e-07</td>\n",
              "    </tr>\n",
              "    <tr>\n",
              "      <th>2</th>\n",
              "      <td>2</td>\n",
              "      <td>9.432552e-07</td>\n",
              "    </tr>\n",
              "    <tr>\n",
              "      <th>3</th>\n",
              "      <td>3</td>\n",
              "      <td>9.432552e-07</td>\n",
              "    </tr>\n",
              "    <tr>\n",
              "      <th>4</th>\n",
              "      <td>4</td>\n",
              "      <td>9.432552e-07</td>\n",
              "    </tr>\n",
              "  </tbody>\n",
              "</table>\n",
              "</div>\n",
              "      <button class=\"colab-df-convert\" onclick=\"convertToInteractive('df-2cf0bb3b-ce80-4159-ae8e-81b91ccb3f0c')\"\n",
              "              title=\"Convert this dataframe to an interactive table.\"\n",
              "              style=\"display:none;\">\n",
              "        \n",
              "  <svg xmlns=\"http://www.w3.org/2000/svg\" height=\"24px\"viewBox=\"0 0 24 24\"\n",
              "       width=\"24px\">\n",
              "    <path d=\"M0 0h24v24H0V0z\" fill=\"none\"/>\n",
              "    <path d=\"M18.56 5.44l.94 2.06.94-2.06 2.06-.94-2.06-.94-.94-2.06-.94 2.06-2.06.94zm-11 1L8.5 8.5l.94-2.06 2.06-.94-2.06-.94L8.5 2.5l-.94 2.06-2.06.94zm10 10l.94 2.06.94-2.06 2.06-.94-2.06-.94-.94-2.06-.94 2.06-2.06.94z\"/><path d=\"M17.41 7.96l-1.37-1.37c-.4-.4-.92-.59-1.43-.59-.52 0-1.04.2-1.43.59L10.3 9.45l-7.72 7.72c-.78.78-.78 2.05 0 2.83L4 21.41c.39.39.9.59 1.41.59.51 0 1.02-.2 1.41-.59l7.78-7.78 2.81-2.81c.8-.78.8-2.07 0-2.86zM5.41 20L4 18.59l7.72-7.72 1.47 1.35L5.41 20z\"/>\n",
              "  </svg>\n",
              "      </button>\n",
              "      \n",
              "  <style>\n",
              "    .colab-df-container {\n",
              "      display:flex;\n",
              "      flex-wrap:wrap;\n",
              "      gap: 12px;\n",
              "    }\n",
              "\n",
              "    .colab-df-convert {\n",
              "      background-color: #E8F0FE;\n",
              "      border: none;\n",
              "      border-radius: 50%;\n",
              "      cursor: pointer;\n",
              "      display: none;\n",
              "      fill: #1967D2;\n",
              "      height: 32px;\n",
              "      padding: 0 0 0 0;\n",
              "      width: 32px;\n",
              "    }\n",
              "\n",
              "    .colab-df-convert:hover {\n",
              "      background-color: #E2EBFA;\n",
              "      box-shadow: 0px 1px 2px rgba(60, 64, 67, 0.3), 0px 1px 3px 1px rgba(60, 64, 67, 0.15);\n",
              "      fill: #174EA6;\n",
              "    }\n",
              "\n",
              "    [theme=dark] .colab-df-convert {\n",
              "      background-color: #3B4455;\n",
              "      fill: #D2E3FC;\n",
              "    }\n",
              "\n",
              "    [theme=dark] .colab-df-convert:hover {\n",
              "      background-color: #434B5C;\n",
              "      box-shadow: 0px 1px 3px 1px rgba(0, 0, 0, 0.15);\n",
              "      filter: drop-shadow(0px 1px 2px rgba(0, 0, 0, 0.3));\n",
              "      fill: #FFFFFF;\n",
              "    }\n",
              "  </style>\n",
              "\n",
              "      <script>\n",
              "        const buttonEl =\n",
              "          document.querySelector('#df-2cf0bb3b-ce80-4159-ae8e-81b91ccb3f0c button.colab-df-convert');\n",
              "        buttonEl.style.display =\n",
              "          google.colab.kernel.accessAllowed ? 'block' : 'none';\n",
              "\n",
              "        async function convertToInteractive(key) {\n",
              "          const element = document.querySelector('#df-2cf0bb3b-ce80-4159-ae8e-81b91ccb3f0c');\n",
              "          const dataTable =\n",
              "            await google.colab.kernel.invokeFunction('convertToInteractive',\n",
              "                                                     [key], {});\n",
              "          if (!dataTable) return;\n",
              "\n",
              "          const docLinkHtml = 'Like what you see? Visit the ' +\n",
              "            '<a target=\"_blank\" href=https://colab.research.google.com/notebooks/data_table.ipynb>data table notebook</a>'\n",
              "            + ' to learn more about interactive tables.';\n",
              "          element.innerHTML = '';\n",
              "          dataTable['output_type'] = 'display_data';\n",
              "          await google.colab.output.renderOutput(dataTable, element);\n",
              "          const docLink = document.createElement('div');\n",
              "          docLink.innerHTML = docLinkHtml;\n",
              "          element.appendChild(docLink);\n",
              "        }\n",
              "      </script>\n",
              "    </div>\n",
              "  </div>\n",
              "  "
            ],
            "text/plain": [
              "   id       Anomaly\n",
              "0   0  9.432552e-07\n",
              "1   1  9.432552e-07\n",
              "2   2  9.432552e-07\n",
              "3   3  9.432552e-07\n",
              "4   4  9.432552e-07"
            ]
          },
          "metadata": {},
          "execution_count": 26
        }
      ]
    },
    {
      "cell_type": "code",
      "source": [
        "output_df.to_csv('/content/drive/MyDrive/Nishika ソフトウェアの異常検知/提出用ファイル/output3.csv',index=False)"
      ],
      "metadata": {
        "id": "osfzFXurLBEo"
      },
      "execution_count": null,
      "outputs": []
    }
  ]
}
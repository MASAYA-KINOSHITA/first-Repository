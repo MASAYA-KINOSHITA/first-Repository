{
  "nbformat": 4,
  "nbformat_minor": 0,
  "metadata": {
    "colab": {
      "name": "Software anomaly detection_相関係数25_param_tuning.ipynb  のコピー",
      "provenance": [],
      "collapsed_sections": [],
      "mount_file_id": "17cbPeheqdc_b9OSJwFNzQmNhLxSjDtD-",
      "authorship_tag": "ABX9TyMX+R+v56L92Ivjtt793f0h",
      "include_colab_link": true
    },
    "kernelspec": {
      "name": "python3",
      "display_name": "Python 3"
    },
    "language_info": {
      "name": "python"
    }
  },
  "cells": [
    {
      "cell_type": "markdown",
      "metadata": {
        "id": "view-in-github",
        "colab_type": "text"
      },
      "source": [
        "<a href=\"https://colab.research.google.com/github/MASAYA-KINOSHITA/first-Repository/blob/main/Software_anomaly_detection.ipynb\" target=\"_parent\"><img src=\"https://colab.research.google.com/assets/colab-badge.svg\" alt=\"Open In Colab\"/></a>"
      ]
    },
    {
      "cell_type": "code",
      "metadata": {
        "id": "7gm01W8cH8EA"
      },
      "source": [
        "#from モジュール名 import クラス名（もしくは関数名や変数名）\n",
        "import pandas as pd\n",
        "from pandas import DataFrame\n",
        "import numpy as np"
      ],
      "execution_count": 1,
      "outputs": []
    },
    {
      "cell_type": "code",
      "metadata": {
        "id": "9gvc7iMBH8EC"
      },
      "source": [
        "# data_train csvファイルの読み込み\n",
        "train_df = pd.read_csv('/content/drive/MyDrive/Nishika ソフトウェアの異常検知/train.zip (Unzipped Files)/train.csv',usecols=['Anomaly',\n",
        " 'GC activity : (incld/dx (MXBean(java.lang:name=PS Scavenge,type=GarbageCollector).CollectionCount))',\n",
        " 'GC time : (incld/dx (MXBean(java.lang:name=PS Scavenge,type=GarbageCollector).CollectionTime))',\n",
        " 'Rel. swap usage : ((MXBean(java.lang:type=OperatingSystem).FreeSwapSpaceSize / MXBean(java.lang:type=OperatingSystem).TotalSwapSpaceSize))',\n",
        " 'Stuck threads : (MXBean(com.bea:Name=ThreadPoolRuntime,Type=ThreadPoolRuntime).StuckThreadCount)',\n",
        " 'Stuck threads : (MXBean(com.bea:ApplicationRuntime=sys01,Name=default,Type=WorkManagerRuntime).StuckThreadCount)',\n",
        " 'Process CPU : (MXBean(java.lang:type=OperatingSystem).ProcessCpuLoad)',\n",
        " 'Rel. heap committed : ((MXBean(java.lang:type=Memory).HeapMemoryUsage.committed / MXBean(java.lang:type=Memory).HeapMemoryUsage.max))',\n",
        " 'System CPU : (MXBean(java.lang:type=OperatingSystem).SystemCpuLoad)',\n",
        " 'Memory space usage : ((MXBean(java.lang:name=PS Eden Space,type=MemoryPool).Usage.committed / MXBean(java.lang:name=PS Eden Space,type=MemoryPool).Usage.max))',\n",
        " 'Process CPU : (\\\\Process(java)\\\\CPU)',\n",
        " 'Rel. heap usage : ((MXBean(java.lang:type=Memory).HeapMemoryUsage.used / MXBean(java.lang:type=Memory).HeapMemoryUsage.max))',\n",
        " 'Rel. open file descriptors : ((MXBean(java.lang:type=OperatingSystem).OpenFileDescriptorCount / MXBean(java.lang:type=OperatingSystem).MaxFileDescriptorCount))',\n",
        " 'Memory space usage : ((MXBean(java.lang:name=PS Old Gen,type=MemoryPool).Usage.committed / MXBean(java.lang:name=PS Old Gen,type=MemoryPool).Usage.max))',\n",
        " 'Memory space usage : ((MXBean(java.lang:name=PS Eden Space,type=MemoryPool).Usage.used / MXBean(java.lang:name=PS Eden Space,type=MemoryPool).Usage.max))',\n",
        " 'Prepared statement cache hit rate : ((MXBean(com.bea:Name=source04,Type=JDBCDataSourceRuntime).PrepStmtCacheHitCount / MXBean(com.bea:Name=source04,Type=JDBCDataSourceRuntime).PrepStmtCacheMissCount))',\n",
        " 'Memory space usage : ((MXBean(java.lang:name=Code Cache,type=MemoryPool).Usage.committed / MXBean(java.lang:name=Code Cache,type=MemoryPool).Usage.max))',\n",
        " 'Prepared statement cache hit rate : ((MXBean(com.bea:Name=source02,Type=JDBCDataSourceRuntime).PrepStmtCacheHitCount / MXBean(com.bea:Name=source02,Type=JDBCDataSourceRuntime).PrepStmtCacheMissCount))',\n",
        " 'Memory space usage : ((MXBean(java.lang:name=PS Perm Gen,type=MemoryPool).Usage.used / MXBean(java.lang:name=PS Perm Gen,type=MemoryPool).Usage.max))',\n",
        " 'Memory space usage : ((MXBean(java.lang:name=PS Old Gen,type=MemoryPool).Usage.used / MXBean(java.lang:name=PS Old Gen,type=MemoryPool).Usage.max))',\n",
        " 'Daemon thread count : (MXBean(java.lang:type=Threading).DaemonThreadCount)',\n",
        " 'host',\n",
        " 'Total thread count : (MXBean(java.lang:type=Threading).ThreadCount)',\n",
        " 'Rel. nonHeap usage : ((MXBean(java.lang:type=Memory).NonHeapMemoryUsage.used / MXBean(java.lang:type=Memory).NonHeapMemoryUsage.max))',\n",
        " 'Rel. physical mem usage : ((MXBean(java.lang:type=OperatingSystem).FreePhysicalMemorySize / MXBean(java.lang:type=OperatingSystem).TotalPhysicalMemorySize))',\n",
        " 'GC time : (incld/dx (MXBean(java.lang:name=PS MarkSweep,type=GarbageCollector).CollectionTime))'\n",
        " ])"
      ],
      "execution_count": 2,
      "outputs": []
    },
    {
      "cell_type": "code",
      "metadata": {
        "id": "1r4AoRPX_eh-"
      },
      "source": [
        "# data_test csvファイルの読み込み\n",
        "test_df = pd.read_csv('/content/drive/MyDrive/Nishika ソフトウェアの異常検知/test.zip (Unzipped Files)/test.csv',usecols=[\n",
        " 'GC activity : (incld/dx (MXBean(java.lang:name=PS Scavenge,type=GarbageCollector).CollectionCount))',\n",
        " 'GC time : (incld/dx (MXBean(java.lang:name=PS Scavenge,type=GarbageCollector).CollectionTime))',\n",
        " 'Rel. swap usage : ((MXBean(java.lang:type=OperatingSystem).FreeSwapSpaceSize / MXBean(java.lang:type=OperatingSystem).TotalSwapSpaceSize))',\n",
        " 'Stuck threads : (MXBean(com.bea:Name=ThreadPoolRuntime,Type=ThreadPoolRuntime).StuckThreadCount)',\n",
        " 'Stuck threads : (MXBean(com.bea:ApplicationRuntime=sys01,Name=default,Type=WorkManagerRuntime).StuckThreadCount)',\n",
        " 'Process CPU : (MXBean(java.lang:type=OperatingSystem).ProcessCpuLoad)',\n",
        " 'Rel. heap committed : ((MXBean(java.lang:type=Memory).HeapMemoryUsage.committed / MXBean(java.lang:type=Memory).HeapMemoryUsage.max))',\n",
        " 'System CPU : (MXBean(java.lang:type=OperatingSystem).SystemCpuLoad)',\n",
        " 'Memory space usage : ((MXBean(java.lang:name=PS Eden Space,type=MemoryPool).Usage.committed / MXBean(java.lang:name=PS Eden Space,type=MemoryPool).Usage.max))',\n",
        " 'Process CPU : (\\\\Process(java)\\\\CPU)',\n",
        " 'Rel. heap usage : ((MXBean(java.lang:type=Memory).HeapMemoryUsage.used / MXBean(java.lang:type=Memory).HeapMemoryUsage.max))',\n",
        " 'Rel. open file descriptors : ((MXBean(java.lang:type=OperatingSystem).OpenFileDescriptorCount / MXBean(java.lang:type=OperatingSystem).MaxFileDescriptorCount))',\n",
        " 'Memory space usage : ((MXBean(java.lang:name=PS Old Gen,type=MemoryPool).Usage.committed / MXBean(java.lang:name=PS Old Gen,type=MemoryPool).Usage.max))',\n",
        " 'Memory space usage : ((MXBean(java.lang:name=PS Eden Space,type=MemoryPool).Usage.used / MXBean(java.lang:name=PS Eden Space,type=MemoryPool).Usage.max))',\n",
        " 'Prepared statement cache hit rate : ((MXBean(com.bea:Name=source04,Type=JDBCDataSourceRuntime).PrepStmtCacheHitCount / MXBean(com.bea:Name=source04,Type=JDBCDataSourceRuntime).PrepStmtCacheMissCount))',\n",
        " 'Memory space usage : ((MXBean(java.lang:name=Code Cache,type=MemoryPool).Usage.committed / MXBean(java.lang:name=Code Cache,type=MemoryPool).Usage.max))',\n",
        " 'Prepared statement cache hit rate : ((MXBean(com.bea:Name=source02,Type=JDBCDataSourceRuntime).PrepStmtCacheHitCount / MXBean(com.bea:Name=source02,Type=JDBCDataSourceRuntime).PrepStmtCacheMissCount))',\n",
        " 'Memory space usage : ((MXBean(java.lang:name=PS Perm Gen,type=MemoryPool).Usage.used / MXBean(java.lang:name=PS Perm Gen,type=MemoryPool).Usage.max))',\n",
        " 'Memory space usage : ((MXBean(java.lang:name=PS Old Gen,type=MemoryPool).Usage.used / MXBean(java.lang:name=PS Old Gen,type=MemoryPool).Usage.max))',\n",
        " 'Daemon thread count : (MXBean(java.lang:type=Threading).DaemonThreadCount)',\n",
        " 'host',\n",
        " 'Total thread count : (MXBean(java.lang:type=Threading).ThreadCount)',\n",
        " 'Rel. nonHeap usage : ((MXBean(java.lang:type=Memory).NonHeapMemoryUsage.used / MXBean(java.lang:type=Memory).NonHeapMemoryUsage.max))',\n",
        " 'Rel. physical mem usage : ((MXBean(java.lang:type=OperatingSystem).FreePhysicalMemorySize / MXBean(java.lang:type=OperatingSystem).TotalPhysicalMemorySize))',\n",
        " 'GC time : (incld/dx (MXBean(java.lang:name=PS MarkSweep,type=GarbageCollector).CollectionTime))'\n",
        " ])"
      ],
      "execution_count": 3,
      "outputs": []
    },
    {
      "cell_type": "code",
      "source": [
        "#異常フラグのみのリストを作成\n",
        "train_y=train_df[\"Anomaly\"]"
      ],
      "metadata": {
        "id": "xtOUcUKvKriw"
      },
      "execution_count": 4,
      "outputs": []
    },
    {
      "cell_type": "code",
      "source": [
        "#異常フラグ、カテゴリを除いたリストを作成\n",
        "train_x=train_df.drop([\"Anomaly\",\"host\"],axis=1)\n",
        "test_x=test_df.drop([\"host\"],axis=1)"
      ],
      "metadata": {
        "id": "WElPNUcdLC6n"
      },
      "execution_count": 5,
      "outputs": []
    },
    {
      "cell_type": "code",
      "source": [
        "train_x = pd.DataFrame(train_x)\n",
        "test_x = pd.DataFrame(test_x)"
      ],
      "metadata": {
        "id": "2B6FfsQKMfzO"
      },
      "execution_count": 6,
      "outputs": []
    },
    {
      "cell_type": "code",
      "source": [
        "train_y = pd.Series(train_y)"
      ],
      "metadata": {
        "id": "ywzOmu1WNM8g"
      },
      "execution_count": 7,
      "outputs": []
    },
    {
      "cell_type": "code",
      "source": [
        "# ラベルエンコーディング（OrdinalEncoder）\n",
        "from sklearn import preprocessing\n",
        "from sklearn.preprocessing import OrdinalEncoder\n",
        "\n",
        "\n",
        "oe = preprocessing.OrdinalEncoder()\n",
        "train_encoded = oe.fit_transform(train_df[['host']].values)\n",
        "train_decoded = oe.inverse_transform(train_encoded)\n",
        "test_encoded = oe.fit_transform(test_df[['host']].values)\n",
        "test_decoded = oe.inverse_transform(test_encoded)\n",
        "\n",
        "print('エンコード結果: ', [train_encoded,test_encoded])\n",
        "print('元に戻す: ', [train_decoded,test_decoded])"
      ],
      "metadata": {
        "colab": {
          "base_uri": "https://localhost:8080/"
        },
        "id": "kSQuUxH8nIqh",
        "outputId": "7798afae-cf60-40d4-94cf-626390dd988a"
      },
      "execution_count": 8,
      "outputs": [
        {
          "output_type": "stream",
          "name": "stdout",
          "text": [
            "エンコード結果:  [array([[0.],\n",
            "       [0.],\n",
            "       [0.],\n",
            "       ...,\n",
            "       [9.],\n",
            "       [9.],\n",
            "       [9.]]), array([[0.],\n",
            "       [0.],\n",
            "       [0.],\n",
            "       ...,\n",
            "       [9.],\n",
            "       [9.],\n",
            "       [9.]])]\n",
            "元に戻す:  [array([['lphost06'],\n",
            "       ['lphost06'],\n",
            "       ['lphost06'],\n",
            "       ...,\n",
            "       ['lphost18'],\n",
            "       ['lphost18'],\n",
            "       ['lphost18']], dtype=object), array([['lphost06'],\n",
            "       ['lphost06'],\n",
            "       ['lphost06'],\n",
            "       ...,\n",
            "       ['lphost18'],\n",
            "       ['lphost18'],\n",
            "       ['lphost18']], dtype=object)]\n"
          ]
        }
      ]
    },
    {
      "cell_type": "code",
      "source": [
        "train_encoded_df = pd.DataFrame(train_encoded)\n",
        "train_encoded_df.columns=['host']\n",
        "test_encoded_df = pd.DataFrame(test_encoded)\n",
        "test_encoded_df.columns=['host']"
      ],
      "metadata": {
        "id": "VDqT4fXWpcsG"
      },
      "execution_count": 9,
      "outputs": []
    },
    {
      "cell_type": "code",
      "source": [
        "#エンコードしたカテゴリデータとカテゴリを除いた訓練データを結合\n",
        "train_x=pd.concat([train_x, train_encoded_df],axis=1)\n",
        "test_x=pd.concat([test_x, test_encoded_df],axis=1)"
      ],
      "metadata": {
        "id": "SaRpCGi0qz2m"
      },
      "execution_count": 10,
      "outputs": []
    },
    {
      "cell_type": "code",
      "source": [
        "# 学習データを学習データとバリデーションデータに分ける\n",
        "from sklearn.model_selection import KFold\n",
        "\n",
        "kf = KFold(n_splits=4, shuffle=True, random_state=71)\n",
        "tr_idx, va_idx = list(kf.split(train_x))[0]\n",
        "tr_x, va_x = train_x.iloc[tr_idx], train_x.iloc[va_idx]\n",
        "tr_y, va_y = train_y.iloc[tr_idx], train_y.iloc[va_idx]"
      ],
      "metadata": {
        "id": "rYJiSjHg-WDg"
      },
      "execution_count": 11,
      "outputs": []
    },
    {
      "cell_type": "code",
      "source": [
        "# xgboostの実装\n",
        "# -----------------------------------\n",
        "import xgboost as xgb\n",
        "from sklearn.metrics import log_loss\n",
        "\n",
        "# 特徴量と目的変数をxgboostのデータ構造に変換する\n",
        "dtrain = xgb.DMatrix(train_x, label=train_y)\n",
        "dvalid = xgb.DMatrix(va_x,label=va_y)\n",
        "dtest = xgb.DMatrix(test_x)"
      ],
      "metadata": {
        "id": "skHLXFJZsacp"
      },
      "execution_count": 12,
      "outputs": []
    },
    {
      "cell_type": "code",
      "source": [
        "# 学習データとバリデーションデータのスコアのモニタリング\n",
        "# -----------------------------------\n",
        "# モニタリングをloglossで行い、アーリーストッピングの観察するroundを20とする\n",
        "params = {\n",
        "    'booster': 'gbtree',\n",
        "    'objective': 'binary:logistic',\n",
        "    'eta': 0.1,\n",
        "    'gamma':  0.3047069490995731,\n",
        "    'alpha': 0.0,\n",
        "    'lambda': 1.0,\n",
        "    'min_child_weight': 0.2865687870248303,\n",
        "    'max_depth': 9,\n",
        "    'subsample': 0.95,\n",
        "    'colsample_bytree': 0.95,\n",
        "    'random_state': 71,\n",
        "}\n",
        "num_round = 5000\n",
        "watchlist = [(dtrain, 'train'), (dvalid, 'eval')]\n",
        "model = xgb.train(params, dtrain, num_round, evals=watchlist,\n",
        "                  early_stopping_rounds=20)\n"
      ],
      "metadata": {
        "colab": {
          "base_uri": "https://localhost:8080/"
        },
        "id": "E_Y56Uxx5nuC",
        "outputId": "9e540a90-ba90-4d7c-bd4d-614900802362"
      },
      "execution_count": 13,
      "outputs": [
        {
          "output_type": "stream",
          "name": "stdout",
          "text": [
            "[0]\ttrain-error:0.00046\teval-error:0.000476\n",
            "Multiple eval metrics have been passed: 'eval-error' will be used for early stopping.\n",
            "\n",
            "Will train until eval-error hasn't improved in 20 rounds.\n",
            "[1]\ttrain-error:0.000459\teval-error:0.000474\n",
            "[2]\ttrain-error:0.000459\teval-error:0.000474\n",
            "[3]\ttrain-error:0.000457\teval-error:0.000471\n",
            "[4]\ttrain-error:0.000409\teval-error:0.000428\n",
            "[5]\ttrain-error:0.000387\teval-error:0.000406\n",
            "[6]\ttrain-error:0.000405\teval-error:0.000421\n",
            "[7]\ttrain-error:0.000378\teval-error:0.000396\n",
            "[8]\ttrain-error:0.000366\teval-error:0.000385\n",
            "[9]\ttrain-error:0.000362\teval-error:0.000381\n",
            "[10]\ttrain-error:0.000337\teval-error:0.00036\n",
            "[11]\ttrain-error:0.000316\teval-error:0.000335\n",
            "[12]\ttrain-error:0.000308\teval-error:0.000324\n",
            "[13]\ttrain-error:0.000313\teval-error:0.000331\n",
            "[14]\ttrain-error:0.00031\teval-error:0.000331\n",
            "[15]\ttrain-error:0.000248\teval-error:0.000272\n",
            "[16]\ttrain-error:0.000245\teval-error:0.000272\n",
            "[17]\ttrain-error:0.000245\teval-error:0.000272\n",
            "[18]\ttrain-error:0.000243\teval-error:0.000263\n",
            "[19]\ttrain-error:0.000171\teval-error:0.000188\n",
            "[20]\ttrain-error:0.000172\teval-error:0.00019\n",
            "[21]\ttrain-error:0.000158\teval-error:0.000179\n",
            "[22]\ttrain-error:0.000156\teval-error:0.000179\n",
            "[23]\ttrain-error:0.000154\teval-error:0.000177\n",
            "[24]\ttrain-error:0.00014\teval-error:0.000165\n",
            "[25]\ttrain-error:0.000133\teval-error:0.000161\n",
            "[26]\ttrain-error:0.000129\teval-error:0.000156\n",
            "[27]\ttrain-error:0.000125\teval-error:0.000154\n",
            "[28]\ttrain-error:0.000108\teval-error:0.000136\n",
            "[29]\ttrain-error:0.000105\teval-error:0.000131\n",
            "[30]\ttrain-error:0.000103\teval-error:0.000127\n",
            "[31]\ttrain-error:0.0001\teval-error:0.000122\n",
            "[32]\ttrain-error:8.7e-05\teval-error:0.0001\n",
            "[33]\ttrain-error:8.4e-05\teval-error:0.0001\n",
            "[34]\ttrain-error:7.5e-05\teval-error:9.3e-05\n",
            "[35]\ttrain-error:6.8e-05\teval-error:7.2e-05\n",
            "[36]\ttrain-error:5.7e-05\teval-error:5.9e-05\n",
            "[37]\ttrain-error:4.4e-05\teval-error:4.5e-05\n",
            "[38]\ttrain-error:4.2e-05\teval-error:4.3e-05\n",
            "[39]\ttrain-error:3.9e-05\teval-error:4.1e-05\n",
            "[40]\ttrain-error:2.9e-05\teval-error:2.7e-05\n",
            "[41]\ttrain-error:2.8e-05\teval-error:2.7e-05\n",
            "[42]\ttrain-error:2.5e-05\teval-error:2.3e-05\n",
            "[43]\ttrain-error:2.3e-05\teval-error:1.8e-05\n",
            "[44]\ttrain-error:2.3e-05\teval-error:1.8e-05\n",
            "[45]\ttrain-error:2.3e-05\teval-error:1.8e-05\n",
            "[46]\ttrain-error:2.2e-05\teval-error:1.6e-05\n",
            "[47]\ttrain-error:1.8e-05\teval-error:1.6e-05\n",
            "[48]\ttrain-error:1.8e-05\teval-error:1.6e-05\n",
            "[49]\ttrain-error:1.5e-05\teval-error:1.6e-05\n",
            "[50]\ttrain-error:1.3e-05\teval-error:1.6e-05\n",
            "[51]\ttrain-error:1.3e-05\teval-error:1.6e-05\n",
            "[52]\ttrain-error:1.3e-05\teval-error:1.6e-05\n",
            "[53]\ttrain-error:1.3e-05\teval-error:1.6e-05\n",
            "[54]\ttrain-error:1.2e-05\teval-error:1.4e-05\n",
            "[55]\ttrain-error:1.2e-05\teval-error:1.4e-05\n",
            "[56]\ttrain-error:1.2e-05\teval-error:1.4e-05\n",
            "[57]\ttrain-error:6e-06\teval-error:9e-06\n",
            "[58]\ttrain-error:6e-06\teval-error:9e-06\n",
            "[59]\ttrain-error:5e-06\teval-error:9e-06\n",
            "[60]\ttrain-error:5e-06\teval-error:9e-06\n",
            "[61]\ttrain-error:5e-06\teval-error:9e-06\n",
            "[62]\ttrain-error:5e-06\teval-error:9e-06\n",
            "[63]\ttrain-error:5e-06\teval-error:9e-06\n",
            "[64]\ttrain-error:5e-06\teval-error:9e-06\n",
            "[65]\ttrain-error:5e-06\teval-error:9e-06\n",
            "[66]\ttrain-error:3e-06\teval-error:9e-06\n",
            "[67]\ttrain-error:3e-06\teval-error:7e-06\n",
            "[68]\ttrain-error:3e-06\teval-error:7e-06\n",
            "[69]\ttrain-error:3e-06\teval-error:7e-06\n",
            "[70]\ttrain-error:3e-06\teval-error:7e-06\n",
            "[71]\ttrain-error:3e-06\teval-error:7e-06\n",
            "[72]\ttrain-error:3e-06\teval-error:7e-06\n",
            "[73]\ttrain-error:2e-06\teval-error:7e-06\n",
            "[74]\ttrain-error:2e-06\teval-error:7e-06\n",
            "[75]\ttrain-error:2e-06\teval-error:7e-06\n",
            "[76]\ttrain-error:2e-06\teval-error:7e-06\n",
            "[77]\ttrain-error:2e-06\teval-error:7e-06\n",
            "[78]\ttrain-error:2e-06\teval-error:7e-06\n",
            "[79]\ttrain-error:2e-06\teval-error:7e-06\n",
            "[80]\ttrain-error:2e-06\teval-error:7e-06\n",
            "[81]\ttrain-error:2e-06\teval-error:7e-06\n",
            "[82]\ttrain-error:2e-06\teval-error:7e-06\n",
            "[83]\ttrain-error:2e-06\teval-error:7e-06\n",
            "[84]\ttrain-error:2e-06\teval-error:7e-06\n",
            "[85]\ttrain-error:2e-06\teval-error:7e-06\n",
            "[86]\ttrain-error:2e-06\teval-error:7e-06\n",
            "[87]\ttrain-error:2e-06\teval-error:7e-06\n",
            "Stopping. Best iteration:\n",
            "[67]\ttrain-error:3e-06\teval-error:7e-06\n",
            "\n"
          ]
        }
      ]
    },
    {
      "cell_type": "code",
      "source": [
        "# バリデーションデータでのスコアの確認\n",
        "va_pred = model.predict(dvalid)\n",
        "score = log_loss(va_y, va_pred)\n",
        "print(f'logloss: {score:.4f}')"
      ],
      "metadata": {
        "colab": {
          "base_uri": "https://localhost:8080/"
        },
        "id": "n0uL4qhWsmHX",
        "outputId": "1c101536-d190-404e-b8a5-2b3d0993213b"
      },
      "execution_count": 14,
      "outputs": [
        {
          "output_type": "stream",
          "name": "stdout",
          "text": [
            "logloss: 0.0001\n"
          ]
        }
      ]
    },
    {
      "cell_type": "code",
      "source": [
        "# 構築したモデルの保存\n",
        "import pickle\n",
        "file = '/content/drive/MyDrive/Nishika ソフトウェアの異常検知/モデル/xgboost_trained_model_25_param_tuning.pkl'\n",
        "pickle.dump(model, open(file, 'wb'))\n",
        "\n",
        "# 学習済みモデルを削除\n",
        "del model"
      ],
      "metadata": {
        "id": "hWB8MXOaDnmy"
      },
      "execution_count": 15,
      "outputs": []
    },
    {
      "cell_type": "code",
      "metadata": {
        "id": "dgmXbDYuLxsw"
      },
      "source": [
        "#from モジュール名 import クラス名（もしくは関数名や変数名）\n",
        "import pandas as pd\n",
        "from pandas import DataFrame\n",
        "import numpy as np\n",
        "import matplotlib.pyplot as plt\n",
        "import seaborn as sns\n",
        "\n",
        "#matplotlibをinlineで表示するためのおまじない (plt.show()しなくていい)\n",
        "%matplotlib inline"
      ],
      "execution_count": 16,
      "outputs": []
    },
    {
      "cell_type": "code",
      "source": [
        "# 構築したモデルの読み込み\n",
        "import pickle\n",
        "filename = '/content/drive/MyDrive/Nishika ソフトウェアの異常検知/モデル/xgboost_trained_model_25_param_tuning.pkl'\n",
        "loaded_model = pickle.load(open(filename, 'rb'))"
      ],
      "metadata": {
        "id": "Z_PYPmY3HEh5"
      },
      "execution_count": 17,
      "outputs": []
    },
    {
      "cell_type": "code",
      "source": [
        "# submission csvファイルの読み込み\n",
        "submission_df = pd.read_csv('/content/drive/MyDrive/Nishika ソフトウェアの異常検知/data.zip (Unzipped Files)/sample_submission.csv')"
      ],
      "metadata": {
        "id": "qcF2M4OyDzuA"
      },
      "execution_count": 18,
      "outputs": []
    },
    {
      "cell_type": "code",
      "source": [
        "id_df=submission_df.iloc[:,0]\n",
        "id_df.head()"
      ],
      "metadata": {
        "colab": {
          "base_uri": "https://localhost:8080/"
        },
        "id": "rsQhrsT6OWi_",
        "outputId": "efbdc073-c534-4ae0-fffc-e571bc68f72b"
      },
      "execution_count": 19,
      "outputs": [
        {
          "output_type": "execute_result",
          "data": {
            "text/plain": [
              "0    0\n",
              "1    1\n",
              "2    2\n",
              "3    3\n",
              "4    4\n",
              "Name: id, dtype: int64"
            ]
          },
          "metadata": {},
          "execution_count": 19
        }
      ]
    },
    {
      "cell_type": "code",
      "source": [
        "pred=loaded_model.predict(dtest,ntree_limit=loaded_model.best_ntree_limit)"
      ],
      "metadata": {
        "id": "VOdUkSw19WYv"
      },
      "execution_count": 20,
      "outputs": []
    },
    {
      "cell_type": "code",
      "source": [
        "pred_df = pd.DataFrame(pred)\n",
        "pred_df.head()"
      ],
      "metadata": {
        "colab": {
          "base_uri": "https://localhost:8080/",
          "height": 206
        },
        "id": "HLK86jPqQ1nO",
        "outputId": "98c0dd1d-21e6-48ec-ea1b-60bc67bca170"
      },
      "execution_count": 21,
      "outputs": [
        {
          "output_type": "execute_result",
          "data": {
            "text/html": [
              "\n",
              "  <div id=\"df-b46baebc-6feb-4e52-9102-9fe4cabd0fb3\">\n",
              "    <div class=\"colab-df-container\">\n",
              "      <div>\n",
              "<style scoped>\n",
              "    .dataframe tbody tr th:only-of-type {\n",
              "        vertical-align: middle;\n",
              "    }\n",
              "\n",
              "    .dataframe tbody tr th {\n",
              "        vertical-align: top;\n",
              "    }\n",
              "\n",
              "    .dataframe thead th {\n",
              "        text-align: right;\n",
              "    }\n",
              "</style>\n",
              "<table border=\"1\" class=\"dataframe\">\n",
              "  <thead>\n",
              "    <tr style=\"text-align: right;\">\n",
              "      <th></th>\n",
              "      <th>0</th>\n",
              "    </tr>\n",
              "  </thead>\n",
              "  <tbody>\n",
              "    <tr>\n",
              "      <th>0</th>\n",
              "      <td>0.000541</td>\n",
              "    </tr>\n",
              "    <tr>\n",
              "      <th>1</th>\n",
              "      <td>0.000541</td>\n",
              "    </tr>\n",
              "    <tr>\n",
              "      <th>2</th>\n",
              "      <td>0.000541</td>\n",
              "    </tr>\n",
              "    <tr>\n",
              "      <th>3</th>\n",
              "      <td>0.000541</td>\n",
              "    </tr>\n",
              "    <tr>\n",
              "      <th>4</th>\n",
              "      <td>0.000541</td>\n",
              "    </tr>\n",
              "  </tbody>\n",
              "</table>\n",
              "</div>\n",
              "      <button class=\"colab-df-convert\" onclick=\"convertToInteractive('df-b46baebc-6feb-4e52-9102-9fe4cabd0fb3')\"\n",
              "              title=\"Convert this dataframe to an interactive table.\"\n",
              "              style=\"display:none;\">\n",
              "        \n",
              "  <svg xmlns=\"http://www.w3.org/2000/svg\" height=\"24px\"viewBox=\"0 0 24 24\"\n",
              "       width=\"24px\">\n",
              "    <path d=\"M0 0h24v24H0V0z\" fill=\"none\"/>\n",
              "    <path d=\"M18.56 5.44l.94 2.06.94-2.06 2.06-.94-2.06-.94-.94-2.06-.94 2.06-2.06.94zm-11 1L8.5 8.5l.94-2.06 2.06-.94-2.06-.94L8.5 2.5l-.94 2.06-2.06.94zm10 10l.94 2.06.94-2.06 2.06-.94-2.06-.94-.94-2.06-.94 2.06-2.06.94z\"/><path d=\"M17.41 7.96l-1.37-1.37c-.4-.4-.92-.59-1.43-.59-.52 0-1.04.2-1.43.59L10.3 9.45l-7.72 7.72c-.78.78-.78 2.05 0 2.83L4 21.41c.39.39.9.59 1.41.59.51 0 1.02-.2 1.41-.59l7.78-7.78 2.81-2.81c.8-.78.8-2.07 0-2.86zM5.41 20L4 18.59l7.72-7.72 1.47 1.35L5.41 20z\"/>\n",
              "  </svg>\n",
              "      </button>\n",
              "      \n",
              "  <style>\n",
              "    .colab-df-container {\n",
              "      display:flex;\n",
              "      flex-wrap:wrap;\n",
              "      gap: 12px;\n",
              "    }\n",
              "\n",
              "    .colab-df-convert {\n",
              "      background-color: #E8F0FE;\n",
              "      border: none;\n",
              "      border-radius: 50%;\n",
              "      cursor: pointer;\n",
              "      display: none;\n",
              "      fill: #1967D2;\n",
              "      height: 32px;\n",
              "      padding: 0 0 0 0;\n",
              "      width: 32px;\n",
              "    }\n",
              "\n",
              "    .colab-df-convert:hover {\n",
              "      background-color: #E2EBFA;\n",
              "      box-shadow: 0px 1px 2px rgba(60, 64, 67, 0.3), 0px 1px 3px 1px rgba(60, 64, 67, 0.15);\n",
              "      fill: #174EA6;\n",
              "    }\n",
              "\n",
              "    [theme=dark] .colab-df-convert {\n",
              "      background-color: #3B4455;\n",
              "      fill: #D2E3FC;\n",
              "    }\n",
              "\n",
              "    [theme=dark] .colab-df-convert:hover {\n",
              "      background-color: #434B5C;\n",
              "      box-shadow: 0px 1px 3px 1px rgba(0, 0, 0, 0.15);\n",
              "      filter: drop-shadow(0px 1px 2px rgba(0, 0, 0, 0.3));\n",
              "      fill: #FFFFFF;\n",
              "    }\n",
              "  </style>\n",
              "\n",
              "      <script>\n",
              "        const buttonEl =\n",
              "          document.querySelector('#df-b46baebc-6feb-4e52-9102-9fe4cabd0fb3 button.colab-df-convert');\n",
              "        buttonEl.style.display =\n",
              "          google.colab.kernel.accessAllowed ? 'block' : 'none';\n",
              "\n",
              "        async function convertToInteractive(key) {\n",
              "          const element = document.querySelector('#df-b46baebc-6feb-4e52-9102-9fe4cabd0fb3');\n",
              "          const dataTable =\n",
              "            await google.colab.kernel.invokeFunction('convertToInteractive',\n",
              "                                                     [key], {});\n",
              "          if (!dataTable) return;\n",
              "\n",
              "          const docLinkHtml = 'Like what you see? Visit the ' +\n",
              "            '<a target=\"_blank\" href=https://colab.research.google.com/notebooks/data_table.ipynb>data table notebook</a>'\n",
              "            + ' to learn more about interactive tables.';\n",
              "          element.innerHTML = '';\n",
              "          dataTable['output_type'] = 'display_data';\n",
              "          await google.colab.output.renderOutput(dataTable, element);\n",
              "          const docLink = document.createElement('div');\n",
              "          docLink.innerHTML = docLinkHtml;\n",
              "          element.appendChild(docLink);\n",
              "        }\n",
              "      </script>\n",
              "    </div>\n",
              "  </div>\n",
              "  "
            ],
            "text/plain": [
              "          0\n",
              "0  0.000541\n",
              "1  0.000541\n",
              "2  0.000541\n",
              "3  0.000541\n",
              "4  0.000541"
            ]
          },
          "metadata": {},
          "execution_count": 21
        }
      ]
    },
    {
      "cell_type": "code",
      "source": [
        "output_df=pd.concat([id_df, pred_df],axis=1)\n",
        "output_df.columns=['id','Anomaly']\n",
        "output_df.head()"
      ],
      "metadata": {
        "colab": {
          "base_uri": "https://localhost:8080/",
          "height": 206
        },
        "id": "7j91XkMqRILo",
        "outputId": "a52ee3f9-4741-4566-c370-62861f8b4f78"
      },
      "execution_count": 22,
      "outputs": [
        {
          "output_type": "execute_result",
          "data": {
            "text/html": [
              "\n",
              "  <div id=\"df-48cad6d7-a62d-4a7e-81ca-e096dfc88b9f\">\n",
              "    <div class=\"colab-df-container\">\n",
              "      <div>\n",
              "<style scoped>\n",
              "    .dataframe tbody tr th:only-of-type {\n",
              "        vertical-align: middle;\n",
              "    }\n",
              "\n",
              "    .dataframe tbody tr th {\n",
              "        vertical-align: top;\n",
              "    }\n",
              "\n",
              "    .dataframe thead th {\n",
              "        text-align: right;\n",
              "    }\n",
              "</style>\n",
              "<table border=\"1\" class=\"dataframe\">\n",
              "  <thead>\n",
              "    <tr style=\"text-align: right;\">\n",
              "      <th></th>\n",
              "      <th>id</th>\n",
              "      <th>Anomaly</th>\n",
              "    </tr>\n",
              "  </thead>\n",
              "  <tbody>\n",
              "    <tr>\n",
              "      <th>0</th>\n",
              "      <td>0</td>\n",
              "      <td>0.000541</td>\n",
              "    </tr>\n",
              "    <tr>\n",
              "      <th>1</th>\n",
              "      <td>1</td>\n",
              "      <td>0.000541</td>\n",
              "    </tr>\n",
              "    <tr>\n",
              "      <th>2</th>\n",
              "      <td>2</td>\n",
              "      <td>0.000541</td>\n",
              "    </tr>\n",
              "    <tr>\n",
              "      <th>3</th>\n",
              "      <td>3</td>\n",
              "      <td>0.000541</td>\n",
              "    </tr>\n",
              "    <tr>\n",
              "      <th>4</th>\n",
              "      <td>4</td>\n",
              "      <td>0.000541</td>\n",
              "    </tr>\n",
              "  </tbody>\n",
              "</table>\n",
              "</div>\n",
              "      <button class=\"colab-df-convert\" onclick=\"convertToInteractive('df-48cad6d7-a62d-4a7e-81ca-e096dfc88b9f')\"\n",
              "              title=\"Convert this dataframe to an interactive table.\"\n",
              "              style=\"display:none;\">\n",
              "        \n",
              "  <svg xmlns=\"http://www.w3.org/2000/svg\" height=\"24px\"viewBox=\"0 0 24 24\"\n",
              "       width=\"24px\">\n",
              "    <path d=\"M0 0h24v24H0V0z\" fill=\"none\"/>\n",
              "    <path d=\"M18.56 5.44l.94 2.06.94-2.06 2.06-.94-2.06-.94-.94-2.06-.94 2.06-2.06.94zm-11 1L8.5 8.5l.94-2.06 2.06-.94-2.06-.94L8.5 2.5l-.94 2.06-2.06.94zm10 10l.94 2.06.94-2.06 2.06-.94-2.06-.94-.94-2.06-.94 2.06-2.06.94z\"/><path d=\"M17.41 7.96l-1.37-1.37c-.4-.4-.92-.59-1.43-.59-.52 0-1.04.2-1.43.59L10.3 9.45l-7.72 7.72c-.78.78-.78 2.05 0 2.83L4 21.41c.39.39.9.59 1.41.59.51 0 1.02-.2 1.41-.59l7.78-7.78 2.81-2.81c.8-.78.8-2.07 0-2.86zM5.41 20L4 18.59l7.72-7.72 1.47 1.35L5.41 20z\"/>\n",
              "  </svg>\n",
              "      </button>\n",
              "      \n",
              "  <style>\n",
              "    .colab-df-container {\n",
              "      display:flex;\n",
              "      flex-wrap:wrap;\n",
              "      gap: 12px;\n",
              "    }\n",
              "\n",
              "    .colab-df-convert {\n",
              "      background-color: #E8F0FE;\n",
              "      border: none;\n",
              "      border-radius: 50%;\n",
              "      cursor: pointer;\n",
              "      display: none;\n",
              "      fill: #1967D2;\n",
              "      height: 32px;\n",
              "      padding: 0 0 0 0;\n",
              "      width: 32px;\n",
              "    }\n",
              "\n",
              "    .colab-df-convert:hover {\n",
              "      background-color: #E2EBFA;\n",
              "      box-shadow: 0px 1px 2px rgba(60, 64, 67, 0.3), 0px 1px 3px 1px rgba(60, 64, 67, 0.15);\n",
              "      fill: #174EA6;\n",
              "    }\n",
              "\n",
              "    [theme=dark] .colab-df-convert {\n",
              "      background-color: #3B4455;\n",
              "      fill: #D2E3FC;\n",
              "    }\n",
              "\n",
              "    [theme=dark] .colab-df-convert:hover {\n",
              "      background-color: #434B5C;\n",
              "      box-shadow: 0px 1px 3px 1px rgba(0, 0, 0, 0.15);\n",
              "      filter: drop-shadow(0px 1px 2px rgba(0, 0, 0, 0.3));\n",
              "      fill: #FFFFFF;\n",
              "    }\n",
              "  </style>\n",
              "\n",
              "      <script>\n",
              "        const buttonEl =\n",
              "          document.querySelector('#df-48cad6d7-a62d-4a7e-81ca-e096dfc88b9f button.colab-df-convert');\n",
              "        buttonEl.style.display =\n",
              "          google.colab.kernel.accessAllowed ? 'block' : 'none';\n",
              "\n",
              "        async function convertToInteractive(key) {\n",
              "          const element = document.querySelector('#df-48cad6d7-a62d-4a7e-81ca-e096dfc88b9f');\n",
              "          const dataTable =\n",
              "            await google.colab.kernel.invokeFunction('convertToInteractive',\n",
              "                                                     [key], {});\n",
              "          if (!dataTable) return;\n",
              "\n",
              "          const docLinkHtml = 'Like what you see? Visit the ' +\n",
              "            '<a target=\"_blank\" href=https://colab.research.google.com/notebooks/data_table.ipynb>data table notebook</a>'\n",
              "            + ' to learn more about interactive tables.';\n",
              "          element.innerHTML = '';\n",
              "          dataTable['output_type'] = 'display_data';\n",
              "          await google.colab.output.renderOutput(dataTable, element);\n",
              "          const docLink = document.createElement('div');\n",
              "          docLink.innerHTML = docLinkHtml;\n",
              "          element.appendChild(docLink);\n",
              "        }\n",
              "      </script>\n",
              "    </div>\n",
              "  </div>\n",
              "  "
            ],
            "text/plain": [
              "   id   Anomaly\n",
              "0   0  0.000541\n",
              "1   1  0.000541\n",
              "2   2  0.000541\n",
              "3   3  0.000541\n",
              "4   4  0.000541"
            ]
          },
          "metadata": {},
          "execution_count": 22
        }
      ]
    },
    {
      "cell_type": "code",
      "source": [
        "output_df.to_csv('/content/drive/MyDrive/Nishika ソフトウェアの異常検知/提出用ファイル/model_25_param_tuning.csv',index=False)"
      ],
      "metadata": {
        "id": "osfzFXurLBEo"
      },
      "execution_count": 23,
      "outputs": []
    },
    {
      "cell_type": "code",
      "source": [
        ""
      ],
      "metadata": {
        "id": "aeOFoTLKRKKv"
      },
      "execution_count": 23,
      "outputs": []
    }
  ]
}
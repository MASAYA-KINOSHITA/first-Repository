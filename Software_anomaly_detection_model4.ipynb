{
  "nbformat": 4,
  "nbformat_minor": 0,
  "metadata": {
    "colab": {
      "name": "Software anomaly detection_model4.ipynb ",
      "provenance": [],
      "collapsed_sections": [],
      "mount_file_id": "1clC6AiLINFCkMe-81eWEqMnZhN-RVDbR",
      "authorship_tag": "ABX9TyMmeYqVhCHLTtmdmQyo+yNk",
      "include_colab_link": true
    },
    "kernelspec": {
      "name": "python3",
      "display_name": "Python 3"
    },
    "language_info": {
      "name": "python"
    }
  },
  "cells": [
    {
      "cell_type": "markdown",
      "metadata": {
        "id": "view-in-github",
        "colab_type": "text"
      },
      "source": [
        "<a href=\"https://colab.research.google.com/github/MASAYA-KINOSHITA/first-Repository/blob/main/Software_anomaly_detection_model4.ipynb\" target=\"_parent\"><img src=\"https://colab.research.google.com/assets/colab-badge.svg\" alt=\"Open In Colab\"/></a>"
      ]
    },
    {
      "cell_type": "code",
      "metadata": {
        "id": "7gm01W8cH8EA"
      },
      "source": [
        "#from モジュール名 import クラス名（もしくは関数名や変数名）\n",
        "import pandas as pd\n",
        "from pandas import DataFrame\n",
        "import numpy as np"
      ],
      "execution_count": 1,
      "outputs": []
    },
    {
      "cell_type": "code",
      "metadata": {
        "id": "9gvc7iMBH8EC"
      },
      "source": [
        "# data_train csvファイルの読み込み\n",
        "train_df = pd.read_csv('/content/drive/MyDrive/Nishika ソフトウェアの異常検知/train.zip (Unzipped Files)/train.csv',usecols=['Anomaly',\n",
        " 'GC activity : (incld/dx (MXBean(java.lang:name=PS Scavenge,type=GarbageCollector).CollectionCount))',\n",
        " 'GC time : (incld/dx (MXBean(java.lang:name=PS Scavenge,type=GarbageCollector).CollectionTime))',\n",
        " 'Rel. swap usage : ((MXBean(java.lang:type=OperatingSystem).FreeSwapSpaceSize / MXBean(java.lang:type=OperatingSystem).TotalSwapSpaceSize))',\n",
        " 'Stuck threads : (MXBean(com.bea:Name=ThreadPoolRuntime,Type=ThreadPoolRuntime).StuckThreadCount)',\n",
        " 'Stuck threads : (MXBean(com.bea:ApplicationRuntime=sys01,Name=default,Type=WorkManagerRuntime).StuckThreadCount)',\n",
        " 'Process CPU : (MXBean(java.lang:type=OperatingSystem).ProcessCpuLoad)',\n",
        " 'Rel. heap committed : ((MXBean(java.lang:type=Memory).HeapMemoryUsage.committed / MXBean(java.lang:type=Memory).HeapMemoryUsage.max))',\n",
        " 'System CPU : (MXBean(java.lang:type=OperatingSystem).SystemCpuLoad)',\n",
        " 'Memory space usage : ((MXBean(java.lang:name=PS Eden Space,type=MemoryPool).Usage.committed / MXBean(java.lang:name=PS Eden Space,type=MemoryPool).Usage.max))',\n",
        " 'Process CPU : (\\\\Process(java)\\\\CPU)',\n",
        " 'Rel. heap usage : ((MXBean(java.lang:type=Memory).HeapMemoryUsage.used / MXBean(java.lang:type=Memory).HeapMemoryUsage.max))',\n",
        " 'Rel. open file descriptors : ((MXBean(java.lang:type=OperatingSystem).OpenFileDescriptorCount / MXBean(java.lang:type=OperatingSystem).MaxFileDescriptorCount))',\n",
        " 'Memory space usage : ((MXBean(java.lang:name=PS Old Gen,type=MemoryPool).Usage.committed / MXBean(java.lang:name=PS Old Gen,type=MemoryPool).Usage.max))',\n",
        " 'Memory space usage : ((MXBean(java.lang:name=PS Eden Space,type=MemoryPool).Usage.used / MXBean(java.lang:name=PS Eden Space,type=MemoryPool).Usage.max))',\n",
        " 'Prepared statement cache hit rate : ((MXBean(com.bea:Name=source04,Type=JDBCDataSourceRuntime).PrepStmtCacheHitCount / MXBean(com.bea:Name=source04,Type=JDBCDataSourceRuntime).PrepStmtCacheMissCount))',\n",
        " 'Memory space usage : ((MXBean(java.lang:name=Code Cache,type=MemoryPool).Usage.committed / MXBean(java.lang:name=Code Cache,type=MemoryPool).Usage.max))',\n",
        " 'Prepared statement cache hit rate : ((MXBean(com.bea:Name=source02,Type=JDBCDataSourceRuntime).PrepStmtCacheHitCount / MXBean(com.bea:Name=source02,Type=JDBCDataSourceRuntime).PrepStmtCacheMissCount))',\n",
        " 'Memory space usage : ((MXBean(java.lang:name=PS Perm Gen,type=MemoryPool).Usage.used / MXBean(java.lang:name=PS Perm Gen,type=MemoryPool).Usage.max))',\n",
        " 'Memory space usage : ((MXBean(java.lang:name=PS Old Gen,type=MemoryPool).Usage.used / MXBean(java.lang:name=PS Old Gen,type=MemoryPool).Usage.max))',\n",
        " 'Daemon thread count : (MXBean(java.lang:type=Threading).DaemonThreadCount)',\n",
        " 'host',\n",
        " 'Total thread count : (MXBean(java.lang:type=Threading).ThreadCount)',\n",
        " 'Rel. nonHeap usage : ((MXBean(java.lang:type=Memory).NonHeapMemoryUsage.used / MXBean(java.lang:type=Memory).NonHeapMemoryUsage.max))',\n",
        " 'Rel. physical mem usage : ((MXBean(java.lang:type=OperatingSystem).FreePhysicalMemorySize / MXBean(java.lang:type=OperatingSystem).TotalPhysicalMemorySize))',\n",
        " ])"
      ],
      "execution_count": 3,
      "outputs": []
    },
    {
      "cell_type": "code",
      "metadata": {
        "id": "1r4AoRPX_eh-"
      },
      "source": [
        "# data_test csvファイルの読み込み\n",
        "test_df = pd.read_csv('/content/drive/MyDrive/Nishika ソフトウェアの異常検知/test.zip (Unzipped Files)/test.csv',usecols=[\n",
        " 'GC activity : (incld/dx (MXBean(java.lang:name=PS Scavenge,type=GarbageCollector).CollectionCount))',\n",
        " 'GC time : (incld/dx (MXBean(java.lang:name=PS Scavenge,type=GarbageCollector).CollectionTime))',\n",
        " 'Rel. swap usage : ((MXBean(java.lang:type=OperatingSystem).FreeSwapSpaceSize / MXBean(java.lang:type=OperatingSystem).TotalSwapSpaceSize))',\n",
        " 'Stuck threads : (MXBean(com.bea:Name=ThreadPoolRuntime,Type=ThreadPoolRuntime).StuckThreadCount)',\n",
        " 'Stuck threads : (MXBean(com.bea:ApplicationRuntime=sys01,Name=default,Type=WorkManagerRuntime).StuckThreadCount)',\n",
        " 'Process CPU : (MXBean(java.lang:type=OperatingSystem).ProcessCpuLoad)',\n",
        " 'Rel. heap committed : ((MXBean(java.lang:type=Memory).HeapMemoryUsage.committed / MXBean(java.lang:type=Memory).HeapMemoryUsage.max))',\n",
        " 'System CPU : (MXBean(java.lang:type=OperatingSystem).SystemCpuLoad)',\n",
        " 'Memory space usage : ((MXBean(java.lang:name=PS Eden Space,type=MemoryPool).Usage.committed / MXBean(java.lang:name=PS Eden Space,type=MemoryPool).Usage.max))',\n",
        " 'Process CPU : (\\\\Process(java)\\\\CPU)',\n",
        " 'Rel. heap usage : ((MXBean(java.lang:type=Memory).HeapMemoryUsage.used / MXBean(java.lang:type=Memory).HeapMemoryUsage.max))',\n",
        " 'Rel. open file descriptors : ((MXBean(java.lang:type=OperatingSystem).OpenFileDescriptorCount / MXBean(java.lang:type=OperatingSystem).MaxFileDescriptorCount))',\n",
        " 'Memory space usage : ((MXBean(java.lang:name=PS Old Gen,type=MemoryPool).Usage.committed / MXBean(java.lang:name=PS Old Gen,type=MemoryPool).Usage.max))',\n",
        " 'Memory space usage : ((MXBean(java.lang:name=PS Eden Space,type=MemoryPool).Usage.used / MXBean(java.lang:name=PS Eden Space,type=MemoryPool).Usage.max))',\n",
        " 'Prepared statement cache hit rate : ((MXBean(com.bea:Name=source04,Type=JDBCDataSourceRuntime).PrepStmtCacheHitCount / MXBean(com.bea:Name=source04,Type=JDBCDataSourceRuntime).PrepStmtCacheMissCount))',\n",
        " 'Memory space usage : ((MXBean(java.lang:name=Code Cache,type=MemoryPool).Usage.committed / MXBean(java.lang:name=Code Cache,type=MemoryPool).Usage.max))',\n",
        " 'Prepared statement cache hit rate : ((MXBean(com.bea:Name=source02,Type=JDBCDataSourceRuntime).PrepStmtCacheHitCount / MXBean(com.bea:Name=source02,Type=JDBCDataSourceRuntime).PrepStmtCacheMissCount))',\n",
        " 'Memory space usage : ((MXBean(java.lang:name=PS Perm Gen,type=MemoryPool).Usage.used / MXBean(java.lang:name=PS Perm Gen,type=MemoryPool).Usage.max))',\n",
        " 'Memory space usage : ((MXBean(java.lang:name=PS Old Gen,type=MemoryPool).Usage.used / MXBean(java.lang:name=PS Old Gen,type=MemoryPool).Usage.max))',\n",
        " 'Daemon thread count : (MXBean(java.lang:type=Threading).DaemonThreadCount)',\n",
        " 'host',\n",
        " 'Total thread count : (MXBean(java.lang:type=Threading).ThreadCount)',\n",
        " 'Rel. nonHeap usage : ((MXBean(java.lang:type=Memory).NonHeapMemoryUsage.used / MXBean(java.lang:type=Memory).NonHeapMemoryUsage.max))',\n",
        " 'Rel. physical mem usage : ((MXBean(java.lang:type=OperatingSystem).FreePhysicalMemorySize / MXBean(java.lang:type=OperatingSystem).TotalPhysicalMemorySize))',\n",
        " ])"
      ],
      "execution_count": 4,
      "outputs": []
    },
    {
      "cell_type": "code",
      "source": [
        "#異常フラグのみのリストを作成\n",
        "train_y=train_df[\"Anomaly\"]"
      ],
      "metadata": {
        "id": "xtOUcUKvKriw"
      },
      "execution_count": 5,
      "outputs": []
    },
    {
      "cell_type": "code",
      "source": [
        "#異常フラグ、カテゴリを除いたリストを作成\n",
        "train_x=train_df.drop([\"Anomaly\",\"host\",\"process\"],axis=1)\n",
        "test_x=test_df.drop([\"host\",\"process\"],axis=1)"
      ],
      "metadata": {
        "id": "WElPNUcdLC6n"
      },
      "execution_count": 6,
      "outputs": []
    },
    {
      "cell_type": "code",
      "source": [
        "train_x = pd.DataFrame(train_x)\n",
        "test_x = pd.DataFrame(test_x)"
      ],
      "metadata": {
        "id": "2B6FfsQKMfzO"
      },
      "execution_count": 7,
      "outputs": []
    },
    {
      "cell_type": "code",
      "source": [
        "train_y = pd.Series(train_y)"
      ],
      "metadata": {
        "id": "ywzOmu1WNM8g"
      },
      "execution_count": 8,
      "outputs": []
    },
    {
      "cell_type": "code",
      "source": [
        "# ラベルエンコーディング（OrdinalEncoder）\n",
        "from sklearn import preprocessing\n",
        "from sklearn.preprocessing import OrdinalEncoder\n",
        "\n",
        "\n",
        "oe = preprocessing.OrdinalEncoder()\n",
        "train_encoded = oe.fit_transform(train_df[['host','process']].values)\n",
        "train_decoded = oe.inverse_transform(train_encoded)\n",
        "test_encoded = oe.fit_transform(test_df[['host','process']].values)\n",
        "test_decoded = oe.inverse_transform(test_encoded)\n",
        "\n",
        "print('エンコード結果: ', [train_encoded,test_encoded])\n",
        "print('元に戻す: ', [train_decoded,test_decoded])"
      ],
      "metadata": {
        "colab": {
          "base_uri": "https://localhost:8080/"
        },
        "id": "kSQuUxH8nIqh",
        "outputId": "2a523d1c-c484-4eda-d084-582d21152e3b"
      },
      "execution_count": 9,
      "outputs": [
        {
          "output_type": "stream",
          "name": "stdout",
          "text": [
            "エンコード結果:  [array([[0., 0.],\n",
            "       [0., 0.],\n",
            "       [0., 0.],\n",
            "       ...,\n",
            "       [9., 1.],\n",
            "       [9., 1.],\n",
            "       [9., 1.]]), array([[0., 0.],\n",
            "       [0., 0.],\n",
            "       [0., 0.],\n",
            "       ...,\n",
            "       [9., 1.],\n",
            "       [9., 1.],\n",
            "       [9., 1.]])]\n",
            "元に戻す:  [array([['lphost06', 'wls1'],\n",
            "       ['lphost06', 'wls1'],\n",
            "       ['lphost06', 'wls1'],\n",
            "       ...,\n",
            "       ['lphost18', 'wls2'],\n",
            "       ['lphost18', 'wls2'],\n",
            "       ['lphost18', 'wls2']], dtype=object), array([['lphost06', 'wls1'],\n",
            "       ['lphost06', 'wls1'],\n",
            "       ['lphost06', 'wls1'],\n",
            "       ...,\n",
            "       ['lphost18', 'wls2'],\n",
            "       ['lphost18', 'wls2'],\n",
            "       ['lphost18', 'wls2']], dtype=object)]\n"
          ]
        }
      ]
    },
    {
      "cell_type": "code",
      "source": [
        "train_encoded_df = pd.DataFrame(train_encoded)\n",
        "train_encoded_df.columns=['host','process']\n",
        "test_encoded_df = pd.DataFrame(test_encoded)\n",
        "test_encoded_df.columns=['host','process']"
      ],
      "metadata": {
        "id": "VDqT4fXWpcsG"
      },
      "execution_count": 10,
      "outputs": []
    },
    {
      "cell_type": "code",
      "source": [
        "#エンコードしたカテゴリデータとカテゴリを除いた訓練データを結合\n",
        "train_x=pd.concat([train_x, train_encoded_df],axis=1)\n",
        "test_x=pd.concat([test_x, test_encoded_df],axis=1)"
      ],
      "metadata": {
        "id": "SaRpCGi0qz2m"
      },
      "execution_count": 11,
      "outputs": []
    },
    {
      "cell_type": "code",
      "source": [
        "# 学習データを学習データとバリデーションデータに分ける\n",
        "from sklearn.model_selection import KFold\n",
        "\n",
        "kf = KFold(n_splits=4, shuffle=True, random_state=71)\n",
        "tr_idx, va_idx = list(kf.split(train_x))[0]\n",
        "tr_x, va_x = train_x.iloc[tr_idx], train_x.iloc[va_idx]\n",
        "tr_y, va_y = train_y.iloc[tr_idx], train_y.iloc[va_idx]"
      ],
      "metadata": {
        "id": "rYJiSjHg-WDg"
      },
      "execution_count": 12,
      "outputs": []
    },
    {
      "cell_type": "code",
      "source": [
        "# xgboostの実装\n",
        "# -----------------------------------\n",
        "import xgboost as xgb\n",
        "from sklearn.metrics import log_loss\n",
        "\n",
        "# 特徴量と目的変数をxgboostのデータ構造に変換する\n",
        "dtrain = xgb.DMatrix(train_x, label=train_y)\n",
        "dvalid = xgb.DMatrix(va_x,label=va_y)\n",
        "dtest = xgb.DMatrix(test_x)"
      ],
      "metadata": {
        "id": "skHLXFJZsacp"
      },
      "execution_count": 13,
      "outputs": []
    },
    {
      "cell_type": "code",
      "source": [
        "# ハイパーパラメータの設定\n",
        "params = {'objective': 'binary:logistic', 'silent': 1, 'random_state': 71}\n",
        "num_round = 50"
      ],
      "metadata": {
        "id": "4A_LiNM_-f-o"
      },
      "execution_count": 14,
      "outputs": []
    },
    {
      "cell_type": "code",
      "source": [
        "# 学習データとバリデーションデータのスコアのモニタリング\n",
        "# -----------------------------------\n",
        "# モニタリングをloglossで行い、アーリーストッピングの観察するroundを20とする\n",
        "params = {'objective': 'binary:logistic', 'silent': 1, 'random_state': 71,\n",
        "          'eval_metric': 'logloss'}\n",
        "num_round = 500\n",
        "watchlist = [(dtrain, 'train'), (dvalid, 'eval')]\n",
        "model = xgb.train(params, dtrain, num_round, evals=watchlist,\n",
        "                  early_stopping_rounds=20)\n"
      ],
      "metadata": {
        "colab": {
          "base_uri": "https://localhost:8080/"
        },
        "id": "E_Y56Uxx5nuC",
        "outputId": "ef12b1e1-ba2c-4513-d8b4-e0f3a3ecb088"
      },
      "execution_count": 17,
      "outputs": [
        {
          "output_type": "stream",
          "name": "stdout",
          "text": [
            "[0]\ttrain-logloss:0.438285\teval-logloss:0.438538\n",
            "Multiple eval metrics have been passed: 'eval-logloss' will be used for early stopping.\n",
            "\n",
            "Will train until eval-logloss hasn't improved in 20 rounds.\n",
            "[1]\ttrain-logloss:0.298475\teval-logloss:0.298388\n",
            "[2]\ttrain-logloss:0.209259\teval-logloss:0.2092\n",
            "[3]\ttrain-logloss:0.150468\teval-logloss:0.150435\n",
            "[4]\ttrain-logloss:0.10939\teval-logloss:0.109118\n",
            "[5]\ttrain-logloss:0.080248\teval-logloss:0.079866\n",
            "[6]\ttrain-logloss:0.059551\teval-logloss:0.059018\n",
            "[7]\ttrain-logloss:0.043778\teval-logloss:0.043837\n",
            "[8]\ttrain-logloss:0.032786\teval-logloss:0.032783\n",
            "[9]\ttrain-logloss:0.024438\teval-logloss:0.024369\n",
            "[10]\ttrain-logloss:0.018073\teval-logloss:0.018142\n",
            "[11]\ttrain-logloss:0.013499\teval-logloss:0.013467\n",
            "[12]\ttrain-logloss:0.010203\teval-logloss:0.010198\n",
            "[13]\ttrain-logloss:0.007716\teval-logloss:0.007695\n",
            "[14]\ttrain-logloss:0.005718\teval-logloss:0.005812\n",
            "[15]\ttrain-logloss:0.00435\teval-logloss:0.004405\n",
            "[16]\ttrain-logloss:0.003337\teval-logloss:0.003407\n",
            "[17]\ttrain-logloss:0.002561\teval-logloss:0.002589\n",
            "[18]\ttrain-logloss:0.001961\teval-logloss:0.001997\n",
            "[19]\ttrain-logloss:0.001538\teval-logloss:0.001578\n",
            "[20]\ttrain-logloss:0.001244\teval-logloss:0.001263\n",
            "[21]\ttrain-logloss:0.000986\teval-logloss:0.001013\n",
            "[22]\ttrain-logloss:0.000808\teval-logloss:0.000839\n",
            "[23]\ttrain-logloss:0.000647\teval-logloss:0.00067\n",
            "[24]\ttrain-logloss:0.000523\teval-logloss:0.000552\n",
            "[25]\ttrain-logloss:0.000432\teval-logloss:0.000459\n",
            "[26]\ttrain-logloss:0.000362\teval-logloss:0.000388\n",
            "[27]\ttrain-logloss:0.000303\teval-logloss:0.000332\n",
            "[28]\ttrain-logloss:0.000268\teval-logloss:0.000293\n",
            "[29]\ttrain-logloss:0.000225\teval-logloss:0.000251\n",
            "[30]\ttrain-logloss:0.000196\teval-logloss:0.000223\n",
            "[31]\ttrain-logloss:0.000171\teval-logloss:0.000196\n",
            "[32]\ttrain-logloss:0.000157\teval-logloss:0.000181\n",
            "[33]\ttrain-logloss:0.000145\teval-logloss:0.000171\n",
            "[34]\ttrain-logloss:0.000132\teval-logloss:0.000157\n",
            "[35]\ttrain-logloss:0.000118\teval-logloss:0.000142\n",
            "[36]\ttrain-logloss:0.000109\teval-logloss:0.000131\n",
            "[37]\ttrain-logloss:0.000104\teval-logloss:0.000126\n",
            "[38]\ttrain-logloss:9.4e-05\teval-logloss:0.000116\n",
            "[39]\ttrain-logloss:8.9e-05\teval-logloss:0.00011\n",
            "[40]\ttrain-logloss:8.6e-05\teval-logloss:0.000106\n",
            "[41]\ttrain-logloss:8.1e-05\teval-logloss:0.0001\n",
            "[42]\ttrain-logloss:7e-05\teval-logloss:8.8e-05\n",
            "[43]\ttrain-logloss:6.6e-05\teval-logloss:8.3e-05\n",
            "[44]\ttrain-logloss:6.1e-05\teval-logloss:7.7e-05\n",
            "[45]\ttrain-logloss:5.6e-05\teval-logloss:7e-05\n",
            "[46]\ttrain-logloss:5.4e-05\teval-logloss:6.8e-05\n",
            "[47]\ttrain-logloss:4.9e-05\teval-logloss:6.3e-05\n",
            "[48]\ttrain-logloss:4.5e-05\teval-logloss:5.8e-05\n",
            "[49]\ttrain-logloss:4.3e-05\teval-logloss:5.4e-05\n",
            "[50]\ttrain-logloss:4e-05\teval-logloss:5e-05\n",
            "[51]\ttrain-logloss:3.6e-05\teval-logloss:4.6e-05\n",
            "[52]\ttrain-logloss:3.5e-05\teval-logloss:4.4e-05\n",
            "[53]\ttrain-logloss:3.2e-05\teval-logloss:4e-05\n",
            "[54]\ttrain-logloss:3e-05\teval-logloss:3.7e-05\n",
            "[55]\ttrain-logloss:2.8e-05\teval-logloss:3.4e-05\n",
            "[56]\ttrain-logloss:2.6e-05\teval-logloss:3.3e-05\n",
            "[57]\ttrain-logloss:2.5e-05\teval-logloss:3.1e-05\n",
            "[58]\ttrain-logloss:2.3e-05\teval-logloss:2.9e-05\n",
            "[59]\ttrain-logloss:2.2e-05\teval-logloss:2.7e-05\n",
            "[60]\ttrain-logloss:2.1e-05\teval-logloss:2.6e-05\n",
            "[61]\ttrain-logloss:2e-05\teval-logloss:2.4e-05\n",
            "[62]\ttrain-logloss:1.9e-05\teval-logloss:2.3e-05\n",
            "[63]\ttrain-logloss:1.8e-05\teval-logloss:2.2e-05\n",
            "[64]\ttrain-logloss:1.7e-05\teval-logloss:2.1e-05\n",
            "[65]\ttrain-logloss:1.7e-05\teval-logloss:2e-05\n",
            "[66]\ttrain-logloss:1.6e-05\teval-logloss:1.9e-05\n",
            "[67]\ttrain-logloss:1.6e-05\teval-logloss:1.9e-05\n",
            "[68]\ttrain-logloss:1.5e-05\teval-logloss:1.8e-05\n",
            "[69]\ttrain-logloss:1.5e-05\teval-logloss:1.7e-05\n",
            "[70]\ttrain-logloss:1.4e-05\teval-logloss:1.7e-05\n",
            "[71]\ttrain-logloss:1.4e-05\teval-logloss:1.6e-05\n",
            "[72]\ttrain-logloss:1.4e-05\teval-logloss:1.6e-05\n",
            "[73]\ttrain-logloss:1.3e-05\teval-logloss:1.5e-05\n",
            "[74]\ttrain-logloss:1.3e-05\teval-logloss:1.5e-05\n",
            "[75]\ttrain-logloss:1.2e-05\teval-logloss:1.5e-05\n",
            "[76]\ttrain-logloss:1.2e-05\teval-logloss:1.4e-05\n",
            "[77]\ttrain-logloss:1.2e-05\teval-logloss:1.4e-05\n",
            "[78]\ttrain-logloss:1.2e-05\teval-logloss:1.3e-05\n",
            "[79]\ttrain-logloss:1.1e-05\teval-logloss:1.3e-05\n",
            "[80]\ttrain-logloss:1.1e-05\teval-logloss:1.3e-05\n",
            "[81]\ttrain-logloss:1.1e-05\teval-logloss:1.3e-05\n",
            "[82]\ttrain-logloss:1.1e-05\teval-logloss:1.2e-05\n",
            "[83]\ttrain-logloss:1e-05\teval-logloss:1.2e-05\n",
            "[84]\ttrain-logloss:1e-05\teval-logloss:1.2e-05\n",
            "[85]\ttrain-logloss:1e-05\teval-logloss:1.2e-05\n",
            "[86]\ttrain-logloss:1e-05\teval-logloss:1.1e-05\n",
            "[87]\ttrain-logloss:1e-05\teval-logloss:1.1e-05\n",
            "[88]\ttrain-logloss:9e-06\teval-logloss:1.1e-05\n",
            "[89]\ttrain-logloss:9e-06\teval-logloss:1.1e-05\n",
            "[90]\ttrain-logloss:9e-06\teval-logloss:1e-05\n",
            "[91]\ttrain-logloss:9e-06\teval-logloss:1e-05\n",
            "[92]\ttrain-logloss:9e-06\teval-logloss:1e-05\n",
            "[93]\ttrain-logloss:9e-06\teval-logloss:1e-05\n",
            "[94]\ttrain-logloss:8e-06\teval-logloss:1e-05\n",
            "[95]\ttrain-logloss:8e-06\teval-logloss:1e-05\n",
            "[96]\ttrain-logloss:8e-06\teval-logloss:9e-06\n",
            "[97]\ttrain-logloss:8e-06\teval-logloss:9e-06\n",
            "[98]\ttrain-logloss:8e-06\teval-logloss:9e-06\n",
            "[99]\ttrain-logloss:8e-06\teval-logloss:9e-06\n",
            "[100]\ttrain-logloss:8e-06\teval-logloss:9e-06\n",
            "[101]\ttrain-logloss:8e-06\teval-logloss:9e-06\n",
            "[102]\ttrain-logloss:8e-06\teval-logloss:9e-06\n",
            "[103]\ttrain-logloss:7e-06\teval-logloss:9e-06\n",
            "[104]\ttrain-logloss:7e-06\teval-logloss:8e-06\n",
            "[105]\ttrain-logloss:7e-06\teval-logloss:8e-06\n",
            "[106]\ttrain-logloss:7e-06\teval-logloss:8e-06\n",
            "[107]\ttrain-logloss:7e-06\teval-logloss:8e-06\n",
            "[108]\ttrain-logloss:7e-06\teval-logloss:8e-06\n",
            "[109]\ttrain-logloss:7e-06\teval-logloss:8e-06\n",
            "[110]\ttrain-logloss:7e-06\teval-logloss:8e-06\n",
            "[111]\ttrain-logloss:7e-06\teval-logloss:8e-06\n",
            "[112]\ttrain-logloss:7e-06\teval-logloss:8e-06\n",
            "[113]\ttrain-logloss:7e-06\teval-logloss:8e-06\n",
            "[114]\ttrain-logloss:7e-06\teval-logloss:8e-06\n",
            "[115]\ttrain-logloss:7e-06\teval-logloss:8e-06\n",
            "[116]\ttrain-logloss:7e-06\teval-logloss:8e-06\n",
            "[117]\ttrain-logloss:6e-06\teval-logloss:7e-06\n",
            "[118]\ttrain-logloss:6e-06\teval-logloss:7e-06\n",
            "[119]\ttrain-logloss:6e-06\teval-logloss:7e-06\n",
            "[120]\ttrain-logloss:6e-06\teval-logloss:7e-06\n",
            "[121]\ttrain-logloss:6e-06\teval-logloss:7e-06\n",
            "[122]\ttrain-logloss:6e-06\teval-logloss:7e-06\n",
            "[123]\ttrain-logloss:6e-06\teval-logloss:7e-06\n",
            "[124]\ttrain-logloss:6e-06\teval-logloss:7e-06\n",
            "[125]\ttrain-logloss:6e-06\teval-logloss:7e-06\n",
            "[126]\ttrain-logloss:6e-06\teval-logloss:7e-06\n",
            "[127]\ttrain-logloss:6e-06\teval-logloss:7e-06\n",
            "[128]\ttrain-logloss:6e-06\teval-logloss:7e-06\n",
            "[129]\ttrain-logloss:6e-06\teval-logloss:7e-06\n",
            "[130]\ttrain-logloss:6e-06\teval-logloss:7e-06\n",
            "[131]\ttrain-logloss:6e-06\teval-logloss:7e-06\n",
            "[132]\ttrain-logloss:6e-06\teval-logloss:6e-06\n",
            "[133]\ttrain-logloss:6e-06\teval-logloss:6e-06\n",
            "[134]\ttrain-logloss:6e-06\teval-logloss:6e-06\n",
            "[135]\ttrain-logloss:6e-06\teval-logloss:6e-06\n",
            "[136]\ttrain-logloss:6e-06\teval-logloss:6e-06\n",
            "[137]\ttrain-logloss:6e-06\teval-logloss:6e-06\n",
            "[138]\ttrain-logloss:6e-06\teval-logloss:6e-06\n",
            "[139]\ttrain-logloss:5e-06\teval-logloss:6e-06\n",
            "[140]\ttrain-logloss:5e-06\teval-logloss:6e-06\n",
            "[141]\ttrain-logloss:5e-06\teval-logloss:6e-06\n",
            "[142]\ttrain-logloss:5e-06\teval-logloss:6e-06\n",
            "[143]\ttrain-logloss:5e-06\teval-logloss:6e-06\n",
            "[144]\ttrain-logloss:5e-06\teval-logloss:6e-06\n",
            "[145]\ttrain-logloss:5e-06\teval-logloss:6e-06\n",
            "[146]\ttrain-logloss:5e-06\teval-logloss:6e-06\n",
            "[147]\ttrain-logloss:5e-06\teval-logloss:6e-06\n",
            "[148]\ttrain-logloss:5e-06\teval-logloss:6e-06\n",
            "[149]\ttrain-logloss:5e-06\teval-logloss:6e-06\n",
            "[150]\ttrain-logloss:5e-06\teval-logloss:6e-06\n",
            "[151]\ttrain-logloss:5e-06\teval-logloss:6e-06\n",
            "[152]\ttrain-logloss:5e-06\teval-logloss:6e-06\n",
            "Stopping. Best iteration:\n",
            "[132]\ttrain-logloss:6e-06\teval-logloss:6e-06\n",
            "\n"
          ]
        }
      ]
    },
    {
      "cell_type": "code",
      "source": [
        "# 学習の実行\n",
        "# バリデーションデータもモデルに渡し、学習の進行とともにスコアがどう変わるかモニタリングする\n",
        "# watchlistには学習データおよびバリデーションデータをセットする\n",
        "watchlist = [(dtrain, 'train'), (dvalid, 'eval')]\n",
        "model = xgb.train(params, dtrain, num_round, evals=watchlist)"
      ],
      "metadata": {
        "colab": {
          "base_uri": "https://localhost:8080/"
        },
        "id": "MtEOQnpGseNa",
        "outputId": "4b25d33f-703c-438c-a4e8-5a738793311d"
      },
      "execution_count": 15,
      "outputs": [
        {
          "output_type": "stream",
          "name": "stdout",
          "text": [
            "[0]\ttrain-error:0.001098\teval-error:0.001151\n",
            "[1]\ttrain-error:0.001098\teval-error:0.001151\n",
            "[2]\ttrain-error:0.001087\teval-error:0.001135\n",
            "[3]\ttrain-error:0.001093\teval-error:0.001137\n",
            "[4]\ttrain-error:0.000967\teval-error:0.00102\n",
            "[5]\ttrain-error:0.000924\teval-error:0.000988\n",
            "[6]\ttrain-error:0.000619\teval-error:0.000634\n",
            "[7]\ttrain-error:0.000498\teval-error:0.000528\n",
            "[8]\ttrain-error:0.000442\teval-error:0.000464\n",
            "[9]\ttrain-error:0.000387\teval-error:0.000401\n",
            "[10]\ttrain-error:0.000247\teval-error:0.00027\n",
            "[11]\ttrain-error:0.00014\teval-error:0.000168\n",
            "[12]\ttrain-error:0.000131\teval-error:0.000154\n",
            "[13]\ttrain-error:0.000121\teval-error:0.00014\n",
            "[14]\ttrain-error:0.000103\teval-error:0.000118\n",
            "[15]\ttrain-error:0.000112\teval-error:0.000127\n",
            "[16]\ttrain-error:7.6e-05\teval-error:8.2e-05\n",
            "[17]\ttrain-error:5.7e-05\teval-error:5.9e-05\n",
            "[18]\ttrain-error:4.8e-05\teval-error:5.2e-05\n",
            "[19]\ttrain-error:4.5e-05\teval-error:4.5e-05\n",
            "[20]\ttrain-error:5.3e-05\teval-error:5.4e-05\n",
            "[21]\ttrain-error:4.8e-05\teval-error:5e-05\n",
            "[22]\ttrain-error:4.8e-05\teval-error:5.2e-05\n",
            "[23]\ttrain-error:3.2e-05\teval-error:3.4e-05\n",
            "[24]\ttrain-error:2.8e-05\teval-error:3.4e-05\n",
            "[25]\ttrain-error:2.6e-05\teval-error:3.2e-05\n",
            "[26]\ttrain-error:1.6e-05\teval-error:1.6e-05\n",
            "[27]\ttrain-error:1.5e-05\teval-error:1.4e-05\n",
            "[28]\ttrain-error:1.5e-05\teval-error:1.4e-05\n",
            "[29]\ttrain-error:1.4e-05\teval-error:1.4e-05\n",
            "[30]\ttrain-error:1.3e-05\teval-error:1.4e-05\n",
            "[31]\ttrain-error:7e-06\teval-error:1.1e-05\n",
            "[32]\ttrain-error:7e-06\teval-error:1.1e-05\n",
            "[33]\ttrain-error:7e-06\teval-error:1.1e-05\n",
            "[34]\ttrain-error:7e-06\teval-error:1.1e-05\n",
            "[35]\ttrain-error:7e-06\teval-error:1.1e-05\n",
            "[36]\ttrain-error:7e-06\teval-error:1.1e-05\n",
            "[37]\ttrain-error:7e-06\teval-error:1.1e-05\n",
            "[38]\ttrain-error:6e-06\teval-error:1.1e-05\n",
            "[39]\ttrain-error:5e-06\teval-error:9e-06\n",
            "[40]\ttrain-error:5e-06\teval-error:9e-06\n",
            "[41]\ttrain-error:5e-06\teval-error:9e-06\n",
            "[42]\ttrain-error:5e-06\teval-error:9e-06\n",
            "[43]\ttrain-error:5e-06\teval-error:9e-06\n",
            "[44]\ttrain-error:5e-06\teval-error:9e-06\n",
            "[45]\ttrain-error:5e-06\teval-error:9e-06\n",
            "[46]\ttrain-error:5e-06\teval-error:9e-06\n",
            "[47]\ttrain-error:4e-06\teval-error:9e-06\n",
            "[48]\ttrain-error:4e-06\teval-error:9e-06\n",
            "[49]\ttrain-error:4e-06\teval-error:9e-06\n"
          ]
        }
      ]
    },
    {
      "cell_type": "code",
      "source": [
        "# バリデーションデータでのスコアの確認\n",
        "va_pred = model.predict(dvalid)\n",
        "score = log_loss(va_y, va_pred)\n",
        "print(f'logloss: {score:.4f}')"
      ],
      "metadata": {
        "colab": {
          "base_uri": "https://localhost:8080/"
        },
        "id": "n0uL4qhWsmHX",
        "outputId": "4828b05f-2116-4c53-e4cf-831ff5afe49e"
      },
      "execution_count": 16,
      "outputs": [
        {
          "output_type": "stream",
          "name": "stdout",
          "text": [
            "logloss: 0.0001\n"
          ]
        }
      ]
    },
    {
      "cell_type": "code",
      "source": [
        "# 構築したモデルの保存\n",
        "import pickle\n",
        "file = '/content/drive/MyDrive/Nishika ソフトウェアの異常検知/モデル/xgboost_trained_model4.pkl'\n",
        "pickle.dump(model, open(file, 'wb'))\n",
        "\n",
        "# 学習済みモデルを削除\n",
        "del model"
      ],
      "metadata": {
        "id": "hWB8MXOaDnmy"
      },
      "execution_count": 19,
      "outputs": []
    },
    {
      "cell_type": "code",
      "metadata": {
        "id": "dgmXbDYuLxsw"
      },
      "source": [
        "#from モジュール名 import クラス名（もしくは関数名や変数名）\n",
        "import pandas as pd\n",
        "from pandas import DataFrame\n",
        "import numpy as np\n",
        "import matplotlib.pyplot as plt\n",
        "import seaborn as sns\n",
        "\n",
        "#matplotlibをinlineで表示するためのおまじない (plt.show()しなくていい)\n",
        "%matplotlib inline"
      ],
      "execution_count": 20,
      "outputs": []
    },
    {
      "cell_type": "code",
      "source": [
        "# 構築したモデルの読み込み\n",
        "import pickle\n",
        "filename = '/content/drive/MyDrive/Nishika ソフトウェアの異常検知/モデル/xgboost_trained_model4.pkl'\n",
        "loaded_model = pickle.load(open(filename, 'rb'))"
      ],
      "metadata": {
        "id": "Z_PYPmY3HEh5"
      },
      "execution_count": 21,
      "outputs": []
    },
    {
      "cell_type": "code",
      "source": [
        "# 最適な決定木の本数で予測を行う\n",
        "pred = loaded_model.predict(dtest, ntree_limit=loaded_model.best_ntree_limit)"
      ],
      "metadata": {
        "id": "rSXN4LSI59W3"
      },
      "execution_count": 27,
      "outputs": []
    },
    {
      "cell_type": "code",
      "source": [
        "# submission csvファイルの読み込み\n",
        "submission_df = pd.read_csv('/content/drive/MyDrive/Nishika ソフトウェアの異常検知/data.zip (Unzipped Files)/sample_submission.csv')"
      ],
      "metadata": {
        "id": "qcF2M4OyDzuA"
      },
      "execution_count": 22,
      "outputs": []
    },
    {
      "cell_type": "code",
      "source": [
        "id_df=submission_df.iloc[:,0]\n",
        "id_df.head()"
      ],
      "metadata": {
        "colab": {
          "base_uri": "https://localhost:8080/"
        },
        "id": "rsQhrsT6OWi_",
        "outputId": "ef9215f2-84e2-42ce-8c35-7784d1b9cd43"
      },
      "execution_count": 23,
      "outputs": [
        {
          "output_type": "execute_result",
          "data": {
            "text/plain": [
              "0    0\n",
              "1    1\n",
              "2    2\n",
              "3    3\n",
              "4    4\n",
              "Name: id, dtype: int64"
            ]
          },
          "metadata": {},
          "execution_count": 23
        }
      ]
    },
    {
      "cell_type": "code",
      "source": [
        "pred_df = pd.DataFrame(pred)\n",
        "pred_df.head()"
      ],
      "metadata": {
        "colab": {
          "base_uri": "https://localhost:8080/",
          "height": 206
        },
        "id": "HLK86jPqQ1nO",
        "outputId": "581d1510-6a70-4fe6-e96a-bf4c0ad0416f"
      },
      "execution_count": 28,
      "outputs": [
        {
          "output_type": "execute_result",
          "data": {
            "text/html": [
              "\n",
              "  <div id=\"df-35116719-8fab-4f2b-9341-86876e54cee7\">\n",
              "    <div class=\"colab-df-container\">\n",
              "      <div>\n",
              "<style scoped>\n",
              "    .dataframe tbody tr th:only-of-type {\n",
              "        vertical-align: middle;\n",
              "    }\n",
              "\n",
              "    .dataframe tbody tr th {\n",
              "        vertical-align: top;\n",
              "    }\n",
              "\n",
              "    .dataframe thead th {\n",
              "        text-align: right;\n",
              "    }\n",
              "</style>\n",
              "<table border=\"1\" class=\"dataframe\">\n",
              "  <thead>\n",
              "    <tr style=\"text-align: right;\">\n",
              "      <th></th>\n",
              "      <th>0</th>\n",
              "    </tr>\n",
              "  </thead>\n",
              "  <tbody>\n",
              "    <tr>\n",
              "      <th>0</th>\n",
              "      <td>3.595887e-08</td>\n",
              "    </tr>\n",
              "    <tr>\n",
              "      <th>1</th>\n",
              "      <td>6.672742e-08</td>\n",
              "    </tr>\n",
              "    <tr>\n",
              "      <th>2</th>\n",
              "      <td>2.927084e-08</td>\n",
              "    </tr>\n",
              "    <tr>\n",
              "      <th>3</th>\n",
              "      <td>3.295224e-08</td>\n",
              "    </tr>\n",
              "    <tr>\n",
              "      <th>4</th>\n",
              "      <td>3.714415e-08</td>\n",
              "    </tr>\n",
              "  </tbody>\n",
              "</table>\n",
              "</div>\n",
              "      <button class=\"colab-df-convert\" onclick=\"convertToInteractive('df-35116719-8fab-4f2b-9341-86876e54cee7')\"\n",
              "              title=\"Convert this dataframe to an interactive table.\"\n",
              "              style=\"display:none;\">\n",
              "        \n",
              "  <svg xmlns=\"http://www.w3.org/2000/svg\" height=\"24px\"viewBox=\"0 0 24 24\"\n",
              "       width=\"24px\">\n",
              "    <path d=\"M0 0h24v24H0V0z\" fill=\"none\"/>\n",
              "    <path d=\"M18.56 5.44l.94 2.06.94-2.06 2.06-.94-2.06-.94-.94-2.06-.94 2.06-2.06.94zm-11 1L8.5 8.5l.94-2.06 2.06-.94-2.06-.94L8.5 2.5l-.94 2.06-2.06.94zm10 10l.94 2.06.94-2.06 2.06-.94-2.06-.94-.94-2.06-.94 2.06-2.06.94z\"/><path d=\"M17.41 7.96l-1.37-1.37c-.4-.4-.92-.59-1.43-.59-.52 0-1.04.2-1.43.59L10.3 9.45l-7.72 7.72c-.78.78-.78 2.05 0 2.83L4 21.41c.39.39.9.59 1.41.59.51 0 1.02-.2 1.41-.59l7.78-7.78 2.81-2.81c.8-.78.8-2.07 0-2.86zM5.41 20L4 18.59l7.72-7.72 1.47 1.35L5.41 20z\"/>\n",
              "  </svg>\n",
              "      </button>\n",
              "      \n",
              "  <style>\n",
              "    .colab-df-container {\n",
              "      display:flex;\n",
              "      flex-wrap:wrap;\n",
              "      gap: 12px;\n",
              "    }\n",
              "\n",
              "    .colab-df-convert {\n",
              "      background-color: #E8F0FE;\n",
              "      border: none;\n",
              "      border-radius: 50%;\n",
              "      cursor: pointer;\n",
              "      display: none;\n",
              "      fill: #1967D2;\n",
              "      height: 32px;\n",
              "      padding: 0 0 0 0;\n",
              "      width: 32px;\n",
              "    }\n",
              "\n",
              "    .colab-df-convert:hover {\n",
              "      background-color: #E2EBFA;\n",
              "      box-shadow: 0px 1px 2px rgba(60, 64, 67, 0.3), 0px 1px 3px 1px rgba(60, 64, 67, 0.15);\n",
              "      fill: #174EA6;\n",
              "    }\n",
              "\n",
              "    [theme=dark] .colab-df-convert {\n",
              "      background-color: #3B4455;\n",
              "      fill: #D2E3FC;\n",
              "    }\n",
              "\n",
              "    [theme=dark] .colab-df-convert:hover {\n",
              "      background-color: #434B5C;\n",
              "      box-shadow: 0px 1px 3px 1px rgba(0, 0, 0, 0.15);\n",
              "      filter: drop-shadow(0px 1px 2px rgba(0, 0, 0, 0.3));\n",
              "      fill: #FFFFFF;\n",
              "    }\n",
              "  </style>\n",
              "\n",
              "      <script>\n",
              "        const buttonEl =\n",
              "          document.querySelector('#df-35116719-8fab-4f2b-9341-86876e54cee7 button.colab-df-convert');\n",
              "        buttonEl.style.display =\n",
              "          google.colab.kernel.accessAllowed ? 'block' : 'none';\n",
              "\n",
              "        async function convertToInteractive(key) {\n",
              "          const element = document.querySelector('#df-35116719-8fab-4f2b-9341-86876e54cee7');\n",
              "          const dataTable =\n",
              "            await google.colab.kernel.invokeFunction('convertToInteractive',\n",
              "                                                     [key], {});\n",
              "          if (!dataTable) return;\n",
              "\n",
              "          const docLinkHtml = 'Like what you see? Visit the ' +\n",
              "            '<a target=\"_blank\" href=https://colab.research.google.com/notebooks/data_table.ipynb>data table notebook</a>'\n",
              "            + ' to learn more about interactive tables.';\n",
              "          element.innerHTML = '';\n",
              "          dataTable['output_type'] = 'display_data';\n",
              "          await google.colab.output.renderOutput(dataTable, element);\n",
              "          const docLink = document.createElement('div');\n",
              "          docLink.innerHTML = docLinkHtml;\n",
              "          element.appendChild(docLink);\n",
              "        }\n",
              "      </script>\n",
              "    </div>\n",
              "  </div>\n",
              "  "
            ],
            "text/plain": [
              "              0\n",
              "0  3.595887e-08\n",
              "1  6.672742e-08\n",
              "2  2.927084e-08\n",
              "3  3.295224e-08\n",
              "4  3.714415e-08"
            ]
          },
          "metadata": {},
          "execution_count": 28
        }
      ]
    },
    {
      "cell_type": "code",
      "source": [
        "output_df=pd.concat([id_df, pred_df],axis=1)\n",
        "output_df.columns=['id','Anomaly']\n",
        "output_df.head()"
      ],
      "metadata": {
        "colab": {
          "base_uri": "https://localhost:8080/",
          "height": 206
        },
        "id": "7j91XkMqRILo",
        "outputId": "253840f6-eebf-4d15-8fac-69c2d159d0a0"
      },
      "execution_count": 29,
      "outputs": [
        {
          "output_type": "execute_result",
          "data": {
            "text/html": [
              "\n",
              "  <div id=\"df-7cc53b9f-cd57-42c9-b909-016d2c47221f\">\n",
              "    <div class=\"colab-df-container\">\n",
              "      <div>\n",
              "<style scoped>\n",
              "    .dataframe tbody tr th:only-of-type {\n",
              "        vertical-align: middle;\n",
              "    }\n",
              "\n",
              "    .dataframe tbody tr th {\n",
              "        vertical-align: top;\n",
              "    }\n",
              "\n",
              "    .dataframe thead th {\n",
              "        text-align: right;\n",
              "    }\n",
              "</style>\n",
              "<table border=\"1\" class=\"dataframe\">\n",
              "  <thead>\n",
              "    <tr style=\"text-align: right;\">\n",
              "      <th></th>\n",
              "      <th>id</th>\n",
              "      <th>Anomaly</th>\n",
              "    </tr>\n",
              "  </thead>\n",
              "  <tbody>\n",
              "    <tr>\n",
              "      <th>0</th>\n",
              "      <td>0</td>\n",
              "      <td>3.595887e-08</td>\n",
              "    </tr>\n",
              "    <tr>\n",
              "      <th>1</th>\n",
              "      <td>1</td>\n",
              "      <td>6.672742e-08</td>\n",
              "    </tr>\n",
              "    <tr>\n",
              "      <th>2</th>\n",
              "      <td>2</td>\n",
              "      <td>2.927084e-08</td>\n",
              "    </tr>\n",
              "    <tr>\n",
              "      <th>3</th>\n",
              "      <td>3</td>\n",
              "      <td>3.295224e-08</td>\n",
              "    </tr>\n",
              "    <tr>\n",
              "      <th>4</th>\n",
              "      <td>4</td>\n",
              "      <td>3.714415e-08</td>\n",
              "    </tr>\n",
              "  </tbody>\n",
              "</table>\n",
              "</div>\n",
              "      <button class=\"colab-df-convert\" onclick=\"convertToInteractive('df-7cc53b9f-cd57-42c9-b909-016d2c47221f')\"\n",
              "              title=\"Convert this dataframe to an interactive table.\"\n",
              "              style=\"display:none;\">\n",
              "        \n",
              "  <svg xmlns=\"http://www.w3.org/2000/svg\" height=\"24px\"viewBox=\"0 0 24 24\"\n",
              "       width=\"24px\">\n",
              "    <path d=\"M0 0h24v24H0V0z\" fill=\"none\"/>\n",
              "    <path d=\"M18.56 5.44l.94 2.06.94-2.06 2.06-.94-2.06-.94-.94-2.06-.94 2.06-2.06.94zm-11 1L8.5 8.5l.94-2.06 2.06-.94-2.06-.94L8.5 2.5l-.94 2.06-2.06.94zm10 10l.94 2.06.94-2.06 2.06-.94-2.06-.94-.94-2.06-.94 2.06-2.06.94z\"/><path d=\"M17.41 7.96l-1.37-1.37c-.4-.4-.92-.59-1.43-.59-.52 0-1.04.2-1.43.59L10.3 9.45l-7.72 7.72c-.78.78-.78 2.05 0 2.83L4 21.41c.39.39.9.59 1.41.59.51 0 1.02-.2 1.41-.59l7.78-7.78 2.81-2.81c.8-.78.8-2.07 0-2.86zM5.41 20L4 18.59l7.72-7.72 1.47 1.35L5.41 20z\"/>\n",
              "  </svg>\n",
              "      </button>\n",
              "      \n",
              "  <style>\n",
              "    .colab-df-container {\n",
              "      display:flex;\n",
              "      flex-wrap:wrap;\n",
              "      gap: 12px;\n",
              "    }\n",
              "\n",
              "    .colab-df-convert {\n",
              "      background-color: #E8F0FE;\n",
              "      border: none;\n",
              "      border-radius: 50%;\n",
              "      cursor: pointer;\n",
              "      display: none;\n",
              "      fill: #1967D2;\n",
              "      height: 32px;\n",
              "      padding: 0 0 0 0;\n",
              "      width: 32px;\n",
              "    }\n",
              "\n",
              "    .colab-df-convert:hover {\n",
              "      background-color: #E2EBFA;\n",
              "      box-shadow: 0px 1px 2px rgba(60, 64, 67, 0.3), 0px 1px 3px 1px rgba(60, 64, 67, 0.15);\n",
              "      fill: #174EA6;\n",
              "    }\n",
              "\n",
              "    [theme=dark] .colab-df-convert {\n",
              "      background-color: #3B4455;\n",
              "      fill: #D2E3FC;\n",
              "    }\n",
              "\n",
              "    [theme=dark] .colab-df-convert:hover {\n",
              "      background-color: #434B5C;\n",
              "      box-shadow: 0px 1px 3px 1px rgba(0, 0, 0, 0.15);\n",
              "      filter: drop-shadow(0px 1px 2px rgba(0, 0, 0, 0.3));\n",
              "      fill: #FFFFFF;\n",
              "    }\n",
              "  </style>\n",
              "\n",
              "      <script>\n",
              "        const buttonEl =\n",
              "          document.querySelector('#df-7cc53b9f-cd57-42c9-b909-016d2c47221f button.colab-df-convert');\n",
              "        buttonEl.style.display =\n",
              "          google.colab.kernel.accessAllowed ? 'block' : 'none';\n",
              "\n",
              "        async function convertToInteractive(key) {\n",
              "          const element = document.querySelector('#df-7cc53b9f-cd57-42c9-b909-016d2c47221f');\n",
              "          const dataTable =\n",
              "            await google.colab.kernel.invokeFunction('convertToInteractive',\n",
              "                                                     [key], {});\n",
              "          if (!dataTable) return;\n",
              "\n",
              "          const docLinkHtml = 'Like what you see? Visit the ' +\n",
              "            '<a target=\"_blank\" href=https://colab.research.google.com/notebooks/data_table.ipynb>data table notebook</a>'\n",
              "            + ' to learn more about interactive tables.';\n",
              "          element.innerHTML = '';\n",
              "          dataTable['output_type'] = 'display_data';\n",
              "          await google.colab.output.renderOutput(dataTable, element);\n",
              "          const docLink = document.createElement('div');\n",
              "          docLink.innerHTML = docLinkHtml;\n",
              "          element.appendChild(docLink);\n",
              "        }\n",
              "      </script>\n",
              "    </div>\n",
              "  </div>\n",
              "  "
            ],
            "text/plain": [
              "   id       Anomaly\n",
              "0   0  3.595887e-08\n",
              "1   1  6.672742e-08\n",
              "2   2  2.927084e-08\n",
              "3   3  3.295224e-08\n",
              "4   4  3.714415e-08"
            ]
          },
          "metadata": {},
          "execution_count": 29
        }
      ]
    },
    {
      "cell_type": "code",
      "source": [
        "output_df.to_csv('/content/drive/MyDrive/Nishika ソフトウェアの異常検知/提出用ファイル/model4.csv',index=False)"
      ],
      "metadata": {
        "id": "osfzFXurLBEo"
      },
      "execution_count": 30,
      "outputs": []
    }
  ]
}
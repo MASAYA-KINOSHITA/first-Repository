{
  "nbformat": 4,
  "nbformat_minor": 0,
  "metadata": {
    "colab": {
      "name": "Software anomaly detection_xgboost上位40.ipynb ",
      "provenance": [],
      "collapsed_sections": [],
      "mount_file_id": "10uny1avPxpxxbtmFSsGHccOeUPtwGJQt",
      "authorship_tag": "ABX9TyNKeIRxrRePTlLx6tuPz6yQ",
      "include_colab_link": true
    },
    "kernelspec": {
      "name": "python3",
      "display_name": "Python 3"
    },
    "language_info": {
      "name": "python"
    }
  },
  "cells": [
    {
      "cell_type": "markdown",
      "metadata": {
        "id": "view-in-github",
        "colab_type": "text"
      },
      "source": [
        "<a href=\"https://colab.research.google.com/github/MASAYA-KINOSHITA/first-Repository/blob/main/Software_anomaly_detection_xgboost%E4%B8%8A%E4%BD%8D40.ipynb\" target=\"_parent\"><img src=\"https://colab.research.google.com/assets/colab-badge.svg\" alt=\"Open In Colab\"/></a>"
      ]
    },
    {
      "cell_type": "code",
      "metadata": {
        "id": "7gm01W8cH8EA"
      },
      "source": [
        "#from モジュール名 import クラス名（もしくは関数名や変数名）\n",
        "import pandas as pd\n",
        "from pandas import DataFrame\n",
        "import numpy as np"
      ],
      "execution_count": 12,
      "outputs": []
    },
    {
      "cell_type": "code",
      "metadata": {
        "id": "9gvc7iMBH8EC"
      },
      "source": [
        "# data_train csvファイルの読み込み\n",
        "train_df = pd.read_csv('/content/drive/MyDrive/Nishika ソフトウェアの異常検知/train.zip (Unzipped Files)/train.csv',usecols=['Anomaly','Active connections : (MXBean(com.bea:Name=source09,Type=JDBCConnectionPoolRuntime).ActiveConnectionsCurrentCount)',\n",
        "'Active connections : (MXBean(com.bea:Name=source09,Type=JDBCDataSourceRuntime).ActiveConnectionsCurrentCount)',\n",
        "'Connection delay : (MXBean(com.bea:Name=source01,Type=JDBCConnectionPoolRuntime).ConnectionDelayTime)',\n",
        "'Connection delay : (MXBean(com.bea:Name=source02,Type=JDBCConnectionPoolRuntime).ConnectionDelayTime)',\n",
        "'Connection delay : (MXBean(com.bea:Name=source03,Type=JDBCConnectionPoolRuntime).ConnectionDelayTime)',\n",
        "'Connection delay : (MXBean(com.bea:Name=source04,Type=JDBCConnectionPoolRuntime).ConnectionDelayTime)',\n",
        "'Connection delay : (MXBean(com.bea:Name=source05,Type=JDBCConnectionPoolRuntime).ConnectionDelayTime)',\n",
        "'Connection delay : (MXBean(com.bea:Name=source06,Type=JDBCConnectionPoolRuntime).ConnectionDelayTime)',\n",
        "'Connection delay : (MXBean(com.bea:Name=source09,Type=JDBCConnectionPoolRuntime).ConnectionDelayTime)',\n",
        "'Connection delay : (MXBean(com.bea:Name=source10,Type=JDBCConnectionPoolRuntime).ConnectionDelayTime)',\n",
        "'DB connection started : (incld/dx (MXBean(com.bea:Name=source09,Type=JDBCDataSourceRuntime).ConnectionsTotalCount))', \n",
        "'Daemon thread count : (MXBean(java.lang:type=Threading).DaemonThreadCount)', \n",
        "'GC activity : (incld/dx (MXBean(java.lang:name=PS Scavenge,type=GarbageCollector).CollectionCount))', \n",
        "'GC time : (incld/dx (MXBean(java.lang:name=PS MarkSweep,type=GarbageCollector).CollectionTime))',\n",
        "'GC time : (incld/dx (MXBean(java.lang:name=PS Scavenge,type=GarbageCollector).CollectionTime))',\n",
        "'Last GC duration : (MXBean(java.lang:name=PS MarkSweep,type=GarbageCollector).LastGcInfo.duration)',\n",
        "'Last GC duration : (MXBean(java.lang:name=PS Scavenge,type=GarbageCollector).LastGcInfo.duration)', \n",
        "'Memory space usage : ((MXBean(java.lang:name=Code Cache,type=MemoryPool).Usage.committed / MXBean(java.lang:name=Code Cache,type=MemoryPool).Usage.max))', \n",
        "'Memory space usage : ((MXBean(java.lang:name=Code Cache,type=MemoryPool).Usage.used / MXBean(java.lang:name=Code Cache,type=MemoryPool).Usage.max))', \n",
        "'Memory space usage : ((MXBean(java.lang:name=PS Eden Space,type=MemoryPool).Usage.committed / MXBean(java.lang:name=PS Eden Space,type=MemoryPool).Usage.max))', \n",
        "'Memory space usage : ((MXBean(java.lang:name=PS Eden Space,type=MemoryPool).Usage.used / MXBean(java.lang:name=PS Eden Space,type=MemoryPool).Usage.max))', \n",
        "'Memory space usage : ((MXBean(java.lang:name=PS Old Gen,type=MemoryPool).Usage.committed / MXBean(java.lang:name=PS Old Gen,type=MemoryPool).Usage.max))', \n",
        "'Memory space usage : ((MXBean(java.lang:name=PS Old Gen,type=MemoryPool).Usage.used / MXBean(java.lang:name=PS Old Gen,type=MemoryPool).Usage.max))', \n",
        "'Memory space usage : ((MXBean(java.lang:name=PS Perm Gen,type=MemoryPool).Usage.committed / MXBean(java.lang:name=PS Perm Gen,type=MemoryPool).Usage.max))', \n",
        "'Memory space usage : ((MXBean(java.lang:name=PS Perm Gen,type=MemoryPool).Usage.used / MXBean(java.lang:name=PS Perm Gen,type=MemoryPool).Usage.max))', \n",
        "'Memory space usage : ((MXBean(java.lang:name=PS Survivor Space,type=MemoryPool).Usage.used / MXBean(java.lang:name=PS Survivor Space,type=MemoryPool).Usage.max))', \n",
        "'Prepared statement cache hit rate : ((MXBean(com.bea:Name=source02,Type=JDBCDataSourceRuntime).PrepStmtCacheHitCount / MXBean(com.bea:Name=source02,Type=JDBCDataSourceRuntime).PrepStmtCacheMissCount))', \n",
        "'Prepared statement cache hit rate : ((MXBean(com.bea:Name=source03,Type=JDBCDataSourceRuntime).PrepStmtCacheHitCount / MXBean(com.bea:Name=source03,Type=JDBCDataSourceRuntime).PrepStmtCacheMissCount))', \n",
        "'Prepared statement cache hit rate : ((MXBean(com.bea:Name=source04,Type=JDBCDataSourceRuntime).PrepStmtCacheHitCount / MXBean(com.bea:Name=source04,Type=JDBCDataSourceRuntime).PrepStmtCacheMissCount))',\n",
        "'Prepared statement cache hit rate : ((MXBean(com.bea:Name=source05,Type=JDBCDataSourceRuntime).PrepStmtCacheHitCount / MXBean(com.bea:Name=source05,Type=JDBCDataSourceRuntime).PrepStmtCacheMissCount))', \n",
        "'Prepared statement cache hit rate : ((MXBean(com.bea:Name=source09,Type=JDBCDataSourceRuntime).PrepStmtCacheHitCount / MXBean(com.bea:Name=source09,Type=JDBCDataSourceRuntime).PrepStmtCacheMissCount))', \n",
        "'Process CPU : (MXBean(java.lang:type=OperatingSystem).ProcessCpuLoad)', \n",
        "'Process CPU : (\\\\Process(java)\\\\CPU)', \n",
        "'Rel. Swap Usage : ((\\\\Swap\\\\used / \\\\Swap\\\\total))', \n",
        "'Rel. heap committed : ((MXBean(java.lang:type=Memory).HeapMemoryUsage.committed / MXBean(java.lang:type=Memory).HeapMemoryUsage.max))', \n",
        "'Rel. heap usage : ((MXBean(java.lang:type=Memory).HeapMemoryUsage.used / MXBean(java.lang:type=Memory).HeapMemoryUsage.max))', \n",
        "'Rel. nonHeap committed : ((MXBean(java.lang:type=Memory).NonHeapMemoryUsage.committed / MXBean(java.lang:type=Memory).NonHeapMemoryUsage.max))', \n",
        "'Rel. nonHeap usage : ((MXBean(java.lang:type=Memory).NonHeapMemoryUsage.used / MXBean(java.lang:type=Memory).NonHeapMemoryUsage.max))', \n",
        "'Rel. open file descriptors : ((MXBean(java.lang:type=OperatingSystem).OpenFileDescriptorCount / MXBean(java.lang:type=OperatingSystem).MaxFileDescriptorCount))', \n",
        "'Rel. physical mem usage : ((MXBean(java.lang:type=OperatingSystem).FreePhysicalMemorySize / MXBean(java.lang:type=OperatingSystem).TotalPhysicalMemorySize))',\n",
        "])"
      ],
      "execution_count": 13,
      "outputs": []
    },
    {
      "cell_type": "code",
      "metadata": {
        "id": "1r4AoRPX_eh-"
      },
      "source": [
        "# data_test csvファイルの読み込み\n",
        "test_df = pd.read_csv('/content/drive/MyDrive/Nishika ソフトウェアの異常検知/test.zip (Unzipped Files)/test.csv',usecols=['Active connections : (MXBean(com.bea:Name=source09,Type=JDBCConnectionPoolRuntime).ActiveConnectionsCurrentCount)',\n",
        "'Active connections : (MXBean(com.bea:Name=source09,Type=JDBCDataSourceRuntime).ActiveConnectionsCurrentCount)',\n",
        "'Connection delay : (MXBean(com.bea:Name=source01,Type=JDBCConnectionPoolRuntime).ConnectionDelayTime)',\n",
        "'Connection delay : (MXBean(com.bea:Name=source02,Type=JDBCConnectionPoolRuntime).ConnectionDelayTime)',\n",
        "'Connection delay : (MXBean(com.bea:Name=source03,Type=JDBCConnectionPoolRuntime).ConnectionDelayTime)',\n",
        "'Connection delay : (MXBean(com.bea:Name=source04,Type=JDBCConnectionPoolRuntime).ConnectionDelayTime)',\n",
        "'Connection delay : (MXBean(com.bea:Name=source05,Type=JDBCConnectionPoolRuntime).ConnectionDelayTime)',\n",
        "'Connection delay : (MXBean(com.bea:Name=source06,Type=JDBCConnectionPoolRuntime).ConnectionDelayTime)',\n",
        "'Connection delay : (MXBean(com.bea:Name=source09,Type=JDBCConnectionPoolRuntime).ConnectionDelayTime)',\n",
        "'Connection delay : (MXBean(com.bea:Name=source10,Type=JDBCConnectionPoolRuntime).ConnectionDelayTime)',\n",
        "'DB connection started : (incld/dx (MXBean(com.bea:Name=source09,Type=JDBCDataSourceRuntime).ConnectionsTotalCount))', \n",
        "'Daemon thread count : (MXBean(java.lang:type=Threading).DaemonThreadCount)', \n",
        "'GC activity : (incld/dx (MXBean(java.lang:name=PS Scavenge,type=GarbageCollector).CollectionCount))', \n",
        "'GC time : (incld/dx (MXBean(java.lang:name=PS MarkSweep,type=GarbageCollector).CollectionTime))',\n",
        "'GC time : (incld/dx (MXBean(java.lang:name=PS Scavenge,type=GarbageCollector).CollectionTime))',\n",
        "'Last GC duration : (MXBean(java.lang:name=PS MarkSweep,type=GarbageCollector).LastGcInfo.duration)',\n",
        "'Last GC duration : (MXBean(java.lang:name=PS Scavenge,type=GarbageCollector).LastGcInfo.duration)', \n",
        "'Memory space usage : ((MXBean(java.lang:name=Code Cache,type=MemoryPool).Usage.committed / MXBean(java.lang:name=Code Cache,type=MemoryPool).Usage.max))', \n",
        "'Memory space usage : ((MXBean(java.lang:name=Code Cache,type=MemoryPool).Usage.used / MXBean(java.lang:name=Code Cache,type=MemoryPool).Usage.max))', \n",
        "'Memory space usage : ((MXBean(java.lang:name=PS Eden Space,type=MemoryPool).Usage.committed / MXBean(java.lang:name=PS Eden Space,type=MemoryPool).Usage.max))', \n",
        "'Memory space usage : ((MXBean(java.lang:name=PS Eden Space,type=MemoryPool).Usage.used / MXBean(java.lang:name=PS Eden Space,type=MemoryPool).Usage.max))', \n",
        "'Memory space usage : ((MXBean(java.lang:name=PS Old Gen,type=MemoryPool).Usage.committed / MXBean(java.lang:name=PS Old Gen,type=MemoryPool).Usage.max))', \n",
        "'Memory space usage : ((MXBean(java.lang:name=PS Old Gen,type=MemoryPool).Usage.used / MXBean(java.lang:name=PS Old Gen,type=MemoryPool).Usage.max))', \n",
        "'Memory space usage : ((MXBean(java.lang:name=PS Perm Gen,type=MemoryPool).Usage.committed / MXBean(java.lang:name=PS Perm Gen,type=MemoryPool).Usage.max))', \n",
        "'Memory space usage : ((MXBean(java.lang:name=PS Perm Gen,type=MemoryPool).Usage.used / MXBean(java.lang:name=PS Perm Gen,type=MemoryPool).Usage.max))', \n",
        "'Memory space usage : ((MXBean(java.lang:name=PS Survivor Space,type=MemoryPool).Usage.used / MXBean(java.lang:name=PS Survivor Space,type=MemoryPool).Usage.max))', \n",
        "'Prepared statement cache hit rate : ((MXBean(com.bea:Name=source02,Type=JDBCDataSourceRuntime).PrepStmtCacheHitCount / MXBean(com.bea:Name=source02,Type=JDBCDataSourceRuntime).PrepStmtCacheMissCount))', \n",
        "'Prepared statement cache hit rate : ((MXBean(com.bea:Name=source03,Type=JDBCDataSourceRuntime).PrepStmtCacheHitCount / MXBean(com.bea:Name=source03,Type=JDBCDataSourceRuntime).PrepStmtCacheMissCount))', \n",
        "'Prepared statement cache hit rate : ((MXBean(com.bea:Name=source04,Type=JDBCDataSourceRuntime).PrepStmtCacheHitCount / MXBean(com.bea:Name=source04,Type=JDBCDataSourceRuntime).PrepStmtCacheMissCount))',\n",
        "'Prepared statement cache hit rate : ((MXBean(com.bea:Name=source05,Type=JDBCDataSourceRuntime).PrepStmtCacheHitCount / MXBean(com.bea:Name=source05,Type=JDBCDataSourceRuntime).PrepStmtCacheMissCount))', \n",
        "'Prepared statement cache hit rate : ((MXBean(com.bea:Name=source09,Type=JDBCDataSourceRuntime).PrepStmtCacheHitCount / MXBean(com.bea:Name=source09,Type=JDBCDataSourceRuntime).PrepStmtCacheMissCount))', \n",
        "'Process CPU : (MXBean(java.lang:type=OperatingSystem).ProcessCpuLoad)', \n",
        "'Process CPU : (\\\\Process(java)\\\\CPU)', \n",
        "'Rel. Swap Usage : ((\\\\Swap\\\\used / \\\\Swap\\\\total))', \n",
        "'Rel. heap committed : ((MXBean(java.lang:type=Memory).HeapMemoryUsage.committed / MXBean(java.lang:type=Memory).HeapMemoryUsage.max))', \n",
        "'Rel. heap usage : ((MXBean(java.lang:type=Memory).HeapMemoryUsage.used / MXBean(java.lang:type=Memory).HeapMemoryUsage.max))', \n",
        "'Rel. nonHeap committed : ((MXBean(java.lang:type=Memory).NonHeapMemoryUsage.committed / MXBean(java.lang:type=Memory).NonHeapMemoryUsage.max))', \n",
        "'Rel. nonHeap usage : ((MXBean(java.lang:type=Memory).NonHeapMemoryUsage.used / MXBean(java.lang:type=Memory).NonHeapMemoryUsage.max))', \n",
        "'Rel. open file descriptors : ((MXBean(java.lang:type=OperatingSystem).OpenFileDescriptorCount / MXBean(java.lang:type=OperatingSystem).MaxFileDescriptorCount))', \n",
        "'Rel. physical mem usage : ((MXBean(java.lang:type=OperatingSystem).FreePhysicalMemorySize / MXBean(java.lang:type=OperatingSystem).TotalPhysicalMemorySize))',\n",
        "])"
      ],
      "execution_count": 14,
      "outputs": []
    },
    {
      "cell_type": "code",
      "source": [
        "#異常フラグのみのリストを作成\n",
        "train_y=train_df[\"Anomaly\"]"
      ],
      "metadata": {
        "id": "xtOUcUKvKriw"
      },
      "execution_count": 15,
      "outputs": []
    },
    {
      "cell_type": "code",
      "source": [
        "#異常フラグ、カテゴリを除いたリストを作成\n",
        "train_x=train_df.drop([\"Anomaly\"],axis=1)"
      ],
      "metadata": {
        "id": "WElPNUcdLC6n"
      },
      "execution_count": 16,
      "outputs": []
    },
    {
      "cell_type": "code",
      "source": [
        "train_x = pd.DataFrame(train_x)\n",
        "test_x = pd.DataFrame(test_df)"
      ],
      "metadata": {
        "id": "2B6FfsQKMfzO"
      },
      "execution_count": 17,
      "outputs": []
    },
    {
      "cell_type": "code",
      "source": [
        "train_y = pd.Series(train_y)"
      ],
      "metadata": {
        "id": "ywzOmu1WNM8g"
      },
      "execution_count": 18,
      "outputs": []
    },
    {
      "cell_type": "code",
      "source": [
        "# 学習データを学習データとバリデーションデータに分ける\n",
        "from sklearn.model_selection import KFold\n",
        "\n",
        "kf = KFold(n_splits=4, shuffle=True, random_state=71)\n",
        "tr_idx, va_idx = list(kf.split(train_x))[0]\n",
        "tr_x, va_x = train_x.iloc[tr_idx], train_x.iloc[va_idx]\n",
        "tr_y, va_y = train_y.iloc[tr_idx], train_y.iloc[va_idx]"
      ],
      "metadata": {
        "id": "rYJiSjHg-WDg"
      },
      "execution_count": 19,
      "outputs": []
    },
    {
      "cell_type": "code",
      "source": [
        "# xgboostの実装\n",
        "# -----------------------------------\n",
        "import xgboost as xgb\n",
        "from sklearn.metrics import log_loss\n",
        "\n",
        "# 特徴量と目的変数をxgboostのデータ構造に変換する\n",
        "dtrain = xgb.DMatrix(train_x, label=train_y)\n",
        "dvalid = xgb.DMatrix(va_x,label=va_y)\n",
        "dtest = xgb.DMatrix(test_x)"
      ],
      "metadata": {
        "id": "skHLXFJZsacp"
      },
      "execution_count": 20,
      "outputs": []
    },
    {
      "cell_type": "code",
      "source": [
        "# ハイパーパラメータの設定\n",
        "params = {'objective': 'binary:logistic', 'silent': 1, 'random_state': 71}\n",
        "num_round = 50"
      ],
      "metadata": {
        "id": "4A_LiNM_-f-o"
      },
      "execution_count": 21,
      "outputs": []
    },
    {
      "cell_type": "code",
      "source": [
        "# 学習データとバリデーションデータのスコアのモニタリング\n",
        "# -----------------------------------\n",
        "# モニタリングをloglossで行い、アーリーストッピングの観察するroundを20とする\n",
        "params = {'objective': 'binary:logistic', 'silent': 1, 'random_state': 71,\n",
        "          'eval_metric': 'logloss'}\n",
        "num_round = 500\n",
        "watchlist = [(dtrain, 'train'), (dvalid, 'eval')]\n",
        "model = xgb.train(params, dtrain, num_round, evals=watchlist,\n",
        "                  early_stopping_rounds=20)\n"
      ],
      "metadata": {
        "colab": {
          "base_uri": "https://localhost:8080/"
        },
        "id": "E_Y56Uxx5nuC",
        "outputId": "d7bb88fb-5335-4cae-b203-092a6b576453"
      },
      "execution_count": 22,
      "outputs": [
        {
          "output_type": "stream",
          "name": "stdout",
          "text": [
            "[0]\ttrain-logloss:0.439001\teval-logloss:0.439062\n",
            "Multiple eval metrics have been passed: 'eval-logloss' will be used for early stopping.\n",
            "\n",
            "Will train until eval-logloss hasn't improved in 20 rounds.\n",
            "[1]\ttrain-logloss:0.299221\teval-logloss:0.299456\n",
            "[2]\ttrain-logloss:0.210657\teval-logloss:0.210646\n",
            "[3]\ttrain-logloss:0.151941\teval-logloss:0.152083\n",
            "[4]\ttrain-logloss:0.110787\teval-logloss:0.110647\n",
            "[5]\ttrain-logloss:0.081409\teval-logloss:0.081335\n",
            "[6]\ttrain-logloss:0.060547\teval-logloss:0.06011\n",
            "[7]\ttrain-logloss:0.044743\teval-logloss:0.044882\n",
            "[8]\ttrain-logloss:0.033711\teval-logloss:0.033665\n",
            "[9]\ttrain-logloss:0.025436\teval-logloss:0.025328\n",
            "[10]\ttrain-logloss:0.019323\teval-logloss:0.01938\n",
            "[11]\ttrain-logloss:0.01491\teval-logloss:0.014888\n",
            "[12]\ttrain-logloss:0.011517\teval-logloss:0.011568\n",
            "[13]\ttrain-logloss:0.008898\teval-logloss:0.008896\n",
            "[14]\ttrain-logloss:0.006851\teval-logloss:0.006977\n",
            "[15]\ttrain-logloss:0.005436\teval-logloss:0.005493\n",
            "[16]\ttrain-logloss:0.004215\teval-logloss:0.004297\n",
            "[17]\ttrain-logloss:0.003464\teval-logloss:0.003533\n",
            "[18]\ttrain-logloss:0.002735\teval-logloss:0.002796\n",
            "[19]\ttrain-logloss:0.002258\teval-logloss:0.002304\n",
            "[20]\ttrain-logloss:0.001848\teval-logloss:0.001908\n",
            "[21]\ttrain-logloss:0.001552\teval-logloss:0.001599\n",
            "[22]\ttrain-logloss:0.001329\teval-logloss:0.001372\n",
            "[23]\ttrain-logloss:0.001153\teval-logloss:0.001192\n",
            "[24]\ttrain-logloss:0.001017\teval-logloss:0.001061\n",
            "[25]\ttrain-logloss:0.000908\teval-logloss:0.000945\n",
            "[26]\ttrain-logloss:0.000805\teval-logloss:0.000846\n",
            "[27]\ttrain-logloss:0.000709\teval-logloss:0.000739\n",
            "[28]\ttrain-logloss:0.000622\teval-logloss:0.000657\n",
            "[29]\ttrain-logloss:0.000546\teval-logloss:0.000573\n",
            "[30]\ttrain-logloss:0.000502\teval-logloss:0.000528\n",
            "[31]\ttrain-logloss:0.00046\teval-logloss:0.000482\n",
            "[32]\ttrain-logloss:0.000437\teval-logloss:0.000461\n",
            "[33]\ttrain-logloss:0.000406\teval-logloss:0.000429\n",
            "[34]\ttrain-logloss:0.000375\teval-logloss:0.000394\n",
            "[35]\ttrain-logloss:0.000344\teval-logloss:0.000366\n",
            "[36]\ttrain-logloss:0.000325\teval-logloss:0.000345\n",
            "[37]\ttrain-logloss:0.000316\teval-logloss:0.000335\n",
            "[38]\ttrain-logloss:0.000298\teval-logloss:0.000316\n",
            "[39]\ttrain-logloss:0.000276\teval-logloss:0.000294\n",
            "[40]\ttrain-logloss:0.000265\teval-logloss:0.000281\n",
            "[41]\ttrain-logloss:0.000235\teval-logloss:0.000249\n",
            "[42]\ttrain-logloss:0.000209\teval-logloss:0.000223\n",
            "[43]\ttrain-logloss:0.000193\teval-logloss:0.000206\n",
            "[44]\ttrain-logloss:0.000171\teval-logloss:0.000182\n",
            "[45]\ttrain-logloss:0.000157\teval-logloss:0.000166\n",
            "[46]\ttrain-logloss:0.000148\teval-logloss:0.000157\n",
            "[47]\ttrain-logloss:0.000136\teval-logloss:0.000144\n",
            "[48]\ttrain-logloss:0.000125\teval-logloss:0.000134\n",
            "[49]\ttrain-logloss:0.00012\teval-logloss:0.000128\n",
            "[50]\ttrain-logloss:0.00011\teval-logloss:0.000117\n",
            "[51]\ttrain-logloss:0.000104\teval-logloss:0.00011\n",
            "[52]\ttrain-logloss:9.6e-05\teval-logloss:0.000102\n",
            "[53]\ttrain-logloss:9.1e-05\teval-logloss:9.7e-05\n",
            "[54]\ttrain-logloss:8.9e-05\teval-logloss:9.4e-05\n",
            "[55]\ttrain-logloss:8.1e-05\teval-logloss:8.6e-05\n",
            "[56]\ttrain-logloss:7.5e-05\teval-logloss:7.9e-05\n",
            "[57]\ttrain-logloss:7.1e-05\teval-logloss:7.5e-05\n",
            "[58]\ttrain-logloss:6.9e-05\teval-logloss:7.3e-05\n",
            "[59]\ttrain-logloss:6.6e-05\teval-logloss:7e-05\n",
            "[60]\ttrain-logloss:6.2e-05\teval-logloss:6.5e-05\n",
            "[61]\ttrain-logloss:5.8e-05\teval-logloss:6.1e-05\n",
            "[62]\ttrain-logloss:5.5e-05\teval-logloss:5.8e-05\n",
            "[63]\ttrain-logloss:5.2e-05\teval-logloss:5.5e-05\n",
            "[64]\ttrain-logloss:5e-05\teval-logloss:5.2e-05\n",
            "[65]\ttrain-logloss:4.8e-05\teval-logloss:5e-05\n",
            "[66]\ttrain-logloss:4.7e-05\teval-logloss:4.8e-05\n",
            "[67]\ttrain-logloss:4.4e-05\teval-logloss:4.5e-05\n",
            "[68]\ttrain-logloss:4.2e-05\teval-logloss:4.2e-05\n",
            "[69]\ttrain-logloss:3.9e-05\teval-logloss:3.9e-05\n",
            "[70]\ttrain-logloss:3.7e-05\teval-logloss:3.7e-05\n",
            "[71]\ttrain-logloss:3.5e-05\teval-logloss:3.5e-05\n",
            "[72]\ttrain-logloss:3.4e-05\teval-logloss:3.4e-05\n",
            "[73]\ttrain-logloss:3.3e-05\teval-logloss:3.2e-05\n",
            "[74]\ttrain-logloss:3.2e-05\teval-logloss:3.1e-05\n",
            "[75]\ttrain-logloss:3.1e-05\teval-logloss:3e-05\n",
            "[76]\ttrain-logloss:3e-05\teval-logloss:2.9e-05\n",
            "[77]\ttrain-logloss:2.8e-05\teval-logloss:2.8e-05\n",
            "[78]\ttrain-logloss:2.8e-05\teval-logloss:2.7e-05\n",
            "[79]\ttrain-logloss:2.7e-05\teval-logloss:2.6e-05\n",
            "[80]\ttrain-logloss:2.6e-05\teval-logloss:2.5e-05\n",
            "[81]\ttrain-logloss:2.5e-05\teval-logloss:2.4e-05\n",
            "[82]\ttrain-logloss:2.4e-05\teval-logloss:2.4e-05\n",
            "[83]\ttrain-logloss:2.3e-05\teval-logloss:2.3e-05\n",
            "[84]\ttrain-logloss:2.3e-05\teval-logloss:2.2e-05\n",
            "[85]\ttrain-logloss:2.2e-05\teval-logloss:2.1e-05\n",
            "[86]\ttrain-logloss:2.1e-05\teval-logloss:2.1e-05\n",
            "[87]\ttrain-logloss:2.1e-05\teval-logloss:2e-05\n",
            "[88]\ttrain-logloss:2e-05\teval-logloss:2e-05\n",
            "[89]\ttrain-logloss:2e-05\teval-logloss:1.9e-05\n",
            "[90]\ttrain-logloss:1.9e-05\teval-logloss:1.8e-05\n",
            "[91]\ttrain-logloss:1.8e-05\teval-logloss:1.8e-05\n",
            "[92]\ttrain-logloss:1.8e-05\teval-logloss:1.7e-05\n",
            "[93]\ttrain-logloss:1.7e-05\teval-logloss:1.7e-05\n",
            "[94]\ttrain-logloss:1.7e-05\teval-logloss:1.7e-05\n",
            "[95]\ttrain-logloss:1.7e-05\teval-logloss:1.6e-05\n",
            "[96]\ttrain-logloss:1.6e-05\teval-logloss:1.6e-05\n",
            "[97]\ttrain-logloss:1.6e-05\teval-logloss:1.6e-05\n",
            "[98]\ttrain-logloss:1.6e-05\teval-logloss:1.5e-05\n",
            "[99]\ttrain-logloss:1.5e-05\teval-logloss:1.5e-05\n",
            "[100]\ttrain-logloss:1.5e-05\teval-logloss:1.5e-05\n",
            "[101]\ttrain-logloss:1.5e-05\teval-logloss:1.4e-05\n",
            "[102]\ttrain-logloss:1.5e-05\teval-logloss:1.4e-05\n",
            "[103]\ttrain-logloss:1.4e-05\teval-logloss:1.4e-05\n",
            "[104]\ttrain-logloss:1.4e-05\teval-logloss:1.4e-05\n",
            "[105]\ttrain-logloss:1.4e-05\teval-logloss:1.3e-05\n",
            "[106]\ttrain-logloss:1.3e-05\teval-logloss:1.3e-05\n",
            "[107]\ttrain-logloss:1.3e-05\teval-logloss:1.3e-05\n",
            "[108]\ttrain-logloss:1.3e-05\teval-logloss:1.3e-05\n",
            "[109]\ttrain-logloss:1.3e-05\teval-logloss:1.2e-05\n",
            "[110]\ttrain-logloss:1.3e-05\teval-logloss:1.2e-05\n",
            "[111]\ttrain-logloss:1.2e-05\teval-logloss:1.2e-05\n",
            "[112]\ttrain-logloss:1.2e-05\teval-logloss:1.2e-05\n",
            "[113]\ttrain-logloss:1.2e-05\teval-logloss:1.2e-05\n",
            "[114]\ttrain-logloss:1.2e-05\teval-logloss:1.1e-05\n",
            "[115]\ttrain-logloss:1.2e-05\teval-logloss:1.1e-05\n",
            "[116]\ttrain-logloss:1.2e-05\teval-logloss:1.1e-05\n",
            "[117]\ttrain-logloss:1.1e-05\teval-logloss:1.1e-05\n",
            "[118]\ttrain-logloss:1.1e-05\teval-logloss:1.1e-05\n",
            "[119]\ttrain-logloss:1.1e-05\teval-logloss:1.1e-05\n",
            "[120]\ttrain-logloss:1.1e-05\teval-logloss:1.1e-05\n",
            "[121]\ttrain-logloss:1.1e-05\teval-logloss:1.1e-05\n",
            "[122]\ttrain-logloss:1.1e-05\teval-logloss:1e-05\n",
            "[123]\ttrain-logloss:1.1e-05\teval-logloss:1e-05\n",
            "[124]\ttrain-logloss:1e-05\teval-logloss:1e-05\n",
            "[125]\ttrain-logloss:1e-05\teval-logloss:1e-05\n",
            "[126]\ttrain-logloss:1e-05\teval-logloss:1e-05\n",
            "[127]\ttrain-logloss:1e-05\teval-logloss:1e-05\n",
            "[128]\ttrain-logloss:1e-05\teval-logloss:1e-05\n",
            "[129]\ttrain-logloss:1e-05\teval-logloss:1e-05\n",
            "[130]\ttrain-logloss:1e-05\teval-logloss:1e-05\n",
            "[131]\ttrain-logloss:1e-05\teval-logloss:9e-06\n",
            "[132]\ttrain-logloss:9e-06\teval-logloss:9e-06\n",
            "[133]\ttrain-logloss:9e-06\teval-logloss:9e-06\n",
            "[134]\ttrain-logloss:9e-06\teval-logloss:9e-06\n",
            "[135]\ttrain-logloss:9e-06\teval-logloss:9e-06\n",
            "[136]\ttrain-logloss:9e-06\teval-logloss:9e-06\n",
            "[137]\ttrain-logloss:9e-06\teval-logloss:9e-06\n",
            "[138]\ttrain-logloss:9e-06\teval-logloss:9e-06\n",
            "[139]\ttrain-logloss:9e-06\teval-logloss:9e-06\n",
            "[140]\ttrain-logloss:9e-06\teval-logloss:8e-06\n",
            "[141]\ttrain-logloss:9e-06\teval-logloss:8e-06\n",
            "[142]\ttrain-logloss:8e-06\teval-logloss:8e-06\n",
            "[143]\ttrain-logloss:8e-06\teval-logloss:8e-06\n",
            "[144]\ttrain-logloss:8e-06\teval-logloss:8e-06\n",
            "[145]\ttrain-logloss:8e-06\teval-logloss:8e-06\n",
            "[146]\ttrain-logloss:8e-06\teval-logloss:8e-06\n",
            "[147]\ttrain-logloss:8e-06\teval-logloss:8e-06\n",
            "[148]\ttrain-logloss:8e-06\teval-logloss:8e-06\n",
            "[149]\ttrain-logloss:8e-06\teval-logloss:8e-06\n",
            "[150]\ttrain-logloss:8e-06\teval-logloss:8e-06\n",
            "[151]\ttrain-logloss:8e-06\teval-logloss:8e-06\n",
            "[152]\ttrain-logloss:8e-06\teval-logloss:8e-06\n",
            "[153]\ttrain-logloss:8e-06\teval-logloss:7e-06\n",
            "[154]\ttrain-logloss:8e-06\teval-logloss:7e-06\n",
            "[155]\ttrain-logloss:8e-06\teval-logloss:7e-06\n",
            "[156]\ttrain-logloss:7e-06\teval-logloss:7e-06\n",
            "[157]\ttrain-logloss:7e-06\teval-logloss:7e-06\n",
            "[158]\ttrain-logloss:7e-06\teval-logloss:7e-06\n",
            "[159]\ttrain-logloss:7e-06\teval-logloss:7e-06\n",
            "[160]\ttrain-logloss:7e-06\teval-logloss:7e-06\n",
            "[161]\ttrain-logloss:7e-06\teval-logloss:7e-06\n",
            "[162]\ttrain-logloss:7e-06\teval-logloss:7e-06\n",
            "[163]\ttrain-logloss:7e-06\teval-logloss:7e-06\n",
            "[164]\ttrain-logloss:7e-06\teval-logloss:7e-06\n",
            "[165]\ttrain-logloss:7e-06\teval-logloss:7e-06\n",
            "[166]\ttrain-logloss:7e-06\teval-logloss:7e-06\n",
            "[167]\ttrain-logloss:7e-06\teval-logloss:7e-06\n",
            "[168]\ttrain-logloss:7e-06\teval-logloss:7e-06\n",
            "[169]\ttrain-logloss:7e-06\teval-logloss:7e-06\n",
            "[170]\ttrain-logloss:7e-06\teval-logloss:7e-06\n",
            "[171]\ttrain-logloss:7e-06\teval-logloss:7e-06\n",
            "[172]\ttrain-logloss:7e-06\teval-logloss:6e-06\n",
            "[173]\ttrain-logloss:7e-06\teval-logloss:6e-06\n",
            "[174]\ttrain-logloss:7e-06\teval-logloss:6e-06\n",
            "[175]\ttrain-logloss:7e-06\teval-logloss:6e-06\n",
            "[176]\ttrain-logloss:7e-06\teval-logloss:6e-06\n",
            "[177]\ttrain-logloss:6e-06\teval-logloss:6e-06\n",
            "[178]\ttrain-logloss:6e-06\teval-logloss:6e-06\n",
            "[179]\ttrain-logloss:6e-06\teval-logloss:6e-06\n",
            "[180]\ttrain-logloss:6e-06\teval-logloss:6e-06\n",
            "[181]\ttrain-logloss:6e-06\teval-logloss:6e-06\n",
            "[182]\ttrain-logloss:6e-06\teval-logloss:6e-06\n",
            "[183]\ttrain-logloss:6e-06\teval-logloss:6e-06\n",
            "[184]\ttrain-logloss:6e-06\teval-logloss:6e-06\n",
            "[185]\ttrain-logloss:6e-06\teval-logloss:6e-06\n",
            "[186]\ttrain-logloss:6e-06\teval-logloss:6e-06\n",
            "[187]\ttrain-logloss:6e-06\teval-logloss:6e-06\n",
            "[188]\ttrain-logloss:6e-06\teval-logloss:6e-06\n",
            "[189]\ttrain-logloss:6e-06\teval-logloss:6e-06\n",
            "[190]\ttrain-logloss:6e-06\teval-logloss:6e-06\n",
            "[191]\ttrain-logloss:6e-06\teval-logloss:6e-06\n",
            "[192]\ttrain-logloss:6e-06\teval-logloss:6e-06\n",
            "Stopping. Best iteration:\n",
            "[172]\ttrain-logloss:7e-06\teval-logloss:6e-06\n",
            "\n"
          ]
        }
      ]
    },
    {
      "cell_type": "code",
      "source": [
        "# 構築したモデルの保存\n",
        "import pickle\n",
        "file = '/content/drive/MyDrive/Nishika ソフトウェアの異常検知/モデル/xgboost_trained_model7.pkl'\n",
        "pickle.dump(model, open(file, 'wb'))\n",
        "\n",
        "# 学習済みモデルを削除\n",
        "del model"
      ],
      "metadata": {
        "id": "hWB8MXOaDnmy"
      },
      "execution_count": 23,
      "outputs": []
    },
    {
      "cell_type": "code",
      "metadata": {
        "id": "dgmXbDYuLxsw"
      },
      "source": [
        "#from モジュール名 import クラス名（もしくは関数名や変数名）\n",
        "import pandas as pd\n",
        "from pandas import DataFrame\n",
        "import numpy as np\n",
        "import matplotlib.pyplot as plt\n",
        "import seaborn as sns\n",
        "\n",
        "#matplotlibをinlineで表示するためのおまじない (plt.show()しなくていい)\n",
        "%matplotlib inline"
      ],
      "execution_count": 24,
      "outputs": []
    },
    {
      "cell_type": "code",
      "source": [
        "# 構築したモデルの読み込み\n",
        "import pickle\n",
        "filename = '/content/drive/MyDrive/Nishika ソフトウェアの異常検知/モデル/xgboost_trained_model7.pkl'\n",
        "loaded_model = pickle.load(open(filename, 'rb'))"
      ],
      "metadata": {
        "id": "Z_PYPmY3HEh5"
      },
      "execution_count": 27,
      "outputs": []
    },
    {
      "cell_type": "code",
      "source": [
        "# submission csvファイルの読み込み\n",
        "submission_df = pd.read_csv('/content/drive/MyDrive/Nishika ソフトウェアの異常検知/data.zip (Unzipped Files)/sample_submission.csv')"
      ],
      "metadata": {
        "id": "qcF2M4OyDzuA"
      },
      "execution_count": 28,
      "outputs": []
    },
    {
      "cell_type": "code",
      "source": [
        "id_df=submission_df.iloc[:,0]\n",
        "id_df.head()"
      ],
      "metadata": {
        "colab": {
          "base_uri": "https://localhost:8080/"
        },
        "id": "rsQhrsT6OWi_",
        "outputId": "b617d2ce-1e2f-49f4-e85f-9e14d76aff1f"
      },
      "execution_count": 29,
      "outputs": [
        {
          "output_type": "execute_result",
          "data": {
            "text/plain": [
              "0    0\n",
              "1    1\n",
              "2    2\n",
              "3    3\n",
              "4    4\n",
              "Name: id, dtype: int64"
            ]
          },
          "metadata": {},
          "execution_count": 29
        }
      ]
    },
    {
      "cell_type": "code",
      "source": [
        "pred=loaded_model.predict(dtest,ntree_limit=loaded_model.best_ntree_limit)"
      ],
      "metadata": {
        "id": "eSCcGuM7JLHy"
      },
      "execution_count": 34,
      "outputs": []
    },
    {
      "cell_type": "code",
      "source": [
        "pred_df = pd.DataFrame(pred)\n",
        "pred_df.head()"
      ],
      "metadata": {
        "colab": {
          "base_uri": "https://localhost:8080/",
          "height": 206
        },
        "id": "HLK86jPqQ1nO",
        "outputId": "41538b7b-dcdc-4c07-fb35-3e7c78b94e48"
      },
      "execution_count": 35,
      "outputs": [
        {
          "output_type": "execute_result",
          "data": {
            "text/html": [
              "\n",
              "  <div id=\"df-07c25539-806f-42e1-9394-abbe8eef0821\">\n",
              "    <div class=\"colab-df-container\">\n",
              "      <div>\n",
              "<style scoped>\n",
              "    .dataframe tbody tr th:only-of-type {\n",
              "        vertical-align: middle;\n",
              "    }\n",
              "\n",
              "    .dataframe tbody tr th {\n",
              "        vertical-align: top;\n",
              "    }\n",
              "\n",
              "    .dataframe thead th {\n",
              "        text-align: right;\n",
              "    }\n",
              "</style>\n",
              "<table border=\"1\" class=\"dataframe\">\n",
              "  <thead>\n",
              "    <tr style=\"text-align: right;\">\n",
              "      <th></th>\n",
              "      <th>0</th>\n",
              "    </tr>\n",
              "  </thead>\n",
              "  <tbody>\n",
              "    <tr>\n",
              "      <th>0</th>\n",
              "      <td>2.486598e-07</td>\n",
              "    </tr>\n",
              "    <tr>\n",
              "      <th>1</th>\n",
              "      <td>8.010239e-08</td>\n",
              "    </tr>\n",
              "    <tr>\n",
              "      <th>2</th>\n",
              "      <td>1.977613e-07</td>\n",
              "    </tr>\n",
              "    <tr>\n",
              "      <th>3</th>\n",
              "      <td>1.977613e-07</td>\n",
              "    </tr>\n",
              "    <tr>\n",
              "      <th>4</th>\n",
              "      <td>1.038383e-07</td>\n",
              "    </tr>\n",
              "  </tbody>\n",
              "</table>\n",
              "</div>\n",
              "      <button class=\"colab-df-convert\" onclick=\"convertToInteractive('df-07c25539-806f-42e1-9394-abbe8eef0821')\"\n",
              "              title=\"Convert this dataframe to an interactive table.\"\n",
              "              style=\"display:none;\">\n",
              "        \n",
              "  <svg xmlns=\"http://www.w3.org/2000/svg\" height=\"24px\"viewBox=\"0 0 24 24\"\n",
              "       width=\"24px\">\n",
              "    <path d=\"M0 0h24v24H0V0z\" fill=\"none\"/>\n",
              "    <path d=\"M18.56 5.44l.94 2.06.94-2.06 2.06-.94-2.06-.94-.94-2.06-.94 2.06-2.06.94zm-11 1L8.5 8.5l.94-2.06 2.06-.94-2.06-.94L8.5 2.5l-.94 2.06-2.06.94zm10 10l.94 2.06.94-2.06 2.06-.94-2.06-.94-.94-2.06-.94 2.06-2.06.94z\"/><path d=\"M17.41 7.96l-1.37-1.37c-.4-.4-.92-.59-1.43-.59-.52 0-1.04.2-1.43.59L10.3 9.45l-7.72 7.72c-.78.78-.78 2.05 0 2.83L4 21.41c.39.39.9.59 1.41.59.51 0 1.02-.2 1.41-.59l7.78-7.78 2.81-2.81c.8-.78.8-2.07 0-2.86zM5.41 20L4 18.59l7.72-7.72 1.47 1.35L5.41 20z\"/>\n",
              "  </svg>\n",
              "      </button>\n",
              "      \n",
              "  <style>\n",
              "    .colab-df-container {\n",
              "      display:flex;\n",
              "      flex-wrap:wrap;\n",
              "      gap: 12px;\n",
              "    }\n",
              "\n",
              "    .colab-df-convert {\n",
              "      background-color: #E8F0FE;\n",
              "      border: none;\n",
              "      border-radius: 50%;\n",
              "      cursor: pointer;\n",
              "      display: none;\n",
              "      fill: #1967D2;\n",
              "      height: 32px;\n",
              "      padding: 0 0 0 0;\n",
              "      width: 32px;\n",
              "    }\n",
              "\n",
              "    .colab-df-convert:hover {\n",
              "      background-color: #E2EBFA;\n",
              "      box-shadow: 0px 1px 2px rgba(60, 64, 67, 0.3), 0px 1px 3px 1px rgba(60, 64, 67, 0.15);\n",
              "      fill: #174EA6;\n",
              "    }\n",
              "\n",
              "    [theme=dark] .colab-df-convert {\n",
              "      background-color: #3B4455;\n",
              "      fill: #D2E3FC;\n",
              "    }\n",
              "\n",
              "    [theme=dark] .colab-df-convert:hover {\n",
              "      background-color: #434B5C;\n",
              "      box-shadow: 0px 1px 3px 1px rgba(0, 0, 0, 0.15);\n",
              "      filter: drop-shadow(0px 1px 2px rgba(0, 0, 0, 0.3));\n",
              "      fill: #FFFFFF;\n",
              "    }\n",
              "  </style>\n",
              "\n",
              "      <script>\n",
              "        const buttonEl =\n",
              "          document.querySelector('#df-07c25539-806f-42e1-9394-abbe8eef0821 button.colab-df-convert');\n",
              "        buttonEl.style.display =\n",
              "          google.colab.kernel.accessAllowed ? 'block' : 'none';\n",
              "\n",
              "        async function convertToInteractive(key) {\n",
              "          const element = document.querySelector('#df-07c25539-806f-42e1-9394-abbe8eef0821');\n",
              "          const dataTable =\n",
              "            await google.colab.kernel.invokeFunction('convertToInteractive',\n",
              "                                                     [key], {});\n",
              "          if (!dataTable) return;\n",
              "\n",
              "          const docLinkHtml = 'Like what you see? Visit the ' +\n",
              "            '<a target=\"_blank\" href=https://colab.research.google.com/notebooks/data_table.ipynb>data table notebook</a>'\n",
              "            + ' to learn more about interactive tables.';\n",
              "          element.innerHTML = '';\n",
              "          dataTable['output_type'] = 'display_data';\n",
              "          await google.colab.output.renderOutput(dataTable, element);\n",
              "          const docLink = document.createElement('div');\n",
              "          docLink.innerHTML = docLinkHtml;\n",
              "          element.appendChild(docLink);\n",
              "        }\n",
              "      </script>\n",
              "    </div>\n",
              "  </div>\n",
              "  "
            ],
            "text/plain": [
              "              0\n",
              "0  2.486598e-07\n",
              "1  8.010239e-08\n",
              "2  1.977613e-07\n",
              "3  1.977613e-07\n",
              "4  1.038383e-07"
            ]
          },
          "metadata": {},
          "execution_count": 35
        }
      ]
    },
    {
      "cell_type": "code",
      "source": [
        "output_df=pd.concat([id_df, pred_df],axis=1)\n",
        "output_df.columns=['id','Anomaly']\n",
        "output_df.head()"
      ],
      "metadata": {
        "colab": {
          "base_uri": "https://localhost:8080/",
          "height": 206
        },
        "id": "7j91XkMqRILo",
        "outputId": "910af863-b8c0-4857-cdf0-eeb0c8af0972"
      },
      "execution_count": 36,
      "outputs": [
        {
          "output_type": "execute_result",
          "data": {
            "text/html": [
              "\n",
              "  <div id=\"df-9e20e043-053a-48b5-9396-1e541e1534e1\">\n",
              "    <div class=\"colab-df-container\">\n",
              "      <div>\n",
              "<style scoped>\n",
              "    .dataframe tbody tr th:only-of-type {\n",
              "        vertical-align: middle;\n",
              "    }\n",
              "\n",
              "    .dataframe tbody tr th {\n",
              "        vertical-align: top;\n",
              "    }\n",
              "\n",
              "    .dataframe thead th {\n",
              "        text-align: right;\n",
              "    }\n",
              "</style>\n",
              "<table border=\"1\" class=\"dataframe\">\n",
              "  <thead>\n",
              "    <tr style=\"text-align: right;\">\n",
              "      <th></th>\n",
              "      <th>id</th>\n",
              "      <th>Anomaly</th>\n",
              "    </tr>\n",
              "  </thead>\n",
              "  <tbody>\n",
              "    <tr>\n",
              "      <th>0</th>\n",
              "      <td>0</td>\n",
              "      <td>2.486598e-07</td>\n",
              "    </tr>\n",
              "    <tr>\n",
              "      <th>1</th>\n",
              "      <td>1</td>\n",
              "      <td>8.010239e-08</td>\n",
              "    </tr>\n",
              "    <tr>\n",
              "      <th>2</th>\n",
              "      <td>2</td>\n",
              "      <td>1.977613e-07</td>\n",
              "    </tr>\n",
              "    <tr>\n",
              "      <th>3</th>\n",
              "      <td>3</td>\n",
              "      <td>1.977613e-07</td>\n",
              "    </tr>\n",
              "    <tr>\n",
              "      <th>4</th>\n",
              "      <td>4</td>\n",
              "      <td>1.038383e-07</td>\n",
              "    </tr>\n",
              "  </tbody>\n",
              "</table>\n",
              "</div>\n",
              "      <button class=\"colab-df-convert\" onclick=\"convertToInteractive('df-9e20e043-053a-48b5-9396-1e541e1534e1')\"\n",
              "              title=\"Convert this dataframe to an interactive table.\"\n",
              "              style=\"display:none;\">\n",
              "        \n",
              "  <svg xmlns=\"http://www.w3.org/2000/svg\" height=\"24px\"viewBox=\"0 0 24 24\"\n",
              "       width=\"24px\">\n",
              "    <path d=\"M0 0h24v24H0V0z\" fill=\"none\"/>\n",
              "    <path d=\"M18.56 5.44l.94 2.06.94-2.06 2.06-.94-2.06-.94-.94-2.06-.94 2.06-2.06.94zm-11 1L8.5 8.5l.94-2.06 2.06-.94-2.06-.94L8.5 2.5l-.94 2.06-2.06.94zm10 10l.94 2.06.94-2.06 2.06-.94-2.06-.94-.94-2.06-.94 2.06-2.06.94z\"/><path d=\"M17.41 7.96l-1.37-1.37c-.4-.4-.92-.59-1.43-.59-.52 0-1.04.2-1.43.59L10.3 9.45l-7.72 7.72c-.78.78-.78 2.05 0 2.83L4 21.41c.39.39.9.59 1.41.59.51 0 1.02-.2 1.41-.59l7.78-7.78 2.81-2.81c.8-.78.8-2.07 0-2.86zM5.41 20L4 18.59l7.72-7.72 1.47 1.35L5.41 20z\"/>\n",
              "  </svg>\n",
              "      </button>\n",
              "      \n",
              "  <style>\n",
              "    .colab-df-container {\n",
              "      display:flex;\n",
              "      flex-wrap:wrap;\n",
              "      gap: 12px;\n",
              "    }\n",
              "\n",
              "    .colab-df-convert {\n",
              "      background-color: #E8F0FE;\n",
              "      border: none;\n",
              "      border-radius: 50%;\n",
              "      cursor: pointer;\n",
              "      display: none;\n",
              "      fill: #1967D2;\n",
              "      height: 32px;\n",
              "      padding: 0 0 0 0;\n",
              "      width: 32px;\n",
              "    }\n",
              "\n",
              "    .colab-df-convert:hover {\n",
              "      background-color: #E2EBFA;\n",
              "      box-shadow: 0px 1px 2px rgba(60, 64, 67, 0.3), 0px 1px 3px 1px rgba(60, 64, 67, 0.15);\n",
              "      fill: #174EA6;\n",
              "    }\n",
              "\n",
              "    [theme=dark] .colab-df-convert {\n",
              "      background-color: #3B4455;\n",
              "      fill: #D2E3FC;\n",
              "    }\n",
              "\n",
              "    [theme=dark] .colab-df-convert:hover {\n",
              "      background-color: #434B5C;\n",
              "      box-shadow: 0px 1px 3px 1px rgba(0, 0, 0, 0.15);\n",
              "      filter: drop-shadow(0px 1px 2px rgba(0, 0, 0, 0.3));\n",
              "      fill: #FFFFFF;\n",
              "    }\n",
              "  </style>\n",
              "\n",
              "      <script>\n",
              "        const buttonEl =\n",
              "          document.querySelector('#df-9e20e043-053a-48b5-9396-1e541e1534e1 button.colab-df-convert');\n",
              "        buttonEl.style.display =\n",
              "          google.colab.kernel.accessAllowed ? 'block' : 'none';\n",
              "\n",
              "        async function convertToInteractive(key) {\n",
              "          const element = document.querySelector('#df-9e20e043-053a-48b5-9396-1e541e1534e1');\n",
              "          const dataTable =\n",
              "            await google.colab.kernel.invokeFunction('convertToInteractive',\n",
              "                                                     [key], {});\n",
              "          if (!dataTable) return;\n",
              "\n",
              "          const docLinkHtml = 'Like what you see? Visit the ' +\n",
              "            '<a target=\"_blank\" href=https://colab.research.google.com/notebooks/data_table.ipynb>data table notebook</a>'\n",
              "            + ' to learn more about interactive tables.';\n",
              "          element.innerHTML = '';\n",
              "          dataTable['output_type'] = 'display_data';\n",
              "          await google.colab.output.renderOutput(dataTable, element);\n",
              "          const docLink = document.createElement('div');\n",
              "          docLink.innerHTML = docLinkHtml;\n",
              "          element.appendChild(docLink);\n",
              "        }\n",
              "      </script>\n",
              "    </div>\n",
              "  </div>\n",
              "  "
            ],
            "text/plain": [
              "   id       Anomaly\n",
              "0   0  2.486598e-07\n",
              "1   1  8.010239e-08\n",
              "2   2  1.977613e-07\n",
              "3   3  1.977613e-07\n",
              "4   4  1.038383e-07"
            ]
          },
          "metadata": {},
          "execution_count": 36
        }
      ]
    },
    {
      "cell_type": "code",
      "source": [
        "output_df.to_csv('/content/drive/MyDrive/Nishika ソフトウェアの異常検知/提出用ファイル/model7.csv',index=False)"
      ],
      "metadata": {
        "id": "osfzFXurLBEo"
      },
      "execution_count": 37,
      "outputs": []
    },
    {
      "cell_type": "code",
      "source": [
        ""
      ],
      "metadata": {
        "id": "dwEZXLjIhN8n"
      },
      "execution_count": null,
      "outputs": []
    }
  ]
}
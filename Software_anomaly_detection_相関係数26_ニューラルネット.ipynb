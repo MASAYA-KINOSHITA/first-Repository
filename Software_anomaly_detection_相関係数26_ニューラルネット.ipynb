{
  "nbformat": 4,
  "nbformat_minor": 0,
  "metadata": {
    "colab": {
      "name": "Software anomaly detection_相関係数26_ニューラルネット.ipynb",
      "provenance": [],
      "collapsed_sections": [],
      "mount_file_id": "1g2L_uSmTmL5bspxwUFhfYBBkA_ryF6-k",
      "authorship_tag": "ABX9TyNy2+fbetQu1vnrbre5K58y",
      "include_colab_link": true
    },
    "kernelspec": {
      "name": "python3",
      "display_name": "Python 3"
    },
    "language_info": {
      "name": "python"
    }
  },
  "cells": [
    {
      "cell_type": "markdown",
      "metadata": {
        "id": "view-in-github",
        "colab_type": "text"
      },
      "source": [
        "<a href=\"https://colab.research.google.com/github/MASAYA-KINOSHITA/first-Repository/blob/main/Software_anomaly_detection_%E7%9B%B8%E9%96%A2%E4%BF%82%E6%95%B026_%E3%83%8B%E3%83%A5%E3%83%BC%E3%83%A9%E3%83%AB%E3%83%8D%E3%83%83%E3%83%88.ipynb\" target=\"_parent\"><img src=\"https://colab.research.google.com/assets/colab-badge.svg\" alt=\"Open In Colab\"/></a>"
      ]
    },
    {
      "cell_type": "code",
      "source": [
        "# ライブラリのインポート\n",
        "import pandas as pd # 基本ライブラリ\n",
        "import numpy as np # 基本ライブラリ\n",
        "import matplotlib.pyplot as plt # グラフ描画用\n",
        "import seaborn as sns; sns.set() # グラフ描画用\n",
        "import warnings # 実行に関係ない警告を無視\n",
        "warnings.filterwarnings('ignore')\n",
        "\n",
        "!pip install optuna #optunaのインストール\n",
        "\n",
        "import optuna.integration.lightgbm as lgb_tune #LightGBMのパラメータチューニング\n",
        "import lightgbm as lgb #LightGBM\n",
        "from sklearn import datasets\n",
        "from sklearn.model_selection import train_test_split # データセット分割用\n",
        "from sklearn.metrics import accuracy_score # モデル評価用(正答率)\n",
        "from sklearn.metrics import log_loss # モデル評価用(logloss)     \n",
        "from sklearn.metrics import roc_auc_score # モデル評価用(auc)\n",
        "# 評価指標\n",
        "from sklearn.metrics import r2_score\n",
        "from sklearn.metrics import mean_absolute_error\n",
        "from sklearn.metrics import mean_squared_error\n",
        "\n",
        "\n",
        "\n",
        "# データフレームを綺麗に出力する関数\n",
        "import IPython\n",
        "def display(*dfs, head=True):\n",
        "    for df in dfs:\n",
        "        IPython.display.display(df.head() if head else df)"
      ],
      "metadata": {
        "colab": {
          "base_uri": "https://localhost:8080/"
        },
        "id": "dHsc-VD6Z2iN",
        "outputId": "91983484-4fc9-46a3-ed36-f79e6dfaa8a8"
      },
      "execution_count": 1,
      "outputs": [
        {
          "output_type": "stream",
          "name": "stdout",
          "text": [
            "Collecting optuna\n",
            "  Downloading optuna-2.10.0-py3-none-any.whl (308 kB)\n",
            "\u001b[?25l\r\u001b[K     |█                               | 10 kB 18.8 MB/s eta 0:00:01\r\u001b[K     |██▏                             | 20 kB 22.7 MB/s eta 0:00:01\r\u001b[K     |███▏                            | 30 kB 12.8 MB/s eta 0:00:01\r\u001b[K     |████▎                           | 40 kB 10.0 MB/s eta 0:00:01\r\u001b[K     |█████▎                          | 51 kB 4.7 MB/s eta 0:00:01\r\u001b[K     |██████▍                         | 61 kB 5.4 MB/s eta 0:00:01\r\u001b[K     |███████▍                        | 71 kB 5.8 MB/s eta 0:00:01\r\u001b[K     |████████▌                       | 81 kB 5.9 MB/s eta 0:00:01\r\u001b[K     |█████████▋                      | 92 kB 6.5 MB/s eta 0:00:01\r\u001b[K     |██████████▋                     | 102 kB 5.2 MB/s eta 0:00:01\r\u001b[K     |███████████▊                    | 112 kB 5.2 MB/s eta 0:00:01\r\u001b[K     |████████████▊                   | 122 kB 5.2 MB/s eta 0:00:01\r\u001b[K     |█████████████▉                  | 133 kB 5.2 MB/s eta 0:00:01\r\u001b[K     |██████████████▉                 | 143 kB 5.2 MB/s eta 0:00:01\r\u001b[K     |████████████████                | 153 kB 5.2 MB/s eta 0:00:01\r\u001b[K     |█████████████████               | 163 kB 5.2 MB/s eta 0:00:01\r\u001b[K     |██████████████████              | 174 kB 5.2 MB/s eta 0:00:01\r\u001b[K     |███████████████████▏            | 184 kB 5.2 MB/s eta 0:00:01\r\u001b[K     |████████████████████▏           | 194 kB 5.2 MB/s eta 0:00:01\r\u001b[K     |█████████████████████▎          | 204 kB 5.2 MB/s eta 0:00:01\r\u001b[K     |██████████████████████▎         | 215 kB 5.2 MB/s eta 0:00:01\r\u001b[K     |███████████████████████▍        | 225 kB 5.2 MB/s eta 0:00:01\r\u001b[K     |████████████████████████▌       | 235 kB 5.2 MB/s eta 0:00:01\r\u001b[K     |█████████████████████████▌      | 245 kB 5.2 MB/s eta 0:00:01\r\u001b[K     |██████████████████████████▋     | 256 kB 5.2 MB/s eta 0:00:01\r\u001b[K     |███████████████████████████▋    | 266 kB 5.2 MB/s eta 0:00:01\r\u001b[K     |████████████████████████████▊   | 276 kB 5.2 MB/s eta 0:00:01\r\u001b[K     |█████████████████████████████▊  | 286 kB 5.2 MB/s eta 0:00:01\r\u001b[K     |██████████████████████████████▉ | 296 kB 5.2 MB/s eta 0:00:01\r\u001b[K     |████████████████████████████████| 307 kB 5.2 MB/s eta 0:00:01\r\u001b[K     |████████████████████████████████| 308 kB 5.2 MB/s \n",
            "\u001b[?25hCollecting cmaes>=0.8.2\n",
            "  Downloading cmaes-0.8.2-py3-none-any.whl (15 kB)\n",
            "Collecting alembic\n",
            "  Downloading alembic-1.7.7-py3-none-any.whl (210 kB)\n",
            "\u001b[K     |████████████████████████████████| 210 kB 54.3 MB/s \n",
            "\u001b[?25hRequirement already satisfied: packaging>=20.0 in /usr/local/lib/python3.7/dist-packages (from optuna) (21.3)\n",
            "Requirement already satisfied: PyYAML in /usr/local/lib/python3.7/dist-packages (from optuna) (3.13)\n",
            "Requirement already satisfied: scipy!=1.4.0 in /usr/local/lib/python3.7/dist-packages (from optuna) (1.4.1)\n",
            "Collecting cliff\n",
            "  Downloading cliff-3.10.1-py3-none-any.whl (81 kB)\n",
            "\u001b[K     |████████████████████████████████| 81 kB 7.5 MB/s \n",
            "\u001b[?25hCollecting colorlog\n",
            "  Downloading colorlog-6.6.0-py2.py3-none-any.whl (11 kB)\n",
            "Requirement already satisfied: numpy in /usr/local/lib/python3.7/dist-packages (from optuna) (1.21.5)\n",
            "Requirement already satisfied: sqlalchemy>=1.1.0 in /usr/local/lib/python3.7/dist-packages (from optuna) (1.4.32)\n",
            "Requirement already satisfied: tqdm in /usr/local/lib/python3.7/dist-packages (from optuna) (4.63.0)\n",
            "Requirement already satisfied: pyparsing!=3.0.5,>=2.0.2 in /usr/local/lib/python3.7/dist-packages (from packaging>=20.0->optuna) (3.0.7)\n",
            "Requirement already satisfied: importlib-metadata in /usr/local/lib/python3.7/dist-packages (from sqlalchemy>=1.1.0->optuna) (4.11.2)\n",
            "Requirement already satisfied: greenlet!=0.4.17 in /usr/local/lib/python3.7/dist-packages (from sqlalchemy>=1.1.0->optuna) (1.1.2)\n",
            "Requirement already satisfied: importlib-resources in /usr/local/lib/python3.7/dist-packages (from alembic->optuna) (5.4.0)\n",
            "Collecting Mako\n",
            "  Downloading Mako-1.2.0-py3-none-any.whl (78 kB)\n",
            "\u001b[K     |████████████████████████████████| 78 kB 5.6 MB/s \n",
            "\u001b[?25hRequirement already satisfied: PrettyTable>=0.7.2 in /usr/local/lib/python3.7/dist-packages (from cliff->optuna) (3.2.0)\n",
            "Collecting stevedore>=2.0.1\n",
            "  Downloading stevedore-3.5.0-py3-none-any.whl (49 kB)\n",
            "\u001b[K     |████████████████████████████████| 49 kB 4.8 MB/s \n",
            "\u001b[?25hCollecting autopage>=0.4.0\n",
            "  Downloading autopage-0.5.0-py3-none-any.whl (29 kB)\n",
            "Collecting pbr!=2.1.0,>=2.0.0\n",
            "  Downloading pbr-5.8.1-py2.py3-none-any.whl (113 kB)\n",
            "\u001b[K     |████████████████████████████████| 113 kB 53.8 MB/s \n",
            "\u001b[?25hCollecting cmd2>=1.0.0\n",
            "  Downloading cmd2-2.4.0-py3-none-any.whl (150 kB)\n",
            "\u001b[K     |████████████████████████████████| 150 kB 57.9 MB/s \n",
            "\u001b[?25hRequirement already satisfied: attrs>=16.3.0 in /usr/local/lib/python3.7/dist-packages (from cmd2>=1.0.0->cliff->optuna) (21.4.0)\n",
            "Requirement already satisfied: typing-extensions in /usr/local/lib/python3.7/dist-packages (from cmd2>=1.0.0->cliff->optuna) (3.10.0.2)\n",
            "Requirement already satisfied: wcwidth>=0.1.7 in /usr/local/lib/python3.7/dist-packages (from cmd2>=1.0.0->cliff->optuna) (0.2.5)\n",
            "Collecting pyperclip>=1.6\n",
            "  Downloading pyperclip-1.8.2.tar.gz (20 kB)\n",
            "Requirement already satisfied: zipp>=0.5 in /usr/local/lib/python3.7/dist-packages (from importlib-metadata->sqlalchemy>=1.1.0->optuna) (3.7.0)\n",
            "Requirement already satisfied: MarkupSafe>=0.9.2 in /usr/local/lib/python3.7/dist-packages (from Mako->alembic->optuna) (2.0.1)\n",
            "Building wheels for collected packages: pyperclip\n",
            "  Building wheel for pyperclip (setup.py) ... \u001b[?25l\u001b[?25hdone\n",
            "  Created wheel for pyperclip: filename=pyperclip-1.8.2-py3-none-any.whl size=11137 sha256=6bf56d87b60550687b200dc33443dbcfee52ea9710cf15a03a10ed2e25265d08\n",
            "  Stored in directory: /root/.cache/pip/wheels/9f/18/84/8f69f8b08169c7bae2dde6bd7daf0c19fca8c8e500ee620a28\n",
            "Successfully built pyperclip\n",
            "Installing collected packages: pyperclip, pbr, stevedore, Mako, cmd2, autopage, colorlog, cmaes, cliff, alembic, optuna\n",
            "Successfully installed Mako-1.2.0 alembic-1.7.7 autopage-0.5.0 cliff-3.10.1 cmaes-0.8.2 cmd2-2.4.0 colorlog-6.6.0 optuna-2.10.0 pbr-5.8.1 pyperclip-1.8.2 stevedore-3.5.0\n"
          ]
        }
      ]
    },
    {
      "cell_type": "code",
      "source": [
        "#メモリ節約用の関数\n",
        "def reduce_mem_usage(df, verbose=True):\n",
        "    numerics = ['int16', 'int32', 'int64', 'float16', 'float32', 'float64']\n",
        "    start_mem = df.memory_usage().sum() / 1024**2\n",
        "    for col in df.columns:\n",
        "        col_type = df[col].dtypes\n",
        "        if col_type in numerics:\n",
        "            c_min = df[col].min()\n",
        "            c_max = df[col].max()\n",
        "            if str(col_type)[:3] == 'int':\n",
        "                if c_min > np.iinfo(np.int8).min and c_max < np.iinfo(np.int8).max:\n",
        "                    df[col] = df[col].astype(np.int8)\n",
        "                elif c_min > np.iinfo(np.int16).min and c_max < np.iinfo(np.int16).max:\n",
        "                    df[col] = df[col].astype(np.int16)\n",
        "                elif c_min > np.iinfo(np.int32).min and c_max < np.iinfo(np.int32).max:\n",
        "                    df[col] = df[col].astype(np.int32)\n",
        "                elif c_min > np.iinfo(np.int64).min and c_max < np.iinfo(np.int64).max:\n",
        "                    df[col] = df[col].astype(np.int64)\n",
        "            else:\n",
        "                if c_min > np.finfo(np.float16).min and c_max < np.finfo(np.float16).max:\n",
        "                    df[col] = df[col].astype(np.float16)\n",
        "                elif c_min > np.finfo(np.float32).min and c_max < np.finfo(np.float32).max:\n",
        "                    df[col] = df[col].astype(np.float32)\n",
        "                else:\n",
        "                    df[col] = df[col].astype(np.float64)\n",
        "    end_mem = df.memory_usage().sum() / 1024**2\n",
        "    if verbose:\n",
        "        print('Mem. usage decreased to {:5.2f} Mb ({:.1f}% reduction)'.format(end_mem, 100 * (start_mem - end_mem) / start_mem))\n",
        "    return df"
      ],
      "metadata": {
        "id": "I71sBJ1Z-OLY"
      },
      "execution_count": null,
      "outputs": []
    },
    {
      "cell_type": "code",
      "metadata": {
        "id": "9gvc7iMBH8EC"
      },
      "source": [
        "# data_train csvファイルの読み込み\n",
        "train_df = pd.read_csv('/content/drive/MyDrive/Nishika ソフトウェアの異常検知/train.zip (Unzipped Files)/train.csv',usecols=['Anomaly',\n",
        " 'GC activity : (incld/dx (MXBean(java.lang:name=PS Scavenge,type=GarbageCollector).CollectionCount))',\n",
        " 'GC time : (incld/dx (MXBean(java.lang:name=PS Scavenge,type=GarbageCollector).CollectionTime))',\n",
        " 'Rel. swap usage : ((MXBean(java.lang:type=OperatingSystem).FreeSwapSpaceSize / MXBean(java.lang:type=OperatingSystem).TotalSwapSpaceSize))',\n",
        " 'Stuck threads : (MXBean(com.bea:Name=ThreadPoolRuntime,Type=ThreadPoolRuntime).StuckThreadCount)',\n",
        " 'Stuck threads : (MXBean(com.bea:ApplicationRuntime=sys01,Name=default,Type=WorkManagerRuntime).StuckThreadCount)',\n",
        " 'Process CPU : (MXBean(java.lang:type=OperatingSystem).ProcessCpuLoad)',\n",
        " 'Rel. heap committed : ((MXBean(java.lang:type=Memory).HeapMemoryUsage.committed / MXBean(java.lang:type=Memory).HeapMemoryUsage.max))',\n",
        " 'System CPU : (MXBean(java.lang:type=OperatingSystem).SystemCpuLoad)',\n",
        " 'Memory space usage : ((MXBean(java.lang:name=PS Eden Space,type=MemoryPool).Usage.committed / MXBean(java.lang:name=PS Eden Space,type=MemoryPool).Usage.max))',\n",
        " 'Process CPU : (\\\\Process(java)\\\\CPU)',\n",
        " 'Rel. heap usage : ((MXBean(java.lang:type=Memory).HeapMemoryUsage.used / MXBean(java.lang:type=Memory).HeapMemoryUsage.max))',\n",
        " 'Rel. open file descriptors : ((MXBean(java.lang:type=OperatingSystem).OpenFileDescriptorCount / MXBean(java.lang:type=OperatingSystem).MaxFileDescriptorCount))',\n",
        " 'Memory space usage : ((MXBean(java.lang:name=PS Old Gen,type=MemoryPool).Usage.committed / MXBean(java.lang:name=PS Old Gen,type=MemoryPool).Usage.max))',\n",
        " 'Memory space usage : ((MXBean(java.lang:name=PS Eden Space,type=MemoryPool).Usage.used / MXBean(java.lang:name=PS Eden Space,type=MemoryPool).Usage.max))',\n",
        " 'Prepared statement cache hit rate : ((MXBean(com.bea:Name=source04,Type=JDBCDataSourceRuntime).PrepStmtCacheHitCount / MXBean(com.bea:Name=source04,Type=JDBCDataSourceRuntime).PrepStmtCacheMissCount))',\n",
        " 'Memory space usage : ((MXBean(java.lang:name=Code Cache,type=MemoryPool).Usage.committed / MXBean(java.lang:name=Code Cache,type=MemoryPool).Usage.max))',\n",
        " 'Prepared statement cache hit rate : ((MXBean(com.bea:Name=source02,Type=JDBCDataSourceRuntime).PrepStmtCacheHitCount / MXBean(com.bea:Name=source02,Type=JDBCDataSourceRuntime).PrepStmtCacheMissCount))',\n",
        " 'Memory space usage : ((MXBean(java.lang:name=PS Perm Gen,type=MemoryPool).Usage.used / MXBean(java.lang:name=PS Perm Gen,type=MemoryPool).Usage.max))',\n",
        " 'Memory space usage : ((MXBean(java.lang:name=PS Old Gen,type=MemoryPool).Usage.used / MXBean(java.lang:name=PS Old Gen,type=MemoryPool).Usage.max))',\n",
        " 'Daemon thread count : (MXBean(java.lang:type=Threading).DaemonThreadCount)',\n",
        " 'host',\n",
        " 'Total thread count : (MXBean(java.lang:type=Threading).ThreadCount)',\n",
        " 'Rel. nonHeap usage : ((MXBean(java.lang:type=Memory).NonHeapMemoryUsage.used / MXBean(java.lang:type=Memory).NonHeapMemoryUsage.max))',\n",
        " 'Rel. physical mem usage : ((MXBean(java.lang:type=OperatingSystem).FreePhysicalMemorySize / MXBean(java.lang:type=OperatingSystem).TotalPhysicalMemorySize))',\n",
        " 'GC time : (incld/dx (MXBean(java.lang:name=PS MarkSweep,type=GarbageCollector).CollectionTime))',\n",
        " 'Rel. Swap Usage : ((\\\\Swap\\\\used / \\\\Swap\\\\total))' \n",
        " ])"
      ],
      "execution_count": 2,
      "outputs": []
    },
    {
      "cell_type": "code",
      "metadata": {
        "id": "1r4AoRPX_eh-"
      },
      "source": [
        "# data_test csvファイルの読み込み\n",
        "test_df = pd.read_csv('/content/drive/MyDrive/Nishika ソフトウェアの異常検知/test.zip (Unzipped Files)/test.csv',usecols=[\n",
        " 'GC activity : (incld/dx (MXBean(java.lang:name=PS Scavenge,type=GarbageCollector).CollectionCount))',\n",
        " 'GC time : (incld/dx (MXBean(java.lang:name=PS Scavenge,type=GarbageCollector).CollectionTime))',\n",
        " 'Rel. swap usage : ((MXBean(java.lang:type=OperatingSystem).FreeSwapSpaceSize / MXBean(java.lang:type=OperatingSystem).TotalSwapSpaceSize))',\n",
        " 'Stuck threads : (MXBean(com.bea:Name=ThreadPoolRuntime,Type=ThreadPoolRuntime).StuckThreadCount)',\n",
        " 'Stuck threads : (MXBean(com.bea:ApplicationRuntime=sys01,Name=default,Type=WorkManagerRuntime).StuckThreadCount)',\n",
        " 'Process CPU : (MXBean(java.lang:type=OperatingSystem).ProcessCpuLoad)',\n",
        " 'Rel. heap committed : ((MXBean(java.lang:type=Memory).HeapMemoryUsage.committed / MXBean(java.lang:type=Memory).HeapMemoryUsage.max))',\n",
        " 'System CPU : (MXBean(java.lang:type=OperatingSystem).SystemCpuLoad)',\n",
        " 'Memory space usage : ((MXBean(java.lang:name=PS Eden Space,type=MemoryPool).Usage.committed / MXBean(java.lang:name=PS Eden Space,type=MemoryPool).Usage.max))',\n",
        " 'Process CPU : (\\\\Process(java)\\\\CPU)',\n",
        " 'Rel. heap usage : ((MXBean(java.lang:type=Memory).HeapMemoryUsage.used / MXBean(java.lang:type=Memory).HeapMemoryUsage.max))',\n",
        " 'Rel. open file descriptors : ((MXBean(java.lang:type=OperatingSystem).OpenFileDescriptorCount / MXBean(java.lang:type=OperatingSystem).MaxFileDescriptorCount))',\n",
        " 'Memory space usage : ((MXBean(java.lang:name=PS Old Gen,type=MemoryPool).Usage.committed / MXBean(java.lang:name=PS Old Gen,type=MemoryPool).Usage.max))',\n",
        " 'Memory space usage : ((MXBean(java.lang:name=PS Eden Space,type=MemoryPool).Usage.used / MXBean(java.lang:name=PS Eden Space,type=MemoryPool).Usage.max))',\n",
        " 'Prepared statement cache hit rate : ((MXBean(com.bea:Name=source04,Type=JDBCDataSourceRuntime).PrepStmtCacheHitCount / MXBean(com.bea:Name=source04,Type=JDBCDataSourceRuntime).PrepStmtCacheMissCount))',\n",
        " 'Memory space usage : ((MXBean(java.lang:name=Code Cache,type=MemoryPool).Usage.committed / MXBean(java.lang:name=Code Cache,type=MemoryPool).Usage.max))',\n",
        " 'Prepared statement cache hit rate : ((MXBean(com.bea:Name=source02,Type=JDBCDataSourceRuntime).PrepStmtCacheHitCount / MXBean(com.bea:Name=source02,Type=JDBCDataSourceRuntime).PrepStmtCacheMissCount))',\n",
        " 'Memory space usage : ((MXBean(java.lang:name=PS Perm Gen,type=MemoryPool).Usage.used / MXBean(java.lang:name=PS Perm Gen,type=MemoryPool).Usage.max))',\n",
        " 'Memory space usage : ((MXBean(java.lang:name=PS Old Gen,type=MemoryPool).Usage.used / MXBean(java.lang:name=PS Old Gen,type=MemoryPool).Usage.max))',\n",
        " 'Daemon thread count : (MXBean(java.lang:type=Threading).DaemonThreadCount)',\n",
        " 'host',\n",
        " 'Total thread count : (MXBean(java.lang:type=Threading).ThreadCount)',\n",
        " 'Rel. nonHeap usage : ((MXBean(java.lang:type=Memory).NonHeapMemoryUsage.used / MXBean(java.lang:type=Memory).NonHeapMemoryUsage.max))',\n",
        " 'Rel. physical mem usage : ((MXBean(java.lang:type=OperatingSystem).FreePhysicalMemorySize / MXBean(java.lang:type=OperatingSystem).TotalPhysicalMemorySize))',\n",
        " 'GC time : (incld/dx (MXBean(java.lang:name=PS MarkSweep,type=GarbageCollector).CollectionTime))',\n",
        " 'Rel. Swap Usage : ((\\\\Swap\\\\used / \\\\Swap\\\\total))' \n",
        " ])"
      ],
      "execution_count": 3,
      "outputs": []
    },
    {
      "cell_type": "code",
      "source": [
        "#スコア0.9279の予測データを読み込み\n",
        "test_y = pd.read_csv('/content/drive/MyDrive/Nishika ソフトウェアの異常検知/提出用ファイル/xgboost_trained_model_26_param_tuning_test_reloaded2.csv')"
      ],
      "metadata": {
        "id": "ACzNKUYz1-HW"
      },
      "execution_count": 4,
      "outputs": []
    },
    {
      "cell_type": "code",
      "source": [
        "#目的変数のみを取り出し値を四捨五入\n",
        "test_y=test_y[\"Anomaly\"]\n",
        "test_y=test_y.round(0).astype(int)"
      ],
      "metadata": {
        "id": "llYQ5YetBcmp"
      },
      "execution_count": 5,
      "outputs": []
    },
    {
      "cell_type": "code",
      "source": [
        "#訓練データから目的変数のみを取り出す\n",
        "train_y=train_df[\"Anomaly\"]"
      ],
      "metadata": {
        "id": "xtOUcUKvKriw"
      },
      "execution_count": 6,
      "outputs": []
    },
    {
      "cell_type": "code",
      "source": [
        "#訓練データから目的変数を除去\n",
        "train_x=train_df.drop([\"Anomaly\"],axis=1)\n",
        "test_x=test_df"
      ],
      "metadata": {
        "id": "WElPNUcdLC6n"
      },
      "execution_count": 7,
      "outputs": []
    },
    {
      "cell_type": "code",
      "source": [
        "#全データをpandasに適用\n",
        "train_x = pd.DataFrame(train_x)\n",
        "test_x = pd.DataFrame(test_x)\n",
        "train_y = pd.Series(train_y)\n",
        "test_y = pd.Series(test_y)"
      ],
      "metadata": {
        "id": "2B6FfsQKMfzO"
      },
      "execution_count": 8,
      "outputs": []
    },
    {
      "cell_type": "code",
      "source": [
        "#trainデータとtestデータの予測値を結合\n",
        "train2_x = pd.concat([train_x, test_x],axis=0)\n",
        "train2_y = pd.concat([train_y, test_y],axis=0)"
      ],
      "metadata": {
        "id": "ofUsVPdL4Qk7"
      },
      "execution_count": 9,
      "outputs": []
    },
    {
      "cell_type": "code",
      "source": [
        "# 学習データにget_dummiesによるone-hot encodingを行う\n",
        "train2_x = pd.get_dummies(train2_x, columns=[\"host\"])\n",
        "test_x = pd.get_dummies(test_x, columns=[\"host\"])"
      ],
      "metadata": {
        "id": "OSaSYvlCwabc"
      },
      "execution_count": 17,
      "outputs": []
    },
    {
      "cell_type": "code",
      "source": [
        "# 学習データを学習データとバリデーションデータに分ける\n",
        "from sklearn.model_selection import KFold\n",
        "\n",
        "kf = KFold(n_splits=5, shuffle=True, random_state=71)\n",
        "tr_idx, va_idx = list(kf.split(train2_x))[0]\n",
        "tr_x, va_x = train2_x.iloc[tr_idx], train2_x.iloc[va_idx]\n",
        "tr_y, va_y = train2_y.iloc[tr_idx], train2_y.iloc[va_idx]\n"
      ],
      "metadata": {
        "id": "rYJiSjHg-WDg"
      },
      "execution_count": 15,
      "outputs": []
    },
    {
      "cell_type": "code",
      "source": [
        "# tensorflowの警告抑制\n",
        "import os\n",
        "os.environ['TF_CPP_MIN_LOG_LEVEL'] = '1'\n",
        "import tensorflow as tf\n",
        "tf.compat.v1.logging.set_verbosity(tf.compat.v1.logging.ERROR)\n",
        "\n",
        "# -----------------------------------\n",
        "# ニューラルネットの実装\n",
        "# -----------------------------------\n",
        "from keras.layers import Dense, Dropout\n",
        "from keras.models import Sequential\n",
        "from sklearn.metrics import log_loss\n",
        "from sklearn.preprocessing import StandardScaler\n",
        "\n",
        "# データのスケーリング\n",
        "scaler = StandardScaler()\n",
        "tr_x = scaler.fit_transform(tr_x)\n",
        "va_x = scaler.transform(va_x)\n",
        "test_x = scaler.transform(test_x)\n",
        "\n",
        "# ニューラルネットモデルの構築\n",
        "model = Sequential()\n",
        "model.add(Dense(256, activation='relu', input_shape=(train2_x.shape[1],)))\n",
        "model.add(Dropout(0.2))\n",
        "model.add(Dense(256, activation='relu'))\n",
        "model.add(Dropout(0.2))\n",
        "model.add(Dense(1, activation='sigmoid'))\n",
        "\n",
        "model.compile(loss='binary_crossentropy',\n",
        "              optimizer='adam', metrics=['accuracy'])\n",
        "\n",
        "# アーリーストッピング\n",
        "# -----------------------------------\n",
        "from keras.callbacks import EarlyStopping\n",
        "\n",
        "# アーリーストッピングの観察するroundを20とする\n",
        "# restore_best_weightsを設定することで、最適なエポックでのモデルを使用する\n",
        "batch_size = 128\n",
        "epochs = 50\n",
        "early_stopping = EarlyStopping(monitor='val_loss', patience=20, restore_best_weights=True)\n",
        "\n",
        "history = model.fit(tr_x, tr_y,\n",
        "                    batch_size=batch_size, epochs=epochs,\n",
        "                    verbose=1, validation_data=(va_x, va_y), callbacks=[early_stopping])\n",
        "\n",
        "# バリデーションデータでのスコアの確認\n",
        "va_pred = model.predict(va_x)\n",
        "score = log_loss(va_y, va_pred, eps=1e-7)\n",
        "print(f'logloss: {score:.4f}')\n",
        "\n",
        "# 予測\n",
        "pred = model.predict(test_x)"
      ],
      "metadata": {
        "colab": {
          "base_uri": "https://localhost:8080/"
        },
        "id": "KpVoyIi7z53I",
        "outputId": "16c52c37-5268-4ddd-ea40-8dd3afffe656"
      },
      "execution_count": 24,
      "outputs": [
        {
          "output_type": "stream",
          "name": "stdout",
          "text": [
            "Epoch 1/50\n",
            "29330/29330 [==============================] - 218s 7ms/step - loss: 0.0074 - accuracy: 0.9973 - val_loss: 0.0055 - val_accuracy: 0.9976\n",
            "Epoch 2/50\n",
            "29330/29330 [==============================] - 219s 7ms/step - loss: 0.0042 - accuracy: 0.9984 - val_loss: 0.0026 - val_accuracy: 0.9991\n",
            "Epoch 3/50\n",
            "29330/29330 [==============================] - 218s 7ms/step - loss: 0.0036 - accuracy: 0.9987 - val_loss: 0.0026 - val_accuracy: 0.9991\n",
            "Epoch 4/50\n",
            "29330/29330 [==============================] - 217s 7ms/step - loss: 0.0033 - accuracy: 0.9988 - val_loss: 0.0024 - val_accuracy: 0.9992\n",
            "Epoch 5/50\n",
            "29330/29330 [==============================] - 216s 7ms/step - loss: 0.0032 - accuracy: 0.9988 - val_loss: 0.0029 - val_accuracy: 0.9989\n",
            "Epoch 6/50\n",
            "29330/29330 [==============================] - 218s 7ms/step - loss: 0.0030 - accuracy: 0.9989 - val_loss: 0.0023 - val_accuracy: 0.9991\n",
            "Epoch 7/50\n",
            "29330/29330 [==============================] - 232s 8ms/step - loss: 0.0030 - accuracy: 0.9989 - val_loss: 0.0021 - val_accuracy: 0.9992\n",
            "Epoch 8/50\n",
            "29330/29330 [==============================] - 215s 7ms/step - loss: 0.0028 - accuracy: 0.9990 - val_loss: 0.0017 - val_accuracy: 0.9994\n",
            "Epoch 9/50\n",
            "29330/29330 [==============================] - 212s 7ms/step - loss: 0.0027 - accuracy: 0.9990 - val_loss: 0.0019 - val_accuracy: 0.9992\n",
            "Epoch 10/50\n",
            "29330/29330 [==============================] - 215s 7ms/step - loss: 0.0028 - accuracy: 0.9990 - val_loss: 0.0017 - val_accuracy: 0.9993\n",
            "Epoch 11/50\n",
            "29330/29330 [==============================] - 219s 7ms/step - loss: 0.0027 - accuracy: 0.9991 - val_loss: 0.0019 - val_accuracy: 0.9994\n",
            "Epoch 12/50\n",
            "29330/29330 [==============================] - 218s 7ms/step - loss: 0.0028 - accuracy: 0.9991 - val_loss: 0.0018 - val_accuracy: 0.9993\n",
            "Epoch 13/50\n",
            "29330/29330 [==============================] - 211s 7ms/step - loss: 0.0026 - accuracy: 0.9991 - val_loss: 0.0018 - val_accuracy: 0.9993\n",
            "Epoch 14/50\n",
            "29330/29330 [==============================] - 207s 7ms/step - loss: 0.0027 - accuracy: 0.9991 - val_loss: 0.0017 - val_accuracy: 0.9994\n",
            "Epoch 15/50\n",
            "29330/29330 [==============================] - 217s 7ms/step - loss: 0.0026 - accuracy: 0.9991 - val_loss: 0.0019 - val_accuracy: 0.9992\n",
            "Epoch 16/50\n",
            "29330/29330 [==============================] - 214s 7ms/step - loss: 0.0027 - accuracy: 0.9991 - val_loss: 0.0016 - val_accuracy: 0.9994\n",
            "Epoch 17/50\n",
            "29330/29330 [==============================] - 209s 7ms/step - loss: 0.0025 - accuracy: 0.9991 - val_loss: 0.0017 - val_accuracy: 0.9993\n",
            "Epoch 18/50\n",
            "29330/29330 [==============================] - 209s 7ms/step - loss: 0.0026 - accuracy: 0.9991 - val_loss: 0.0018 - val_accuracy: 0.9993\n",
            "Epoch 19/50\n",
            "29330/29330 [==============================] - 210s 7ms/step - loss: 0.0025 - accuracy: 0.9991 - val_loss: 0.0017 - val_accuracy: 0.9994\n",
            "Epoch 20/50\n",
            "29330/29330 [==============================] - 209s 7ms/step - loss: 0.0026 - accuracy: 0.9992 - val_loss: 0.0015 - val_accuracy: 0.9994\n",
            "Epoch 21/50\n",
            "29330/29330 [==============================] - 215s 7ms/step - loss: 0.0026 - accuracy: 0.9992 - val_loss: 0.0015 - val_accuracy: 0.9994\n",
            "Epoch 22/50\n",
            "29330/29330 [==============================] - 212s 7ms/step - loss: 0.0026 - accuracy: 0.9992 - val_loss: 0.0016 - val_accuracy: 0.9994\n",
            "Epoch 23/50\n",
            "29330/29330 [==============================] - 205s 7ms/step - loss: 0.0024 - accuracy: 0.9992 - val_loss: 0.0016 - val_accuracy: 0.9994\n",
            "Epoch 24/50\n",
            "29330/29330 [==============================] - 206s 7ms/step - loss: 0.0025 - accuracy: 0.9992 - val_loss: 0.0019 - val_accuracy: 0.9993\n",
            "Epoch 25/50\n",
            "29330/29330 [==============================] - 208s 7ms/step - loss: 0.0027 - accuracy: 0.9992 - val_loss: 0.0016 - val_accuracy: 0.9994\n",
            "Epoch 26/50\n",
            "29330/29330 [==============================] - 212s 7ms/step - loss: 0.0024 - accuracy: 0.9992 - val_loss: 0.0016 - val_accuracy: 0.9995\n",
            "Epoch 27/50\n",
            "29330/29330 [==============================] - 207s 7ms/step - loss: 0.0025 - accuracy: 0.9992 - val_loss: 0.0015 - val_accuracy: 0.9995\n",
            "Epoch 28/50\n",
            "29330/29330 [==============================] - 214s 7ms/step - loss: 0.0024 - accuracy: 0.9992 - val_loss: 0.0015 - val_accuracy: 0.9994\n",
            "Epoch 29/50\n",
            "29330/29330 [==============================] - 217s 7ms/step - loss: 0.0024 - accuracy: 0.9992 - val_loss: 0.0016 - val_accuracy: 0.9995\n",
            "Epoch 30/50\n",
            "29330/29330 [==============================] - 214s 7ms/step - loss: 0.0025 - accuracy: 0.9992 - val_loss: 0.0018 - val_accuracy: 0.9993\n",
            "Epoch 31/50\n",
            "29330/29330 [==============================] - 214s 7ms/step - loss: 0.0025 - accuracy: 0.9992 - val_loss: 0.0017 - val_accuracy: 0.9994\n",
            "Epoch 32/50\n",
            "29330/29330 [==============================] - 220s 8ms/step - loss: 0.0026 - accuracy: 0.9992 - val_loss: 0.0016 - val_accuracy: 0.9994\n",
            "Epoch 33/50\n",
            "29330/29330 [==============================] - 217s 7ms/step - loss: 0.0027 - accuracy: 0.9992 - val_loss: 0.0017 - val_accuracy: 0.9994\n",
            "Epoch 34/50\n",
            "29330/29330 [==============================] - 212s 7ms/step - loss: 0.0026 - accuracy: 0.9992 - val_loss: 0.0016 - val_accuracy: 0.9994\n",
            "Epoch 35/50\n",
            "29330/29330 [==============================] - 211s 7ms/step - loss: 0.0028 - accuracy: 0.9993 - val_loss: 0.0026 - val_accuracy: 0.9994\n",
            "Epoch 36/50\n",
            "29330/29330 [==============================] - 219s 7ms/step - loss: 0.0026 - accuracy: 0.9992 - val_loss: 0.0020 - val_accuracy: 0.9994\n",
            "Epoch 37/50\n",
            "29330/29330 [==============================] - 212s 7ms/step - loss: 0.0035 - accuracy: 0.9992 - val_loss: 0.0018 - val_accuracy: 0.9994\n",
            "Epoch 38/50\n",
            "29330/29330 [==============================] - 217s 7ms/step - loss: 0.0028 - accuracy: 0.9992 - val_loss: 0.0020 - val_accuracy: 0.9995\n",
            "Epoch 39/50\n",
            "29330/29330 [==============================] - 216s 7ms/step - loss: 0.0026 - accuracy: 0.9993 - val_loss: 0.0019 - val_accuracy: 0.9993\n",
            "Epoch 40/50\n",
            "29330/29330 [==============================] - 223s 8ms/step - loss: 0.0028 - accuracy: 0.9992 - val_loss: 0.0014 - val_accuracy: 0.9995\n",
            "Epoch 41/50\n",
            "29330/29330 [==============================] - 224s 8ms/step - loss: 0.0025 - accuracy: 0.9993 - val_loss: 0.0016 - val_accuracy: 0.9994\n",
            "Epoch 42/50\n",
            "29330/29330 [==============================] - 217s 7ms/step - loss: 0.0027 - accuracy: 0.9992 - val_loss: 0.0015 - val_accuracy: 0.9995\n",
            "Epoch 43/50\n",
            "29330/29330 [==============================] - 223s 8ms/step - loss: 0.0024 - accuracy: 0.9993 - val_loss: 0.0015 - val_accuracy: 0.9995\n",
            "Epoch 44/50\n",
            "29330/29330 [==============================] - 215s 7ms/step - loss: 0.0029 - accuracy: 0.9992 - val_loss: 0.0021 - val_accuracy: 0.9995\n",
            "Epoch 45/50\n",
            "29330/29330 [==============================] - 214s 7ms/step - loss: 0.0025 - accuracy: 0.9992 - val_loss: 0.0025 - val_accuracy: 0.9993\n",
            "Epoch 46/50\n",
            "29330/29330 [==============================] - 217s 7ms/step - loss: 0.0026 - accuracy: 0.9993 - val_loss: 0.0016 - val_accuracy: 0.9994\n",
            "Epoch 47/50\n",
            "29330/29330 [==============================] - 216s 7ms/step - loss: 0.0027 - accuracy: 0.9993 - val_loss: 0.0020 - val_accuracy: 0.9994\n",
            "Epoch 48/50\n",
            "29330/29330 [==============================] - 216s 7ms/step - loss: 0.0027 - accuracy: 0.9993 - val_loss: 0.0039 - val_accuracy: 0.9993\n",
            "Epoch 49/50\n",
            "29330/29330 [==============================] - 209s 7ms/step - loss: 0.0026 - accuracy: 0.9993 - val_loss: 0.0016 - val_accuracy: 0.9995\n",
            "Epoch 50/50\n",
            "29330/29330 [==============================] - 226s 8ms/step - loss: 0.0027 - accuracy: 0.9993 - val_loss: 0.0015 - val_accuracy: 0.9995\n",
            "logloss: 0.0013\n"
          ]
        }
      ]
    },
    {
      "cell_type": "code",
      "source": [
        "'''\n",
        "# バリデーションデータでのスコアの確認\n",
        "va_pred = model.predict(x_valid)\n",
        "score = log_loss(y_valid, va_pred)\n",
        "print(f'logloss: {score:.8f}')\n",
        "'''"
      ],
      "metadata": {
        "id": "vbSZYHPoIlZw"
      },
      "execution_count": null,
      "outputs": []
    },
    {
      "cell_type": "code",
      "source": [
        "pred= model.predict(test_x)\n",
        "print(pred)"
      ],
      "metadata": {
        "colab": {
          "base_uri": "https://localhost:8080/",
          "height": 190
        },
        "id": "Ha1L0BFmlHGJ",
        "outputId": "80029ba3-1b06-4226-ee6b-b4cc5853849a"
      },
      "execution_count": 37,
      "outputs": [
        {
          "output_type": "error",
          "ename": "AttributeError",
          "evalue": "ignored",
          "traceback": [
            "\u001b[0;31m---------------------------------------------------------------------------\u001b[0m",
            "\u001b[0;31mAttributeError\u001b[0m                            Traceback (most recent call last)",
            "\u001b[0;32m<ipython-input-37-df67a81a68ef>\u001b[0m in \u001b[0;36m<module>\u001b[0;34m()\u001b[0m\n\u001b[0;32m----> 1\u001b[0;31m \u001b[0mpred_proba\u001b[0m \u001b[0;34m=\u001b[0m \u001b[0mmodel\u001b[0m\u001b[0;34m.\u001b[0m\u001b[0mpredict_classess\u001b[0m\u001b[0;34m(\u001b[0m\u001b[0mtest_x\u001b[0m\u001b[0;34m)\u001b[0m\u001b[0;34m\u001b[0m\u001b[0;34m\u001b[0m\u001b[0m\n\u001b[0m\u001b[1;32m      2\u001b[0m \u001b[0mprint\u001b[0m\u001b[0;34m(\u001b[0m\u001b[0mpred_proba\u001b[0m\u001b[0;34m)\u001b[0m\u001b[0;34m\u001b[0m\u001b[0;34m\u001b[0m\u001b[0m\n",
            "\u001b[0;31mAttributeError\u001b[0m: 'Sequential' object has no attribute 'predict_classess'"
          ]
        }
      ]
    },
    {
      "cell_type": "code",
      "source": [
        "# 構築したモデルの保存\n",
        "import pickle\n",
        "file = '/content/drive/MyDrive/Nishika ソフトウェアの異常検知/モデル/NN_26_param_notuning_test_reloaded.pkl'\n",
        "pickle.dump(model, open(file, 'wb'))"
      ],
      "metadata": {
        "id": "qppqSwThIuFc"
      },
      "execution_count": 25,
      "outputs": []
    },
    {
      "cell_type": "code",
      "source": [
        "# 構築したモデルの読み込み\n",
        "import pickle\n",
        "filename = '/content/drive/MyDrive/Nishika ソフトウェアの異常検知/モデル/NN_26_param_notuning_test_reloaded.pkl'\n",
        "loaded_model = pickle.load(open(filename, 'rb'))"
      ],
      "metadata": {
        "id": "Z_PYPmY3HEh5"
      },
      "execution_count": 26,
      "outputs": []
    },
    {
      "cell_type": "code",
      "source": [
        "# submission csvファイルの読み込み\n",
        "submission_df = pd.read_csv('/content/drive/MyDrive/Nishika ソフトウェアの異常検知/data.zip (Unzipped Files)/sample_submission.csv')"
      ],
      "metadata": {
        "id": "qcF2M4OyDzuA"
      },
      "execution_count": 27,
      "outputs": []
    },
    {
      "cell_type": "code",
      "source": [
        "id_df=submission_df.iloc[:,0]\n",
        "id_df.head()"
      ],
      "metadata": {
        "id": "rsQhrsT6OWi_",
        "colab": {
          "base_uri": "https://localhost:8080/"
        },
        "outputId": "20d98e1a-36c9-4aef-aa6a-c5e7a1cde4f2"
      },
      "execution_count": 28,
      "outputs": [
        {
          "output_type": "execute_result",
          "data": {
            "text/plain": [
              "0    0\n",
              "1    1\n",
              "2    2\n",
              "3    3\n",
              "4    4\n",
              "Name: id, dtype: int64"
            ]
          },
          "metadata": {},
          "execution_count": 28
        }
      ]
    },
    {
      "cell_type": "code",
      "source": [
        "pred_df = pd.DataFrame(pred)\n",
        "pred_df.head()"
      ],
      "metadata": {
        "id": "HLK86jPqQ1nO",
        "colab": {
          "base_uri": "https://localhost:8080/",
          "height": 206
        },
        "outputId": "dee7717e-3a02-4621-9f07-9411fcf63e04"
      },
      "execution_count": 29,
      "outputs": [
        {
          "output_type": "execute_result",
          "data": {
            "text/plain": [
              "     0\n",
              "0  0.0\n",
              "1  0.0\n",
              "2  0.0\n",
              "3  0.0\n",
              "4  0.0"
            ],
            "text/html": [
              "\n",
              "  <div id=\"df-f59c6d5e-e652-4c56-b324-f5cfd30f3b08\">\n",
              "    <div class=\"colab-df-container\">\n",
              "      <div>\n",
              "<style scoped>\n",
              "    .dataframe tbody tr th:only-of-type {\n",
              "        vertical-align: middle;\n",
              "    }\n",
              "\n",
              "    .dataframe tbody tr th {\n",
              "        vertical-align: top;\n",
              "    }\n",
              "\n",
              "    .dataframe thead th {\n",
              "        text-align: right;\n",
              "    }\n",
              "</style>\n",
              "<table border=\"1\" class=\"dataframe\">\n",
              "  <thead>\n",
              "    <tr style=\"text-align: right;\">\n",
              "      <th></th>\n",
              "      <th>0</th>\n",
              "    </tr>\n",
              "  </thead>\n",
              "  <tbody>\n",
              "    <tr>\n",
              "      <th>0</th>\n",
              "      <td>0.0</td>\n",
              "    </tr>\n",
              "    <tr>\n",
              "      <th>1</th>\n",
              "      <td>0.0</td>\n",
              "    </tr>\n",
              "    <tr>\n",
              "      <th>2</th>\n",
              "      <td>0.0</td>\n",
              "    </tr>\n",
              "    <tr>\n",
              "      <th>3</th>\n",
              "      <td>0.0</td>\n",
              "    </tr>\n",
              "    <tr>\n",
              "      <th>4</th>\n",
              "      <td>0.0</td>\n",
              "    </tr>\n",
              "  </tbody>\n",
              "</table>\n",
              "</div>\n",
              "      <button class=\"colab-df-convert\" onclick=\"convertToInteractive('df-f59c6d5e-e652-4c56-b324-f5cfd30f3b08')\"\n",
              "              title=\"Convert this dataframe to an interactive table.\"\n",
              "              style=\"display:none;\">\n",
              "        \n",
              "  <svg xmlns=\"http://www.w3.org/2000/svg\" height=\"24px\"viewBox=\"0 0 24 24\"\n",
              "       width=\"24px\">\n",
              "    <path d=\"M0 0h24v24H0V0z\" fill=\"none\"/>\n",
              "    <path d=\"M18.56 5.44l.94 2.06.94-2.06 2.06-.94-2.06-.94-.94-2.06-.94 2.06-2.06.94zm-11 1L8.5 8.5l.94-2.06 2.06-.94-2.06-.94L8.5 2.5l-.94 2.06-2.06.94zm10 10l.94 2.06.94-2.06 2.06-.94-2.06-.94-.94-2.06-.94 2.06-2.06.94z\"/><path d=\"M17.41 7.96l-1.37-1.37c-.4-.4-.92-.59-1.43-.59-.52 0-1.04.2-1.43.59L10.3 9.45l-7.72 7.72c-.78.78-.78 2.05 0 2.83L4 21.41c.39.39.9.59 1.41.59.51 0 1.02-.2 1.41-.59l7.78-7.78 2.81-2.81c.8-.78.8-2.07 0-2.86zM5.41 20L4 18.59l7.72-7.72 1.47 1.35L5.41 20z\"/>\n",
              "  </svg>\n",
              "      </button>\n",
              "      \n",
              "  <style>\n",
              "    .colab-df-container {\n",
              "      display:flex;\n",
              "      flex-wrap:wrap;\n",
              "      gap: 12px;\n",
              "    }\n",
              "\n",
              "    .colab-df-convert {\n",
              "      background-color: #E8F0FE;\n",
              "      border: none;\n",
              "      border-radius: 50%;\n",
              "      cursor: pointer;\n",
              "      display: none;\n",
              "      fill: #1967D2;\n",
              "      height: 32px;\n",
              "      padding: 0 0 0 0;\n",
              "      width: 32px;\n",
              "    }\n",
              "\n",
              "    .colab-df-convert:hover {\n",
              "      background-color: #E2EBFA;\n",
              "      box-shadow: 0px 1px 2px rgba(60, 64, 67, 0.3), 0px 1px 3px 1px rgba(60, 64, 67, 0.15);\n",
              "      fill: #174EA6;\n",
              "    }\n",
              "\n",
              "    [theme=dark] .colab-df-convert {\n",
              "      background-color: #3B4455;\n",
              "      fill: #D2E3FC;\n",
              "    }\n",
              "\n",
              "    [theme=dark] .colab-df-convert:hover {\n",
              "      background-color: #434B5C;\n",
              "      box-shadow: 0px 1px 3px 1px rgba(0, 0, 0, 0.15);\n",
              "      filter: drop-shadow(0px 1px 2px rgba(0, 0, 0, 0.3));\n",
              "      fill: #FFFFFF;\n",
              "    }\n",
              "  </style>\n",
              "\n",
              "      <script>\n",
              "        const buttonEl =\n",
              "          document.querySelector('#df-f59c6d5e-e652-4c56-b324-f5cfd30f3b08 button.colab-df-convert');\n",
              "        buttonEl.style.display =\n",
              "          google.colab.kernel.accessAllowed ? 'block' : 'none';\n",
              "\n",
              "        async function convertToInteractive(key) {\n",
              "          const element = document.querySelector('#df-f59c6d5e-e652-4c56-b324-f5cfd30f3b08');\n",
              "          const dataTable =\n",
              "            await google.colab.kernel.invokeFunction('convertToInteractive',\n",
              "                                                     [key], {});\n",
              "          if (!dataTable) return;\n",
              "\n",
              "          const docLinkHtml = 'Like what you see? Visit the ' +\n",
              "            '<a target=\"_blank\" href=https://colab.research.google.com/notebooks/data_table.ipynb>data table notebook</a>'\n",
              "            + ' to learn more about interactive tables.';\n",
              "          element.innerHTML = '';\n",
              "          dataTable['output_type'] = 'display_data';\n",
              "          await google.colab.output.renderOutput(dataTable, element);\n",
              "          const docLink = document.createElement('div');\n",
              "          docLink.innerHTML = docLinkHtml;\n",
              "          element.appendChild(docLink);\n",
              "        }\n",
              "      </script>\n",
              "    </div>\n",
              "  </div>\n",
              "  "
            ]
          },
          "metadata": {},
          "execution_count": 29
        }
      ]
    },
    {
      "cell_type": "code",
      "source": [
        "output_df=pd.concat([id_df, pred_df],axis=1)\n",
        "output_df.columns=['id','Anomaly']\n",
        "output_df.head()"
      ],
      "metadata": {
        "id": "7j91XkMqRILo",
        "colab": {
          "base_uri": "https://localhost:8080/",
          "height": 423
        },
        "outputId": "e8f2c767-aabc-4b84-8392-2596bf1d0bbe"
      },
      "execution_count": 34,
      "outputs": [
        {
          "output_type": "execute_result",
          "data": {
            "text/plain": [
              "    id  Anomaly\n",
              "0    0      0.0\n",
              "1    1      0.0\n",
              "2    2      0.0\n",
              "3    3      0.0\n",
              "4    4      0.0\n",
              "..  ..      ...\n",
              "95  95      0.0\n",
              "96  96      0.0\n",
              "97  97      0.0\n",
              "98  98      0.0\n",
              "99  99      0.0\n",
              "\n",
              "[100 rows x 2 columns]"
            ],
            "text/html": [
              "\n",
              "  <div id=\"df-39f7317f-4d4f-4552-ba7c-85e94e72576a\">\n",
              "    <div class=\"colab-df-container\">\n",
              "      <div>\n",
              "<style scoped>\n",
              "    .dataframe tbody tr th:only-of-type {\n",
              "        vertical-align: middle;\n",
              "    }\n",
              "\n",
              "    .dataframe tbody tr th {\n",
              "        vertical-align: top;\n",
              "    }\n",
              "\n",
              "    .dataframe thead th {\n",
              "        text-align: right;\n",
              "    }\n",
              "</style>\n",
              "<table border=\"1\" class=\"dataframe\">\n",
              "  <thead>\n",
              "    <tr style=\"text-align: right;\">\n",
              "      <th></th>\n",
              "      <th>id</th>\n",
              "      <th>Anomaly</th>\n",
              "    </tr>\n",
              "  </thead>\n",
              "  <tbody>\n",
              "    <tr>\n",
              "      <th>0</th>\n",
              "      <td>0</td>\n",
              "      <td>0.0</td>\n",
              "    </tr>\n",
              "    <tr>\n",
              "      <th>1</th>\n",
              "      <td>1</td>\n",
              "      <td>0.0</td>\n",
              "    </tr>\n",
              "    <tr>\n",
              "      <th>2</th>\n",
              "      <td>2</td>\n",
              "      <td>0.0</td>\n",
              "    </tr>\n",
              "    <tr>\n",
              "      <th>3</th>\n",
              "      <td>3</td>\n",
              "      <td>0.0</td>\n",
              "    </tr>\n",
              "    <tr>\n",
              "      <th>4</th>\n",
              "      <td>4</td>\n",
              "      <td>0.0</td>\n",
              "    </tr>\n",
              "    <tr>\n",
              "      <th>...</th>\n",
              "      <td>...</td>\n",
              "      <td>...</td>\n",
              "    </tr>\n",
              "    <tr>\n",
              "      <th>95</th>\n",
              "      <td>95</td>\n",
              "      <td>0.0</td>\n",
              "    </tr>\n",
              "    <tr>\n",
              "      <th>96</th>\n",
              "      <td>96</td>\n",
              "      <td>0.0</td>\n",
              "    </tr>\n",
              "    <tr>\n",
              "      <th>97</th>\n",
              "      <td>97</td>\n",
              "      <td>0.0</td>\n",
              "    </tr>\n",
              "    <tr>\n",
              "      <th>98</th>\n",
              "      <td>98</td>\n",
              "      <td>0.0</td>\n",
              "    </tr>\n",
              "    <tr>\n",
              "      <th>99</th>\n",
              "      <td>99</td>\n",
              "      <td>0.0</td>\n",
              "    </tr>\n",
              "  </tbody>\n",
              "</table>\n",
              "<p>100 rows × 2 columns</p>\n",
              "</div>\n",
              "      <button class=\"colab-df-convert\" onclick=\"convertToInteractive('df-39f7317f-4d4f-4552-ba7c-85e94e72576a')\"\n",
              "              title=\"Convert this dataframe to an interactive table.\"\n",
              "              style=\"display:none;\">\n",
              "        \n",
              "  <svg xmlns=\"http://www.w3.org/2000/svg\" height=\"24px\"viewBox=\"0 0 24 24\"\n",
              "       width=\"24px\">\n",
              "    <path d=\"M0 0h24v24H0V0z\" fill=\"none\"/>\n",
              "    <path d=\"M18.56 5.44l.94 2.06.94-2.06 2.06-.94-2.06-.94-.94-2.06-.94 2.06-2.06.94zm-11 1L8.5 8.5l.94-2.06 2.06-.94-2.06-.94L8.5 2.5l-.94 2.06-2.06.94zm10 10l.94 2.06.94-2.06 2.06-.94-2.06-.94-.94-2.06-.94 2.06-2.06.94z\"/><path d=\"M17.41 7.96l-1.37-1.37c-.4-.4-.92-.59-1.43-.59-.52 0-1.04.2-1.43.59L10.3 9.45l-7.72 7.72c-.78.78-.78 2.05 0 2.83L4 21.41c.39.39.9.59 1.41.59.51 0 1.02-.2 1.41-.59l7.78-7.78 2.81-2.81c.8-.78.8-2.07 0-2.86zM5.41 20L4 18.59l7.72-7.72 1.47 1.35L5.41 20z\"/>\n",
              "  </svg>\n",
              "      </button>\n",
              "      \n",
              "  <style>\n",
              "    .colab-df-container {\n",
              "      display:flex;\n",
              "      flex-wrap:wrap;\n",
              "      gap: 12px;\n",
              "    }\n",
              "\n",
              "    .colab-df-convert {\n",
              "      background-color: #E8F0FE;\n",
              "      border: none;\n",
              "      border-radius: 50%;\n",
              "      cursor: pointer;\n",
              "      display: none;\n",
              "      fill: #1967D2;\n",
              "      height: 32px;\n",
              "      padding: 0 0 0 0;\n",
              "      width: 32px;\n",
              "    }\n",
              "\n",
              "    .colab-df-convert:hover {\n",
              "      background-color: #E2EBFA;\n",
              "      box-shadow: 0px 1px 2px rgba(60, 64, 67, 0.3), 0px 1px 3px 1px rgba(60, 64, 67, 0.15);\n",
              "      fill: #174EA6;\n",
              "    }\n",
              "\n",
              "    [theme=dark] .colab-df-convert {\n",
              "      background-color: #3B4455;\n",
              "      fill: #D2E3FC;\n",
              "    }\n",
              "\n",
              "    [theme=dark] .colab-df-convert:hover {\n",
              "      background-color: #434B5C;\n",
              "      box-shadow: 0px 1px 3px 1px rgba(0, 0, 0, 0.15);\n",
              "      filter: drop-shadow(0px 1px 2px rgba(0, 0, 0, 0.3));\n",
              "      fill: #FFFFFF;\n",
              "    }\n",
              "  </style>\n",
              "\n",
              "      <script>\n",
              "        const buttonEl =\n",
              "          document.querySelector('#df-39f7317f-4d4f-4552-ba7c-85e94e72576a button.colab-df-convert');\n",
              "        buttonEl.style.display =\n",
              "          google.colab.kernel.accessAllowed ? 'block' : 'none';\n",
              "\n",
              "        async function convertToInteractive(key) {\n",
              "          const element = document.querySelector('#df-39f7317f-4d4f-4552-ba7c-85e94e72576a');\n",
              "          const dataTable =\n",
              "            await google.colab.kernel.invokeFunction('convertToInteractive',\n",
              "                                                     [key], {});\n",
              "          if (!dataTable) return;\n",
              "\n",
              "          const docLinkHtml = 'Like what you see? Visit the ' +\n",
              "            '<a target=\"_blank\" href=https://colab.research.google.com/notebooks/data_table.ipynb>data table notebook</a>'\n",
              "            + ' to learn more about interactive tables.';\n",
              "          element.innerHTML = '';\n",
              "          dataTable['output_type'] = 'display_data';\n",
              "          await google.colab.output.renderOutput(dataTable, element);\n",
              "          const docLink = document.createElement('div');\n",
              "          docLink.innerHTML = docLinkHtml;\n",
              "          element.appendChild(docLink);\n",
              "        }\n",
              "      </script>\n",
              "    </div>\n",
              "  </div>\n",
              "  "
            ]
          },
          "metadata": {},
          "execution_count": 34
        }
      ]
    },
    {
      "cell_type": "code",
      "source": [
        "output_df.to_csv('/content/drive/MyDrive/Nishika ソフトウェアの異常検知/提出用ファイル/NN_26_param_notuning_test_reloaded.csv',index=False)"
      ],
      "metadata": {
        "id": "osfzFXurLBEo"
      },
      "execution_count": 31,
      "outputs": []
    },
    {
      "cell_type": "code",
      "source": [
        ""
      ],
      "metadata": {
        "id": "iEtoTFX5-MMt"
      },
      "execution_count": null,
      "outputs": []
    }
  ]
}
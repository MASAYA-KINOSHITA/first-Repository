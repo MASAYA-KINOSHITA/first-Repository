{
  "nbformat": 4,
  "nbformat_minor": 0,
  "metadata": {
    "colab": {
      "name": "中古マンションの価格予想",
      "provenance": [],
      "mount_file_id": "1Q5nQrYJy8hpQ2VK-VrQJ-4RLpI2jgtoI",
      "authorship_tag": "ABX9TyOO6zeFYxnzxYmPMq8q41dI",
      "include_colab_link": true
    },
    "kernelspec": {
      "name": "python3",
      "display_name": "Python 3"
    },
    "language_info": {
      "name": "python"
    }
  },
  "cells": [
    {
      "cell_type": "markdown",
      "metadata": {
        "id": "view-in-github",
        "colab_type": "text"
      },
      "source": [
        "<a href=\"https://colab.research.google.com/github/MASAYA-KINOSHITA/first-Repository/blob/main/%E4%B8%AD%E5%8F%A4%E3%83%9E%E3%83%B3%E3%82%B7%E3%83%A7%E3%83%B3%E3%81%AE%E4%BE%A1%E6%A0%BC%E4%BA%88%E6%83%B3.ipynb\" target=\"_parent\"><img src=\"https://colab.research.google.com/assets/colab-badge.svg\" alt=\"Open In Colab\"/></a>"
      ]
    },
    {
      "cell_type": "markdown",
      "source": [
        "準備"
      ],
      "metadata": {
        "id": "08U9EluLG4JF"
      }
    },
    {
      "cell_type": "code",
      "execution_count": 61,
      "metadata": {
        "id": "8ngpCO9FGpLO"
      },
      "outputs": [],
      "source": [
        "#各モジュールの取り込み\n",
        "import matplotlib.pyplot as plt\n",
        "import numpy as np\n",
        "import pandas as pd\n",
        "from glob import glob\n",
        "import re"
      ]
    },
    {
      "cell_type": "code",
      "source": [
        "#データの読み込み\n",
        "paths = glob('/content/drive/MyDrive/中古マンション価格予想/data/input/train/*')\n",
        "train_dfs = []\n",
        "for path in paths:\n",
        "    train_df = pd.read_csv(path)\n",
        "    train_dfs.append(train_df)\n",
        "train_df = pd.concat(train_dfs)\n",
        "train_df.reset_index(drop=True, inplace=True)\n",
        "\n",
        "test_df = pd.read_csv('/content/drive/MyDrive/中古マンション価格予想/data/input/test.csv')"
      ],
      "metadata": {
        "colab": {
          "base_uri": "https://localhost:8080/"
        },
        "id": "MWHJIeUvG6m0",
        "outputId": "e4f49ab0-b1ce-4955-e24c-f353f21c2dcd"
      },
      "execution_count": 4,
      "outputs": [
        {
          "output_type": "stream",
          "name": "stderr",
          "text": [
            "/usr/local/lib/python3.7/dist-packages/IPython/core/interactiveshell.py:2882: DtypeWarning: Columns (10) have mixed types.Specify dtype option on import or set low_memory=False.\n",
            "  exec(code_obj, self.user_global_ns, self.user_ns)\n",
            "/usr/local/lib/python3.7/dist-packages/IPython/core/interactiveshell.py:2882: DtypeWarning: Columns (27) have mixed types.Specify dtype option on import or set low_memory=False.\n",
            "  exec(code_obj, self.user_global_ns, self.user_ns)\n"
          ]
        }
      ]
    },
    {
      "cell_type": "code",
      "source": [
        "#データ形状の確認\n",
        "print(train_df.shape)\n",
        "print(test_df.shape)"
      ],
      "metadata": {
        "colab": {
          "base_uri": "https://localhost:8080/"
        },
        "id": "7pzo1Bw4H768",
        "outputId": "eaba0b2e-5f4b-4351-a36a-dc506aedf2f6"
      },
      "execution_count": 11,
      "outputs": [
        {
          "output_type": "stream",
          "name": "stdout",
          "text": [
            "(1385764, 28)\n",
            "(22395, 27)\n"
          ]
        }
      ]
    },
    {
      "cell_type": "code",
      "source": [
        "#最大表示列数の設定\n",
        "pd.set_option('display.max_columns', 200)\n",
        "\n",
        "train_df.head(1)"
      ],
      "metadata": {
        "colab": {
          "base_uri": "https://localhost:8080/",
          "height": 336
        },
        "id": "741uPPbMHntB",
        "outputId": "4a1effca-2ae0-4bd0-debe-c8a52b223b9e"
      },
      "execution_count": 9,
      "outputs": [
        {
          "output_type": "execute_result",
          "data": {
            "text/plain": [
              "        ID        種類  地域  市区町村コード 都道府県名 市区町村名 地区名 最寄駅：名称 最寄駅：距離（分）  間取り 面積（㎡）  \\\n",
              "0  2012820  中古マンション等 NaN     2201   青森県   青森市  本町     青森        16  ２ＤＫ    50   \n",
              "\n",
              "   土地の形状  間口  延床面積（㎡）    建築年 建物の構造  用途 今後の利用目的  前面道路：方位  前面道路：種類  前面道路：幅員（ｍ）  \\\n",
              "0    NaN NaN      NaN  昭和61年   ＳＲＣ  住宅     NaN      NaN      NaN         NaN   \n",
              "\n",
              "   都市計画  建ぺい率（％）  容積率（％）        取引時点   改装 取引の事情等  取引価格（総額）_log  \n",
              "0  商業地域     80.0   400.0  2010年第3四半期  改装済    NaN      6.875061  "
            ],
            "text/html": [
              "\n",
              "  <div id=\"df-d13a2e6a-9108-40c0-890f-298ea7963d58\">\n",
              "    <div class=\"colab-df-container\">\n",
              "      <div>\n",
              "<style scoped>\n",
              "    .dataframe tbody tr th:only-of-type {\n",
              "        vertical-align: middle;\n",
              "    }\n",
              "\n",
              "    .dataframe tbody tr th {\n",
              "        vertical-align: top;\n",
              "    }\n",
              "\n",
              "    .dataframe thead th {\n",
              "        text-align: right;\n",
              "    }\n",
              "</style>\n",
              "<table border=\"1\" class=\"dataframe\">\n",
              "  <thead>\n",
              "    <tr style=\"text-align: right;\">\n",
              "      <th></th>\n",
              "      <th>ID</th>\n",
              "      <th>種類</th>\n",
              "      <th>地域</th>\n",
              "      <th>市区町村コード</th>\n",
              "      <th>都道府県名</th>\n",
              "      <th>市区町村名</th>\n",
              "      <th>地区名</th>\n",
              "      <th>最寄駅：名称</th>\n",
              "      <th>最寄駅：距離（分）</th>\n",
              "      <th>間取り</th>\n",
              "      <th>面積（㎡）</th>\n",
              "      <th>土地の形状</th>\n",
              "      <th>間口</th>\n",
              "      <th>延床面積（㎡）</th>\n",
              "      <th>建築年</th>\n",
              "      <th>建物の構造</th>\n",
              "      <th>用途</th>\n",
              "      <th>今後の利用目的</th>\n",
              "      <th>前面道路：方位</th>\n",
              "      <th>前面道路：種類</th>\n",
              "      <th>前面道路：幅員（ｍ）</th>\n",
              "      <th>都市計画</th>\n",
              "      <th>建ぺい率（％）</th>\n",
              "      <th>容積率（％）</th>\n",
              "      <th>取引時点</th>\n",
              "      <th>改装</th>\n",
              "      <th>取引の事情等</th>\n",
              "      <th>取引価格（総額）_log</th>\n",
              "    </tr>\n",
              "  </thead>\n",
              "  <tbody>\n",
              "    <tr>\n",
              "      <th>0</th>\n",
              "      <td>2012820</td>\n",
              "      <td>中古マンション等</td>\n",
              "      <td>NaN</td>\n",
              "      <td>2201</td>\n",
              "      <td>青森県</td>\n",
              "      <td>青森市</td>\n",
              "      <td>本町</td>\n",
              "      <td>青森</td>\n",
              "      <td>16</td>\n",
              "      <td>２ＤＫ</td>\n",
              "      <td>50</td>\n",
              "      <td>NaN</td>\n",
              "      <td>NaN</td>\n",
              "      <td>NaN</td>\n",
              "      <td>昭和61年</td>\n",
              "      <td>ＳＲＣ</td>\n",
              "      <td>住宅</td>\n",
              "      <td>NaN</td>\n",
              "      <td>NaN</td>\n",
              "      <td>NaN</td>\n",
              "      <td>NaN</td>\n",
              "      <td>商業地域</td>\n",
              "      <td>80.0</td>\n",
              "      <td>400.0</td>\n",
              "      <td>2010年第3四半期</td>\n",
              "      <td>改装済</td>\n",
              "      <td>NaN</td>\n",
              "      <td>6.875061</td>\n",
              "    </tr>\n",
              "  </tbody>\n",
              "</table>\n",
              "</div>\n",
              "      <button class=\"colab-df-convert\" onclick=\"convertToInteractive('df-d13a2e6a-9108-40c0-890f-298ea7963d58')\"\n",
              "              title=\"Convert this dataframe to an interactive table.\"\n",
              "              style=\"display:none;\">\n",
              "        \n",
              "  <svg xmlns=\"http://www.w3.org/2000/svg\" height=\"24px\"viewBox=\"0 0 24 24\"\n",
              "       width=\"24px\">\n",
              "    <path d=\"M0 0h24v24H0V0z\" fill=\"none\"/>\n",
              "    <path d=\"M18.56 5.44l.94 2.06.94-2.06 2.06-.94-2.06-.94-.94-2.06-.94 2.06-2.06.94zm-11 1L8.5 8.5l.94-2.06 2.06-.94-2.06-.94L8.5 2.5l-.94 2.06-2.06.94zm10 10l.94 2.06.94-2.06 2.06-.94-2.06-.94-.94-2.06-.94 2.06-2.06.94z\"/><path d=\"M17.41 7.96l-1.37-1.37c-.4-.4-.92-.59-1.43-.59-.52 0-1.04.2-1.43.59L10.3 9.45l-7.72 7.72c-.78.78-.78 2.05 0 2.83L4 21.41c.39.39.9.59 1.41.59.51 0 1.02-.2 1.41-.59l7.78-7.78 2.81-2.81c.8-.78.8-2.07 0-2.86zM5.41 20L4 18.59l7.72-7.72 1.47 1.35L5.41 20z\"/>\n",
              "  </svg>\n",
              "      </button>\n",
              "      \n",
              "  <style>\n",
              "    .colab-df-container {\n",
              "      display:flex;\n",
              "      flex-wrap:wrap;\n",
              "      gap: 12px;\n",
              "    }\n",
              "\n",
              "    .colab-df-convert {\n",
              "      background-color: #E8F0FE;\n",
              "      border: none;\n",
              "      border-radius: 50%;\n",
              "      cursor: pointer;\n",
              "      display: none;\n",
              "      fill: #1967D2;\n",
              "      height: 32px;\n",
              "      padding: 0 0 0 0;\n",
              "      width: 32px;\n",
              "    }\n",
              "\n",
              "    .colab-df-convert:hover {\n",
              "      background-color: #E2EBFA;\n",
              "      box-shadow: 0px 1px 2px rgba(60, 64, 67, 0.3), 0px 1px 3px 1px rgba(60, 64, 67, 0.15);\n",
              "      fill: #174EA6;\n",
              "    }\n",
              "\n",
              "    [theme=dark] .colab-df-convert {\n",
              "      background-color: #3B4455;\n",
              "      fill: #D2E3FC;\n",
              "    }\n",
              "\n",
              "    [theme=dark] .colab-df-convert:hover {\n",
              "      background-color: #434B5C;\n",
              "      box-shadow: 0px 1px 3px 1px rgba(0, 0, 0, 0.15);\n",
              "      filter: drop-shadow(0px 1px 2px rgba(0, 0, 0, 0.3));\n",
              "      fill: #FFFFFF;\n",
              "    }\n",
              "  </style>\n",
              "\n",
              "      <script>\n",
              "        const buttonEl =\n",
              "          document.querySelector('#df-d13a2e6a-9108-40c0-890f-298ea7963d58 button.colab-df-convert');\n",
              "        buttonEl.style.display =\n",
              "          google.colab.kernel.accessAllowed ? 'block' : 'none';\n",
              "\n",
              "        async function convertToInteractive(key) {\n",
              "          const element = document.querySelector('#df-d13a2e6a-9108-40c0-890f-298ea7963d58');\n",
              "          const dataTable =\n",
              "            await google.colab.kernel.invokeFunction('convertToInteractive',\n",
              "                                                     [key], {});\n",
              "          if (!dataTable) return;\n",
              "\n",
              "          const docLinkHtml = 'Like what you see? Visit the ' +\n",
              "            '<a target=\"_blank\" href=https://colab.research.google.com/notebooks/data_table.ipynb>data table notebook</a>'\n",
              "            + ' to learn more about interactive tables.';\n",
              "          element.innerHTML = '';\n",
              "          dataTable['output_type'] = 'display_data';\n",
              "          await google.colab.output.renderOutput(dataTable, element);\n",
              "          const docLink = document.createElement('div');\n",
              "          docLink.innerHTML = docLinkHtml;\n",
              "          element.appendChild(docLink);\n",
              "        }\n",
              "      </script>\n",
              "    </div>\n",
              "  </div>\n",
              "  "
            ]
          },
          "metadata": {},
          "execution_count": 9
        }
      ]
    },
    {
      "cell_type": "markdown",
      "source": [
        "データ整理"
      ],
      "metadata": {
        "id": "zfECU_jNIymp"
      }
    },
    {
      "cell_type": "code",
      "source": [
        "# 各列の中身が何種類あるかを表示し、1種類しか持たないものを[]に表示\n",
        "collist = []\n",
        "for colname in train_df.columns:\n",
        "  lencol = len(train_df[colname].unique())\n",
        "  print(colname,lencol)\n",
        "  if lencol == 1 and colname != '取引価格（総額）_log':\n",
        "    collist.append(colname)\n",
        "\n",
        "print(collist)"
      ],
      "metadata": {
        "colab": {
          "base_uri": "https://localhost:8080/"
        },
        "id": "aYCEA3KEI0M_",
        "outputId": "a370dbc3-c121-4daf-dfda-fada94695ea6"
      },
      "execution_count": 16,
      "outputs": [
        {
          "output_type": "stream",
          "name": "stdout",
          "text": [
            "ID 692882\n",
            "種類 1\n",
            "地域 1\n",
            "市区町村コード 619\n",
            "都道府県名 47\n",
            "市区町村名 619\n",
            "地区名 12136\n",
            "最寄駅：名称 3859\n",
            "最寄駅：距離（分） 46\n",
            "間取り 64\n",
            "面積（㎡） 208\n",
            "土地の形状 1\n",
            "間口 1\n",
            "延床面積（㎡） 1\n",
            "建築年 78\n",
            "建物の構造 13\n",
            "用途 23\n",
            "今後の利用目的 5\n",
            "前面道路：方位 1\n",
            "前面道路：種類 1\n",
            "前面道路：幅員（ｍ） 1\n",
            "都市計画 17\n",
            "建ぺい率（％） 7\n",
            "容積率（％） 18\n",
            "取引時点 62\n",
            "改装 3\n",
            "取引の事情等 10\n",
            "取引価格（総額）_log 382\n",
            "['種類', '地域', '土地の形状', '間口', '延床面積（㎡）', '前面道路：方位', '前面道路：種類', '前面道路：幅員（ｍ）']\n"
          ]
        }
      ]
    },
    {
      "cell_type": "code",
      "source": [
        "#上記の特徴量を排除\n",
        "train_df = train_df.drop(['種類', '地域', '土地の形状', '間口', '延床面積（㎡）', '前面道路：方位', '前面道路：種類', '前面道路：幅員（ｍ）'],axis = 1)\n",
        "test_df = test_df.drop(['種類', '地域', '土地の形状', '間口', '延床面積（㎡）', '前面道路：方位', '前面道路：種類', '前面道路：幅員（ｍ）'],axis = 1)"
      ],
      "metadata": {
        "id": "9kCNbeV_Juoy"
      },
      "execution_count": null,
      "outputs": []
    },
    {
      "cell_type": "code",
      "metadata": {
        "id": "B6UWeBQqpRgb"
      },
      "source": [
        "#和暦変換の無名関数\n",
        "def convert_wareki_to_seireki(wareki):\n",
        "    if wareki == wareki:\n",
        "        if wareki == '戦前':\n",
        "            wareki = '昭和20年'\n",
        "        value = wareki[2:-1]\n",
        "        if value == '元':\n",
        "            value = 1\n",
        "        else:\n",
        "            value = int(value)\n",
        "        if '昭和' in wareki:\n",
        "            seireki = 1925+value\n",
        "        elif '平成' in wareki:\n",
        "            seireki = 1988+value\n",
        "        elif '令和' in wareki:\n",
        "            seireki = 2018+value\n",
        "    else:\n",
        "        seireki = wareki\n",
        "    return seireki"
      ],
      "execution_count": 56,
      "outputs": []
    },
    {
      "cell_type": "code",
      "metadata": {
        "id": "HOI6X5MjpRgb"
      },
      "source": [
        "#面積を変換する無名関数\n",
        "def normalize_area(area):\n",
        "    if area == area:\n",
        "        area = int(re.sub('m\\^2未満|㎡以上', '', str(area)))\n",
        "    return area"
      ],
      "execution_count": 57,
      "outputs": []
    },
    {
      "cell_type": "code",
      "metadata": {
        "id": "444i0jHmpRgb"
      },
      "source": [
        "#最寄り駅からの距離を変換する無名関数\n",
        "def normalize_moyori(moyori):\n",
        "    if moyori == moyori:\n",
        "        if moyori == '30分?60分':\n",
        "            moyori = 45\n",
        "        elif moyori == '1H?1H30':\n",
        "            moyori = 75\n",
        "        elif moyori == '1H30?2H':\n",
        "            moyori = 105\n",
        "        elif moyori == '2H?':\n",
        "            moyori = 120\n",
        "        moyori = int(float(moyori))\n",
        "    return moyori"
      ],
      "execution_count": 58,
      "outputs": []
    },
    {
      "cell_type": "code",
      "metadata": {
        "id": "BTrJ3EC_pRgf"
      },
      "source": [
        "train_df['取引時点_何年前'] = train_df['取引時点'].apply(lambda x: 2021-int(x[:4]))\n",
        "train_df.drop(['取引時点'], axis=1, inplace=True)\n",
        "train_df['建築年'] = train_df['建築年'].apply(lambda x: convert_wareki_to_seireki(x))\n",
        "train_df['面積（㎡）'] = train_df['面積（㎡）'].apply(lambda x: normalize_area(x))\n",
        "train_df['最寄駅：距離（分）'] = train_df['最寄駅：距離（分）'].apply(lambda x: normalize_moyori(x))"
      ],
      "execution_count": 63,
      "outputs": []
    },
    {
      "cell_type": "code",
      "source": [
        "train_df.head(1)"
      ],
      "metadata": {
        "colab": {
          "base_uri": "https://localhost:8080/",
          "height": 281
        },
        "id": "7CCLOeo3PAK0",
        "outputId": "6e31c1ee-ba76-453c-bcdd-45c6700064ab"
      },
      "execution_count": 55,
      "outputs": [
        {
          "output_type": "execute_result",
          "data": {
            "text/plain": [
              "        ID  市区町村コード 都道府県名 市区町村名 地区名 最寄駅：名称 最寄駅：距離（分）  間取り 面積（㎡）     建築年 建物の構造  \\\n",
              "0  2012820     2201   青森県   青森市  本町     青森        16  ２ＤＫ    50  1986.0   ＳＲＣ   \n",
              "\n",
              "   用途 今後の利用目的  都市計画  建ぺい率（％）  容積率（％）   改装 取引の事情等  取引価格（総額）_log  取引時点_何年前  \n",
              "0  住宅     NaN  商業地域     80.0   400.0  改装済    NaN      6.875061        11  "
            ],
            "text/html": [
              "\n",
              "  <div id=\"df-3179e6b2-4fe5-403c-b34f-f0defb815861\">\n",
              "    <div class=\"colab-df-container\">\n",
              "      <div>\n",
              "<style scoped>\n",
              "    .dataframe tbody tr th:only-of-type {\n",
              "        vertical-align: middle;\n",
              "    }\n",
              "\n",
              "    .dataframe tbody tr th {\n",
              "        vertical-align: top;\n",
              "    }\n",
              "\n",
              "    .dataframe thead th {\n",
              "        text-align: right;\n",
              "    }\n",
              "</style>\n",
              "<table border=\"1\" class=\"dataframe\">\n",
              "  <thead>\n",
              "    <tr style=\"text-align: right;\">\n",
              "      <th></th>\n",
              "      <th>ID</th>\n",
              "      <th>市区町村コード</th>\n",
              "      <th>都道府県名</th>\n",
              "      <th>市区町村名</th>\n",
              "      <th>地区名</th>\n",
              "      <th>最寄駅：名称</th>\n",
              "      <th>最寄駅：距離（分）</th>\n",
              "      <th>間取り</th>\n",
              "      <th>面積（㎡）</th>\n",
              "      <th>建築年</th>\n",
              "      <th>建物の構造</th>\n",
              "      <th>用途</th>\n",
              "      <th>今後の利用目的</th>\n",
              "      <th>都市計画</th>\n",
              "      <th>建ぺい率（％）</th>\n",
              "      <th>容積率（％）</th>\n",
              "      <th>改装</th>\n",
              "      <th>取引の事情等</th>\n",
              "      <th>取引価格（総額）_log</th>\n",
              "      <th>取引時点_何年前</th>\n",
              "    </tr>\n",
              "  </thead>\n",
              "  <tbody>\n",
              "    <tr>\n",
              "      <th>0</th>\n",
              "      <td>2012820</td>\n",
              "      <td>2201</td>\n",
              "      <td>青森県</td>\n",
              "      <td>青森市</td>\n",
              "      <td>本町</td>\n",
              "      <td>青森</td>\n",
              "      <td>16</td>\n",
              "      <td>２ＤＫ</td>\n",
              "      <td>50</td>\n",
              "      <td>1986.0</td>\n",
              "      <td>ＳＲＣ</td>\n",
              "      <td>住宅</td>\n",
              "      <td>NaN</td>\n",
              "      <td>商業地域</td>\n",
              "      <td>80.0</td>\n",
              "      <td>400.0</td>\n",
              "      <td>改装済</td>\n",
              "      <td>NaN</td>\n",
              "      <td>6.875061</td>\n",
              "      <td>11</td>\n",
              "    </tr>\n",
              "  </tbody>\n",
              "</table>\n",
              "</div>\n",
              "      <button class=\"colab-df-convert\" onclick=\"convertToInteractive('df-3179e6b2-4fe5-403c-b34f-f0defb815861')\"\n",
              "              title=\"Convert this dataframe to an interactive table.\"\n",
              "              style=\"display:none;\">\n",
              "        \n",
              "  <svg xmlns=\"http://www.w3.org/2000/svg\" height=\"24px\"viewBox=\"0 0 24 24\"\n",
              "       width=\"24px\">\n",
              "    <path d=\"M0 0h24v24H0V0z\" fill=\"none\"/>\n",
              "    <path d=\"M18.56 5.44l.94 2.06.94-2.06 2.06-.94-2.06-.94-.94-2.06-.94 2.06-2.06.94zm-11 1L8.5 8.5l.94-2.06 2.06-.94-2.06-.94L8.5 2.5l-.94 2.06-2.06.94zm10 10l.94 2.06.94-2.06 2.06-.94-2.06-.94-.94-2.06-.94 2.06-2.06.94z\"/><path d=\"M17.41 7.96l-1.37-1.37c-.4-.4-.92-.59-1.43-.59-.52 0-1.04.2-1.43.59L10.3 9.45l-7.72 7.72c-.78.78-.78 2.05 0 2.83L4 21.41c.39.39.9.59 1.41.59.51 0 1.02-.2 1.41-.59l7.78-7.78 2.81-2.81c.8-.78.8-2.07 0-2.86zM5.41 20L4 18.59l7.72-7.72 1.47 1.35L5.41 20z\"/>\n",
              "  </svg>\n",
              "      </button>\n",
              "      \n",
              "  <style>\n",
              "    .colab-df-container {\n",
              "      display:flex;\n",
              "      flex-wrap:wrap;\n",
              "      gap: 12px;\n",
              "    }\n",
              "\n",
              "    .colab-df-convert {\n",
              "      background-color: #E8F0FE;\n",
              "      border: none;\n",
              "      border-radius: 50%;\n",
              "      cursor: pointer;\n",
              "      display: none;\n",
              "      fill: #1967D2;\n",
              "      height: 32px;\n",
              "      padding: 0 0 0 0;\n",
              "      width: 32px;\n",
              "    }\n",
              "\n",
              "    .colab-df-convert:hover {\n",
              "      background-color: #E2EBFA;\n",
              "      box-shadow: 0px 1px 2px rgba(60, 64, 67, 0.3), 0px 1px 3px 1px rgba(60, 64, 67, 0.15);\n",
              "      fill: #174EA6;\n",
              "    }\n",
              "\n",
              "    [theme=dark] .colab-df-convert {\n",
              "      background-color: #3B4455;\n",
              "      fill: #D2E3FC;\n",
              "    }\n",
              "\n",
              "    [theme=dark] .colab-df-convert:hover {\n",
              "      background-color: #434B5C;\n",
              "      box-shadow: 0px 1px 3px 1px rgba(0, 0, 0, 0.15);\n",
              "      filter: drop-shadow(0px 1px 2px rgba(0, 0, 0, 0.3));\n",
              "      fill: #FFFFFF;\n",
              "    }\n",
              "  </style>\n",
              "\n",
              "      <script>\n",
              "        const buttonEl =\n",
              "          document.querySelector('#df-3179e6b2-4fe5-403c-b34f-f0defb815861 button.colab-df-convert');\n",
              "        buttonEl.style.display =\n",
              "          google.colab.kernel.accessAllowed ? 'block' : 'none';\n",
              "\n",
              "        async function convertToInteractive(key) {\n",
              "          const element = document.querySelector('#df-3179e6b2-4fe5-403c-b34f-f0defb815861');\n",
              "          const dataTable =\n",
              "            await google.colab.kernel.invokeFunction('convertToInteractive',\n",
              "                                                     [key], {});\n",
              "          if (!dataTable) return;\n",
              "\n",
              "          const docLinkHtml = 'Like what you see? Visit the ' +\n",
              "            '<a target=\"_blank\" href=https://colab.research.google.com/notebooks/data_table.ipynb>data table notebook</a>'\n",
              "            + ' to learn more about interactive tables.';\n",
              "          element.innerHTML = '';\n",
              "          dataTable['output_type'] = 'display_data';\n",
              "          await google.colab.output.renderOutput(dataTable, element);\n",
              "          const docLink = document.createElement('div');\n",
              "          docLink.innerHTML = docLinkHtml;\n",
              "          element.appendChild(docLink);\n",
              "        }\n",
              "      </script>\n",
              "    </div>\n",
              "  </div>\n",
              "  "
            ]
          },
          "metadata": {},
          "execution_count": 55
        }
      ]
    },
    {
      "cell_type": "code",
      "source": [
        "#特徴量がobject形式のものを抽出\n",
        "object_df=train_df.select_dtypes(include='object')\n",
        "object_df.head(1)"
      ],
      "metadata": {
        "colab": {
          "base_uri": "https://localhost:8080/",
          "height": 81
        },
        "id": "7_TxVQ_iMJMt",
        "outputId": "7e838590-3b39-45e6-c852-6bf057ad7758"
      },
      "execution_count": 64,
      "outputs": [
        {
          "output_type": "execute_result",
          "data": {
            "text/plain": [
              "  都道府県名 市区町村名 地区名 最寄駅：名称  間取り 建物の構造  用途 今後の利用目的  都市計画   改装 取引の事情等\n",
              "0   青森県   青森市  本町     青森  ２ＤＫ   ＳＲＣ  住宅     NaN  商業地域  改装済    NaN"
            ],
            "text/html": [
              "\n",
              "  <div id=\"df-59075289-70cf-4130-bdc3-cd3640c976a1\">\n",
              "    <div class=\"colab-df-container\">\n",
              "      <div>\n",
              "<style scoped>\n",
              "    .dataframe tbody tr th:only-of-type {\n",
              "        vertical-align: middle;\n",
              "    }\n",
              "\n",
              "    .dataframe tbody tr th {\n",
              "        vertical-align: top;\n",
              "    }\n",
              "\n",
              "    .dataframe thead th {\n",
              "        text-align: right;\n",
              "    }\n",
              "</style>\n",
              "<table border=\"1\" class=\"dataframe\">\n",
              "  <thead>\n",
              "    <tr style=\"text-align: right;\">\n",
              "      <th></th>\n",
              "      <th>都道府県名</th>\n",
              "      <th>市区町村名</th>\n",
              "      <th>地区名</th>\n",
              "      <th>最寄駅：名称</th>\n",
              "      <th>間取り</th>\n",
              "      <th>建物の構造</th>\n",
              "      <th>用途</th>\n",
              "      <th>今後の利用目的</th>\n",
              "      <th>都市計画</th>\n",
              "      <th>改装</th>\n",
              "      <th>取引の事情等</th>\n",
              "    </tr>\n",
              "  </thead>\n",
              "  <tbody>\n",
              "    <tr>\n",
              "      <th>0</th>\n",
              "      <td>青森県</td>\n",
              "      <td>青森市</td>\n",
              "      <td>本町</td>\n",
              "      <td>青森</td>\n",
              "      <td>２ＤＫ</td>\n",
              "      <td>ＳＲＣ</td>\n",
              "      <td>住宅</td>\n",
              "      <td>NaN</td>\n",
              "      <td>商業地域</td>\n",
              "      <td>改装済</td>\n",
              "      <td>NaN</td>\n",
              "    </tr>\n",
              "  </tbody>\n",
              "</table>\n",
              "</div>\n",
              "      <button class=\"colab-df-convert\" onclick=\"convertToInteractive('df-59075289-70cf-4130-bdc3-cd3640c976a1')\"\n",
              "              title=\"Convert this dataframe to an interactive table.\"\n",
              "              style=\"display:none;\">\n",
              "        \n",
              "  <svg xmlns=\"http://www.w3.org/2000/svg\" height=\"24px\"viewBox=\"0 0 24 24\"\n",
              "       width=\"24px\">\n",
              "    <path d=\"M0 0h24v24H0V0z\" fill=\"none\"/>\n",
              "    <path d=\"M18.56 5.44l.94 2.06.94-2.06 2.06-.94-2.06-.94-.94-2.06-.94 2.06-2.06.94zm-11 1L8.5 8.5l.94-2.06 2.06-.94-2.06-.94L8.5 2.5l-.94 2.06-2.06.94zm10 10l.94 2.06.94-2.06 2.06-.94-2.06-.94-.94-2.06-.94 2.06-2.06.94z\"/><path d=\"M17.41 7.96l-1.37-1.37c-.4-.4-.92-.59-1.43-.59-.52 0-1.04.2-1.43.59L10.3 9.45l-7.72 7.72c-.78.78-.78 2.05 0 2.83L4 21.41c.39.39.9.59 1.41.59.51 0 1.02-.2 1.41-.59l7.78-7.78 2.81-2.81c.8-.78.8-2.07 0-2.86zM5.41 20L4 18.59l7.72-7.72 1.47 1.35L5.41 20z\"/>\n",
              "  </svg>\n",
              "      </button>\n",
              "      \n",
              "  <style>\n",
              "    .colab-df-container {\n",
              "      display:flex;\n",
              "      flex-wrap:wrap;\n",
              "      gap: 12px;\n",
              "    }\n",
              "\n",
              "    .colab-df-convert {\n",
              "      background-color: #E8F0FE;\n",
              "      border: none;\n",
              "      border-radius: 50%;\n",
              "      cursor: pointer;\n",
              "      display: none;\n",
              "      fill: #1967D2;\n",
              "      height: 32px;\n",
              "      padding: 0 0 0 0;\n",
              "      width: 32px;\n",
              "    }\n",
              "\n",
              "    .colab-df-convert:hover {\n",
              "      background-color: #E2EBFA;\n",
              "      box-shadow: 0px 1px 2px rgba(60, 64, 67, 0.3), 0px 1px 3px 1px rgba(60, 64, 67, 0.15);\n",
              "      fill: #174EA6;\n",
              "    }\n",
              "\n",
              "    [theme=dark] .colab-df-convert {\n",
              "      background-color: #3B4455;\n",
              "      fill: #D2E3FC;\n",
              "    }\n",
              "\n",
              "    [theme=dark] .colab-df-convert:hover {\n",
              "      background-color: #434B5C;\n",
              "      box-shadow: 0px 1px 3px 1px rgba(0, 0, 0, 0.15);\n",
              "      filter: drop-shadow(0px 1px 2px rgba(0, 0, 0, 0.3));\n",
              "      fill: #FFFFFF;\n",
              "    }\n",
              "  </style>\n",
              "\n",
              "      <script>\n",
              "        const buttonEl =\n",
              "          document.querySelector('#df-59075289-70cf-4130-bdc3-cd3640c976a1 button.colab-df-convert');\n",
              "        buttonEl.style.display =\n",
              "          google.colab.kernel.accessAllowed ? 'block' : 'none';\n",
              "\n",
              "        async function convertToInteractive(key) {\n",
              "          const element = document.querySelector('#df-59075289-70cf-4130-bdc3-cd3640c976a1');\n",
              "          const dataTable =\n",
              "            await google.colab.kernel.invokeFunction('convertToInteractive',\n",
              "                                                     [key], {});\n",
              "          if (!dataTable) return;\n",
              "\n",
              "          const docLinkHtml = 'Like what you see? Visit the ' +\n",
              "            '<a target=\"_blank\" href=https://colab.research.google.com/notebooks/data_table.ipynb>data table notebook</a>'\n",
              "            + ' to learn more about interactive tables.';\n",
              "          element.innerHTML = '';\n",
              "          dataTable['output_type'] = 'display_data';\n",
              "          await google.colab.output.renderOutput(dataTable, element);\n",
              "          const docLink = document.createElement('div');\n",
              "          docLink.innerHTML = docLinkHtml;\n",
              "          element.appendChild(docLink);\n",
              "        }\n",
              "      </script>\n",
              "    </div>\n",
              "  </div>\n",
              "  "
            ]
          },
          "metadata": {},
          "execution_count": 64
        }
      ]
    },
    {
      "cell_type": "code",
      "source": [
        ""
      ],
      "metadata": {
        "id": "pEtY2XlNNy2Q"
      },
      "execution_count": null,
      "outputs": []
    }
  ]
}